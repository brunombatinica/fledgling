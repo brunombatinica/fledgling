{
 "cells": [
  {
   "cell_type": "markdown",
   "metadata": {},
   "source": [
    "Financial audit \n"
   ]
  },
  {
   "cell_type": "code",
   "execution_count": 6,
   "metadata": {},
   "outputs": [],
   "source": [
    "import plotly\n",
    "import matplotlib as mpl\n",
    "from matplotlib import pyplot as plt\n",
    "\n",
    "import pandas as pd\n",
    "import plotly.graph_objects as go\n",
    "import numpy as np\n"
   ]
  },
  {
   "cell_type": "code",
   "execution_count": 7,
   "metadata": {},
   "outputs": [
    {
     "data": {
      "text/html": [
       "<div>\n",
       "<style scoped>\n",
       "    .dataframe tbody tr th:only-of-type {\n",
       "        vertical-align: middle;\n",
       "    }\n",
       "\n",
       "    .dataframe tbody tr th {\n",
       "        vertical-align: top;\n",
       "    }\n",
       "\n",
       "    .dataframe thead th {\n",
       "        text-align: right;\n",
       "    }\n",
       "</style>\n",
       "<table border=\"1\" class=\"dataframe\">\n",
       "  <thead>\n",
       "    <tr style=\"text-align: right;\">\n",
       "      <th></th>\n",
       "      <th>n1</th>\n",
       "      <th>n2</th>\n",
       "      <th>n3</th>\n",
       "      <th>n4</th>\n",
       "      <th>n5</th>\n",
       "      <th>Total</th>\n",
       "      <th>Amount</th>\n",
       "      <th>Cat1</th>\n",
       "      <th>Cat2</th>\n",
       "      <th>Unnamed: 9</th>\n",
       "    </tr>\n",
       "  </thead>\n",
       "  <tbody>\n",
       "    <tr>\n",
       "      <th>0</th>\n",
       "      <td>07/01/2024</td>\n",
       "      <td>2024010701</td>\n",
       "      <td>EFTPOS</td>\n",
       "      <td>Toni'sPizzeriaAuckland</td>\n",
       "      <td>EFTPOS</td>\n",
       "      <td>441.00</td>\n",
       "      <td>-33.00</td>\n",
       "      <td>food</td>\n",
       "      <td>restaurant</td>\n",
       "      <td>tonis</td>\n",
       "    </tr>\n",
       "    <tr>\n",
       "      <th>1</th>\n",
       "      <td>07/01/2024</td>\n",
       "      <td>2024010702</td>\n",
       "      <td>EFTPOS</td>\n",
       "      <td>Toni'sPizzeriaAuckland</td>\n",
       "      <td>EFTPOS</td>\n",
       "      <td>439.00</td>\n",
       "      <td>-2.00</td>\n",
       "      <td>food</td>\n",
       "      <td>restaurant</td>\n",
       "      <td>tonis</td>\n",
       "    </tr>\n",
       "    <tr>\n",
       "      <th>2</th>\n",
       "      <td>07/01/2024</td>\n",
       "      <td>2024010703</td>\n",
       "      <td>D/C</td>\n",
       "      <td>D/CFROMFromMISSJIYUNPARK</td>\n",
       "      <td>xmas</td>\n",
       "      <td>539.00</td>\n",
       "      <td>100.00</td>\n",
       "      <td>jennifer</td>\n",
       "      <td>notspecified</td>\n",
       "      <td>notspecified</td>\n",
       "    </tr>\n",
       "    <tr>\n",
       "      <th>3</th>\n",
       "      <td>07/01/2024</td>\n",
       "      <td>2024010704</td>\n",
       "      <td>EFTPOS</td>\n",
       "      <td>ZMtAlbertAuckland</td>\n",
       "      <td>EFTPOS</td>\n",
       "      <td>481.29</td>\n",
       "      <td>-57.71</td>\n",
       "      <td>transport</td>\n",
       "      <td>fuel</td>\n",
       "      <td>notspecified</td>\n",
       "    </tr>\n",
       "    <tr>\n",
       "      <th>4</th>\n",
       "      <td>08/01/2024</td>\n",
       "      <td>2024010801</td>\n",
       "      <td>D/C</td>\n",
       "      <td>D/CFROMFromMISSJIYUNPARK</td>\n",
       "      <td>rentdonation</td>\n",
       "      <td>1981.29</td>\n",
       "      <td>1500.00</td>\n",
       "      <td>jennifer</td>\n",
       "      <td>notspecified</td>\n",
       "      <td>notspecified</td>\n",
       "    </tr>\n",
       "    <tr>\n",
       "      <th>...</th>\n",
       "      <td>...</td>\n",
       "      <td>...</td>\n",
       "      <td>...</td>\n",
       "      <td>...</td>\n",
       "      <td>...</td>\n",
       "      <td>...</td>\n",
       "      <td>...</td>\n",
       "      <td>...</td>\n",
       "      <td>...</td>\n",
       "      <td>...</td>\n",
       "    </tr>\n",
       "    <tr>\n",
       "      <th>667</th>\n",
       "      <td>16/11/2024</td>\n",
       "      <td>2024111602</td>\n",
       "      <td>D/C</td>\n",
       "      <td>D/CFROMFromMISSJIYUNPARK</td>\n",
       "      <td>rent</td>\n",
       "      <td>9207.48</td>\n",
       "      <td>918.53</td>\n",
       "      <td>jennifer</td>\n",
       "      <td>notspecified</td>\n",
       "      <td>notspecified</td>\n",
       "    </tr>\n",
       "    <tr>\n",
       "      <th>668</th>\n",
       "      <td>16/11/2024</td>\n",
       "      <td>2024111603</td>\n",
       "      <td>DEBIT</td>\n",
       "      <td>DEBIT</td>\n",
       "      <td>IMTUSD1152.20MCRMCRMCR</td>\n",
       "      <td>7202.48</td>\n",
       "      <td>-2005.00</td>\n",
       "      <td>activities</td>\n",
       "      <td>mcr</td>\n",
       "      <td>notspecified</td>\n",
       "    </tr>\n",
       "    <tr>\n",
       "      <th>669</th>\n",
       "      <td>16/11/2024</td>\n",
       "      <td>2024111604</td>\n",
       "      <td>EFTPOS</td>\n",
       "      <td>TEND.NZAUCKLAND</td>\n",
       "      <td>EFTPOS</td>\n",
       "      <td>7173.48</td>\n",
       "      <td>-29.00</td>\n",
       "      <td>misc</td>\n",
       "      <td>doctor</td>\n",
       "      <td>notspecified</td>\n",
       "    </tr>\n",
       "    <tr>\n",
       "      <th>670</th>\n",
       "      <td>16/11/2024</td>\n",
       "      <td>2024111605</td>\n",
       "      <td>EFTPOS</td>\n",
       "      <td>UBER*TRIPCHRISTCHURCH</td>\n",
       "      <td>EFTPOS</td>\n",
       "      <td>7157.05</td>\n",
       "      <td>-16.43</td>\n",
       "      <td>transport</td>\n",
       "      <td>uber</td>\n",
       "      <td>notspecified</td>\n",
       "    </tr>\n",
       "    <tr>\n",
       "      <th>671</th>\n",
       "      <td>16/11/2024</td>\n",
       "      <td>2024111608</td>\n",
       "      <td>EFTPOS</td>\n",
       "      <td>PAYPAL*LABORATORIE4029357733</td>\n",
       "      <td>EFTPOS</td>\n",
       "      <td>7120.80</td>\n",
       "      <td>-36.25</td>\n",
       "      <td>misc</td>\n",
       "      <td>haircut</td>\n",
       "      <td>notspecified</td>\n",
       "    </tr>\n",
       "  </tbody>\n",
       "</table>\n",
       "<p>672 rows × 10 columns</p>\n",
       "</div>"
      ],
      "text/plain": [
       "             n1          n2      n3                            n4  \\\n",
       "0    07/01/2024  2024010701  EFTPOS        Toni'sPizzeriaAuckland   \n",
       "1    07/01/2024  2024010702  EFTPOS        Toni'sPizzeriaAuckland   \n",
       "2    07/01/2024  2024010703     D/C      D/CFROMFromMISSJIYUNPARK   \n",
       "3    07/01/2024  2024010704  EFTPOS             ZMtAlbertAuckland   \n",
       "4    08/01/2024  2024010801     D/C      D/CFROMFromMISSJIYUNPARK   \n",
       "..          ...         ...     ...                           ...   \n",
       "667  16/11/2024  2024111602     D/C      D/CFROMFromMISSJIYUNPARK   \n",
       "668  16/11/2024  2024111603   DEBIT                         DEBIT   \n",
       "669  16/11/2024  2024111604  EFTPOS               TEND.NZAUCKLAND   \n",
       "670  16/11/2024  2024111605  EFTPOS         UBER*TRIPCHRISTCHURCH   \n",
       "671  16/11/2024  2024111608  EFTPOS  PAYPAL*LABORATORIE4029357733   \n",
       "\n",
       "                         n5    Total   Amount        Cat1          Cat2  \\\n",
       "0                    EFTPOS   441.00   -33.00        food    restaurant   \n",
       "1                    EFTPOS   439.00    -2.00        food    restaurant   \n",
       "2                      xmas   539.00   100.00    jennifer  notspecified   \n",
       "3                    EFTPOS   481.29   -57.71   transport          fuel   \n",
       "4              rentdonation  1981.29  1500.00    jennifer  notspecified   \n",
       "..                      ...      ...      ...         ...           ...   \n",
       "667                    rent  9207.48   918.53    jennifer  notspecified   \n",
       "668  IMTUSD1152.20MCRMCRMCR  7202.48 -2005.00  activities           mcr   \n",
       "669                  EFTPOS  7173.48   -29.00        misc        doctor   \n",
       "670                  EFTPOS  7157.05   -16.43   transport          uber   \n",
       "671                  EFTPOS  7120.80   -36.25        misc       haircut   \n",
       "\n",
       "       Unnamed: 9  \n",
       "0           tonis  \n",
       "1           tonis  \n",
       "2    notspecified  \n",
       "3    notspecified  \n",
       "4    notspecified  \n",
       "..            ...  \n",
       "667  notspecified  \n",
       "668  notspecified  \n",
       "669  notspecified  \n",
       "670  notspecified  \n",
       "671  notspecified  \n",
       "\n",
       "[672 rows x 10 columns]"
      ]
     },
     "execution_count": 7,
     "metadata": {},
     "output_type": "execute_result"
    }
   ],
   "source": [
    "data = pd.read_csv(\"C:/Users/bruno/OneDrive/Admin/Misc/FINANCIAL_AUDIT.csv\")\n",
    "\n",
    "#replace all NA \n",
    "data = data.fillna(\"notspecified\")\n",
    "\n",
    "#clean data replace all \" \" with \"\" even within strings\n",
    "data = data.replace(\" \", \"\", regex=True)\n",
    "\n",
    "# #select elements after jun 1st 2024\n",
    "# data['n1'] = pd.to_datetime(data['n1'],format=\"%d/%m/%Y\")\n",
    "# data = data[data['n1'] >= '2024-06-01']\n",
    "\n",
    "data"
   ]
  },
  {
   "cell_type": "code",
   "execution_count": 8,
   "metadata": {},
   "outputs": [
    {
     "name": "stdout",
     "output_type": "stream",
     "text": [
      "        target             source    Amount\n",
      "0          IRD             rebate   2524.33\n",
      "1         bond       notspecified   1750.00\n",
      "2     internal       notspecified    109.32\n",
      "3     jennifer               debt   3000.00\n",
      "4     jennifer           donation    700.00\n",
      "5     jennifer       notspecified   2518.53\n",
      "6     jennifer           usa_rent    530.00\n",
      "7         misc        pocketmoney   1200.00\n",
      "8         rent           jennfier    300.00\n",
      "9         rent      jennifer_rent   5100.00\n",
      "10        rent       notspecified    300.00\n",
      "11  rentrefund       notspecified    600.00\n",
      "12      salary       notspecified  49466.27\n",
      "13      salary      reimbursement   1632.24\n",
      "14    shopping       notspecified    140.00\n",
      "15      travel  jennifer_transfer    900.00\n",
      "16      travel       notspecified   2060.01\n",
      "       source    Amount        target\n",
      "0         IRD   2524.33  Total Income\n",
      "1        bond   1750.00  Total Income\n",
      "2    internal    109.32  Total Income\n",
      "3    jennifer   6748.53  Total Income\n",
      "4        misc   1200.00  Total Income\n",
      "5        rent   5700.00  Total Income\n",
      "6  rentrefund    600.00  Total Income\n",
      "7      salary  51098.51  Total Income\n",
      "8    shopping    140.00  Total Income\n",
      "9      travel   2960.01  Total Income\n",
      "         target    Amount        source\n",
      "0   activities_  -3789.11  Total Income\n",
      "1        admin_   -712.60  Total Income\n",
      "2         food_  -6780.02  Total Income\n",
      "3     jennifer_ -14086.60  Total Income\n",
      "4         misc_  -2968.17  Total Income\n",
      "5       monkey_  -3879.69  Total Income\n",
      "6         rent_ -15014.91  Total Income\n",
      "7     shopping_  -1953.46  Total Income\n",
      "8    transport_  -1851.36  Total Income\n",
      "9       travel_ -14596.21  Total Income\n",
      "10     usarent_   -551.77  Total Income\n",
      "         source         target   Amount\n",
      "0   activities_          date_  -305.21\n",
      "1   activities_          golf_   -30.00\n",
      "2   activities_     humpridge_ -1343.60\n",
      "3   activities_           mcr_ -2005.00\n",
      "4   activities_  notspecified_   -27.30\n",
      "..          ...            ...      ...\n",
      "78      travel_     insurance_  -158.26\n",
      "79      travel_  notspecified_ -7480.35\n",
      "80      travel_         plane_ -2040.20\n",
      "81      travel_   tickets_nov_ -2628.45\n",
      "82     usarent_  notspecified_  -551.77\n",
      "\n",
      "[83 rows x 3 columns]\n"
     ]
    }
   ],
   "source": [
    "# Separate income and expenses and generate the different levels\n",
    "income = data[data['Amount'] > 0]\n",
    "expenses = data[data['Amount'] < 0]\n",
    "\n",
    "# income first level\n",
    "income_l1 = income.groupby(['Cat1', 'Cat2'])['Amount'].sum().reset_index()\n",
    "income_l1.rename(columns={'Cat1': 'target', 'Cat2': 'source'}, inplace=True)\n",
    "print(income_l1)\n",
    "\n",
    "# income second level\n",
    "income_l2 = income.groupby(['Cat1'])['Amount'].sum().reset_index()\n",
    "income_l2.rename(columns={'Cat1': 'source'}, inplace=True)\n",
    "income_l2['target'] = 'Total Income'\n",
    "print(income_l2)\n",
    "\n",
    "#add a \"_\" to the cat1 and cat2 columns of expenses\n",
    "expenses.loc[:,'Cat1'] = expenses.loc[:,'Cat1'] + \"_\"\n",
    "expenses.loc[:,'Cat2'] = expenses.loc[:,'Cat2'] + \"_\"\n",
    "\n",
    "# expenses first level\n",
    "expenses_l1 = expenses.groupby(['Cat1'])['Amount'].sum().reset_index()\n",
    "expenses_l1.rename(columns={'Cat1': 'target'}, inplace=True)\n",
    "expenses_l1['source'] = 'Total Income'\n",
    "print(expenses_l1)\n",
    "\n",
    "# expenses second level\n",
    "expenses_l2 = expenses.groupby(['Cat1', 'Cat2'])['Amount'].sum().reset_index()\n",
    "expenses_l2.rename(columns={'Cat1': 'source', 'Cat2': 'target'}, inplace=True)\n",
    "print(expenses_l2)\n"
   ]
  },
  {
   "cell_type": "code",
   "execution_count": 9,
   "metadata": {},
   "outputs": [
    {
     "name": "stdout",
     "output_type": "stream",
     "text": [
      "['jennifer', 'misc', 'rent', 'shopping', 'salary', 'travel', 'internal', 'IRD', 'rentrefund', 'bond', 'notspecified', 'pocketmoney', 'jennifer_rent', 'reimbursement', 'debt', 'jennifer_transfer', 'donation', 'usa_rent', 'jennfier', 'rebate', 'food_', 'transport_', 'misc_', 'rent_', 'activities_', 'shopping_', 'jennifer_', 'travel_', 'usarent_', 'monkey_', 'admin_', 'restaurant_', 'fuel_', 'gym_', 'fastfood_', 'groceries_', 'notspecified_', 'parking_', 'utilities_', 'AT_', 'misc_', 'chatgpt_', 'tax_', 'treat_', 'date_', 'gift_', 'monitor_', 'chemist_', 'nl_', 'debt_', 'farmers_', 'unknown_', 'mecca_', 'game_', 'warehouse_', 'at_', 'jmart_', 'paganini_', 'printing_', 'dentist_', 'plane_', 'insurance_', 'whitcoulls_', 'massage_', 'ubereats_', '?_', 'uber_', 'haircut_', 'bill_', 'goshuttle_', 'train_', 'transfer_', 'rego_', 'bowl_', 'laundry_', 'kmart_', 'foodtransfer_', 'beam_', 'dress_', 'tickets_nov_', 'steam_', 'registration_', 'dyson_', 'flowers_', 'csanz_', 'RDA_', 'dresss_', 'wof_', '4cuts_', 'golf_', 'skyline_', 'vet_', 'usafee_', 'jetpets_', 'perfume_', 'humpridge_', 'rda_', 'immigrationflights_', 'eyemassage_', 'toy_', 'mcr_', 'doctor_', 'Total Income']\n"
     ]
    },
    {
     "data": {
      "application/vnd.plotly.v1+json": {
       "config": {
        "plotlyServerURL": "https://plot.ly"
       },
       "data": [
        {
         "link": {
          "color": [
           "rgba(83,14,141,0.5)",
           "rgba(203,47,255,0.5)",
           "rgba(88,66,119,0.5)",
           "rgba(38,233,3,0.5)",
           "rgba(216,96,150,0.5)",
           "rgba(38,31,212,0.5)",
           "rgba(57,241,96,0.5)",
           "rgba(156,46,237,0.5)",
           "rgba(223,59,235,0.5)",
           "rgba(98,15,208,0.5)",
           "rgba(243,240,197,0.5)",
           "rgba(129,239,200,0.5)",
           "rgba(118,124,75,0.5)",
           "rgba(168,68,84,0.5)",
           "rgba(230,106,162,0.5)",
           "rgba(55,120,75,0.5)",
           "rgba(155,220,181,0.5)",
           "rgba(112,22,209,0.5)",
           "rgba(90,2,25,0.5)",
           "rgba(194,173,206,0.5)",
           "rgba(118,152,131,0.5)",
           "rgba(2,136,136,0.5)",
           "rgba(237,245,32,0.5)",
           "rgba(88,169,174,0.5)",
           "rgba(89,20,174,0.5)",
           "rgba(97,108,248,0.5)",
           "rgba(89,204,253,0.5)",
           "rgba(114,242,4,0.5)",
           "rgba(186,78,236,0.5)",
           "rgba(169,124,38,0.5)",
           "rgba(108,84,80,0.5)",
           "rgba(32,232,182,0.5)",
           "rgba(190,164,204,0.5)",
           "rgba(12,181,108,0.5)",
           "rgba(38,204,32,0.5)",
           "rgba(27,5,196,0.5)",
           "rgba(0,167,106,0.5)",
           "rgba(43,157,181,0.5)",
           "rgba(126,16,19,0.5)",
           "rgba(242,85,181,0.5)",
           "rgba(0,119,32,0.5)",
           "rgba(124,158,204,0.5)",
           "rgba(238,231,228,0.5)",
           "rgba(96,34,221,0.5)",
           "rgba(34,63,185,0.5)",
           "rgba(165,199,33,0.5)",
           "rgba(89,197,8,0.5)",
           "rgba(70,61,159,0.5)",
           "rgba(73,33,208,0.5)",
           "rgba(3,75,215,0.5)",
           "rgba(237,23,126,0.5)",
           "rgba(186,161,195,0.5)",
           "rgba(130,111,217,0.5)",
           "rgba(1,67,80,0.5)",
           "rgba(35,252,113,0.5)",
           "rgba(167,126,237,0.5)",
           "rgba(68,242,13,0.5)",
           "rgba(236,72,244,0.5)",
           "rgba(16,210,222,0.5)",
           "rgba(208,31,11,0.5)",
           "rgba(51,93,158,0.5)",
           "rgba(16,66,154,0.5)",
           "rgba(52,8,102,0.5)",
           "rgba(179,162,241,0.5)",
           "rgba(125,141,128,0.5)",
           "rgba(70,167,55,0.5)",
           "rgba(178,201,178,0.5)",
           "rgba(56,234,73,0.5)",
           "rgba(107,0,68,0.5)",
           "rgba(92,7,48,0.5)",
           "rgba(230,245,4,0.5)",
           "rgba(144,138,127,0.5)",
           "rgba(228,236,184,0.5)",
           "rgba(7,155,155,0.5)",
           "rgba(230,74,94,0.5)",
           "rgba(174,89,84,0.5)",
           "rgba(207,223,169,0.5)",
           "rgba(230,92,2,0.5)",
           "rgba(34,232,178,0.5)",
           "rgba(237,48,249,0.5)",
           "rgba(85,106,87,0.5)",
           "rgba(117,133,20,0.5)",
           "rgba(10,79,109,0.5)",
           "rgba(203,19,32,0.5)",
           "rgba(20,182,78,0.5)",
           "rgba(130,32,151,0.5)",
           "rgba(244,144,109,0.5)",
           "rgba(131,118,13,0.5)",
           "rgba(255,184,28,0.5)",
           "rgba(113,105,91,0.5)",
           "rgba(226,83,50,0.5)",
           "rgba(245,176,159,0.5)",
           "rgba(210,175,148,0.5)",
           "rgba(79,110,195,0.5)",
           "rgba(75,131,148,0.5)",
           "rgba(201,159,25,0.5)",
           "rgba(243,229,137,0.5)",
           "rgba(58,35,184,0.5)",
           "rgba(93,251,229,0.5)",
           "rgba(144,69,118,0.5)",
           "rgba(61,28,32,0.5)",
           "rgba(181,37,103,0.5)",
           "rgba(26,78,244,0.5)",
           "rgba(249,98,132,0.5)",
           "rgba(76,182,34,0.5)",
           "rgba(203,142,200,0.5)",
           "rgba(186,9,43,0.5)",
           "rgba(61,65,150,0.5)",
           "rgba(50,28,78,0.5)",
           "rgba(162,117,56,0.5)",
           "rgba(157,85,19,0.5)",
           "rgba(234,4,63,0.5)",
           "rgba(142,140,48,0.5)",
           "rgba(166,75,229,0.5)",
           "rgba(36,109,251,0.5)",
           "rgba(88,177,9,0.5)",
           "rgba(84,76,47,0.5)",
           "rgba(88,183,85,0.5)",
           "rgba(42,86,158,0.5)",
           "rgba(70,229,46,0.5)",
           "rgba(234,135,107,0.5)"
          ],
          "source": [
           19,
           10,
           10,
           14,
           16,
           10,
           17,
           11,
           18,
           12,
           10,
           10,
           10,
           13,
           10,
           15,
           10,
           7,
           9,
           6,
           0,
           1,
           2,
           8,
           4,
           3,
           5,
           102,
           102,
           102,
           102,
           102,
           102,
           102,
           102,
           102,
           102,
           102,
           24,
           24,
           24,
           24,
           24,
           24,
           30,
           20,
           20,
           20,
           20,
           20,
           26,
           26,
           26,
           26,
           26,
           26,
           26,
           26,
           26,
           26,
           26,
           26,
           26,
           26,
           26,
           22,
           22,
           22,
           22,
           22,
           22,
           22,
           22,
           22,
           22,
           22,
           22,
           22,
           22,
           22,
           22,
           22,
           22,
           22,
           29,
           29,
           29,
           23,
           23,
           23,
           23,
           25,
           25,
           25,
           25,
           25,
           25,
           25,
           25,
           25,
           25,
           25,
           25,
           25,
           21,
           21,
           21,
           21,
           21,
           21,
           21,
           21,
           21,
           21,
           27,
           27,
           27,
           27,
           27,
           27,
           28
          ],
          "target": [
           7,
           9,
           6,
           0,
           0,
           0,
           0,
           1,
           2,
           2,
           2,
           8,
           4,
           4,
           3,
           5,
           5,
           102,
           102,
           102,
           102,
           102,
           102,
           102,
           102,
           102,
           102,
           24,
           30,
           20,
           26,
           22,
           29,
           23,
           25,
           21,
           27,
           28,
           44,
           89,
           95,
           100,
           36,
           90,
           92,
           34,
           35,
           31,
           43,
           64,
           65,
           49,
           78,
           86,
           82,
           98,
           83,
           76,
           45,
           61,
           63,
           22,
           94,
           99,
           71,
           88,
           65,
           85,
           41,
           84,
           59,
           101,
           53,
           33,
           67,
           61,
           74,
           36,
           58,
           96,
           81,
           80,
           42,
           51,
           73,
           93,
           91,
           68,
           22,
           36,
           38,
           47,
           50,
           35,
           56,
           75,
           52,
           22,
           46,
           48,
           36,
           57,
           54,
           62,
           39,
           55,
           77,
           32,
           22,
           37,
           72,
           70,
           66,
           87,
           69,
           97,
           61,
           36,
           60,
           79,
           36
          ],
          "value": [
           2524.33,
           1750,
           109.32,
           3000,
           700,
           2518.5299999999997,
           530,
           1200,
           300,
           5100,
           300,
           600,
           49466.27,
           1632.2399999999998,
           140,
           900,
           2060.01,
           2524.33,
           1750,
           109.32,
           6748.53,
           1200,
           5700,
           600,
           51098.51,
           140,
           2960.01,
           3789.11,
           712.6,
           6780.0199999999995,
           14086.6,
           2968.17,
           3879.69,
           15014.91,
           1953.46,
           1851.36,
           14596.21,
           551.77,
           305.21,
           30,
           1343.6,
           2005,
           27.3,
           78,
           712.6,
           1836,
           3390.93,
           933.08,
           578.32,
           41.69,
           1284.64,
           3200,
           637.5899999999999,
           211.74,
           536.55,
           101,
           346.14,
           325.94,
           213.3,
           432.06,
           143,
           65,
           119,
           40.64,
           6430,
           20.5,
           256.57,
           130.93,
           346.49,
           77,
           245,
           29,
           12.99,
           308.34000000000003,
           108.75,
           332.09,
           20,
           6.6,
           28.65,
           40,
           927.68,
           39.36,
           13.98,
           24.240000000000002,
           10.99,
           3670,
           198.7,
           40,
           1215,
           12961.2,
           798.7099999999999,
           382.23,
           184.82,
           140.06,
           17.97,
           1,
           63,
           6.99,
           600,
           23,
           181.96,
           69.46,
           255,
           27.97,
           40,
           40,
           27.03,
           973.27,
           2.6,
           58,
           106.15,
           420,
           99.65,
           84.66,
           227.75,
           2061.2,
           158.26,
           7480.35,
           2040.2,
           2628.45,
           551.77
          ]
         },
         "node": {
          "color": "blue",
          "label": [
           "jennifer",
           "misc",
           "rent",
           "shopping",
           "salary",
           "travel",
           "internal",
           "IRD",
           "rentrefund",
           "bond",
           "notspecified",
           "pocketmoney",
           "jennifer_rent",
           "reimbursement",
           "debt",
           "jennifer_transfer",
           "donation",
           "usa_rent",
           "jennfier",
           "rebate",
           "food_",
           "transport_",
           "misc_",
           "rent_",
           "activities_",
           "shopping_",
           "jennifer_",
           "travel_",
           "usarent_",
           "monkey_",
           "admin_",
           "restaurant_",
           "fuel_",
           "gym_",
           "fastfood_",
           "groceries_",
           "notspecified_",
           "parking_",
           "utilities_",
           "AT_",
           "misc_",
           "chatgpt_",
           "tax_",
           "treat_",
           "date_",
           "gift_",
           "monitor_",
           "chemist_",
           "nl_",
           "debt_",
           "farmers_",
           "unknown_",
           "mecca_",
           "game_",
           "warehouse_",
           "at_",
           "jmart_",
           "paganini_",
           "printing_",
           "dentist_",
           "plane_",
           "insurance_",
           "whitcoulls_",
           "massage_",
           "ubereats_",
           "?_",
           "uber_",
           "haircut_",
           "bill_",
           "goshuttle_",
           "train_",
           "transfer_",
           "rego_",
           "bowl_",
           "laundry_",
           "kmart_",
           "foodtransfer_",
           "beam_",
           "dress_",
           "tickets_nov_",
           "steam_",
           "registration_",
           "dyson_",
           "flowers_",
           "csanz_",
           "RDA_",
           "dresss_",
           "wof_",
           "4cuts_",
           "golf_",
           "skyline_",
           "vet_",
           "usafee_",
           "jetpets_",
           "perfume_",
           "humpridge_",
           "rda_",
           "immigrationflights_",
           "eyemassage_",
           "toy_",
           "mcr_",
           "doctor_",
           "Total Income"
          ],
          "line": {
           "color": "black",
           "width": 0.5
          },
          "pad": 15,
          "thickness": 20
         },
         "type": "sankey"
        }
       ],
       "layout": {
        "font": {
         "size": 10
        },
        "height": 800,
        "template": {
         "data": {
          "bar": [
           {
            "error_x": {
             "color": "#2a3f5f"
            },
            "error_y": {
             "color": "#2a3f5f"
            },
            "marker": {
             "line": {
              "color": "#E5ECF6",
              "width": 0.5
             },
             "pattern": {
              "fillmode": "overlay",
              "size": 10,
              "solidity": 0.2
             }
            },
            "type": "bar"
           }
          ],
          "barpolar": [
           {
            "marker": {
             "line": {
              "color": "#E5ECF6",
              "width": 0.5
             },
             "pattern": {
              "fillmode": "overlay",
              "size": 10,
              "solidity": 0.2
             }
            },
            "type": "barpolar"
           }
          ],
          "carpet": [
           {
            "aaxis": {
             "endlinecolor": "#2a3f5f",
             "gridcolor": "white",
             "linecolor": "white",
             "minorgridcolor": "white",
             "startlinecolor": "#2a3f5f"
            },
            "baxis": {
             "endlinecolor": "#2a3f5f",
             "gridcolor": "white",
             "linecolor": "white",
             "minorgridcolor": "white",
             "startlinecolor": "#2a3f5f"
            },
            "type": "carpet"
           }
          ],
          "choropleth": [
           {
            "colorbar": {
             "outlinewidth": 0,
             "ticks": ""
            },
            "type": "choropleth"
           }
          ],
          "contour": [
           {
            "colorbar": {
             "outlinewidth": 0,
             "ticks": ""
            },
            "colorscale": [
             [
              0,
              "#0d0887"
             ],
             [
              0.1111111111111111,
              "#46039f"
             ],
             [
              0.2222222222222222,
              "#7201a8"
             ],
             [
              0.3333333333333333,
              "#9c179e"
             ],
             [
              0.4444444444444444,
              "#bd3786"
             ],
             [
              0.5555555555555556,
              "#d8576b"
             ],
             [
              0.6666666666666666,
              "#ed7953"
             ],
             [
              0.7777777777777778,
              "#fb9f3a"
             ],
             [
              0.8888888888888888,
              "#fdca26"
             ],
             [
              1,
              "#f0f921"
             ]
            ],
            "type": "contour"
           }
          ],
          "contourcarpet": [
           {
            "colorbar": {
             "outlinewidth": 0,
             "ticks": ""
            },
            "type": "contourcarpet"
           }
          ],
          "heatmap": [
           {
            "colorbar": {
             "outlinewidth": 0,
             "ticks": ""
            },
            "colorscale": [
             [
              0,
              "#0d0887"
             ],
             [
              0.1111111111111111,
              "#46039f"
             ],
             [
              0.2222222222222222,
              "#7201a8"
             ],
             [
              0.3333333333333333,
              "#9c179e"
             ],
             [
              0.4444444444444444,
              "#bd3786"
             ],
             [
              0.5555555555555556,
              "#d8576b"
             ],
             [
              0.6666666666666666,
              "#ed7953"
             ],
             [
              0.7777777777777778,
              "#fb9f3a"
             ],
             [
              0.8888888888888888,
              "#fdca26"
             ],
             [
              1,
              "#f0f921"
             ]
            ],
            "type": "heatmap"
           }
          ],
          "heatmapgl": [
           {
            "colorbar": {
             "outlinewidth": 0,
             "ticks": ""
            },
            "colorscale": [
             [
              0,
              "#0d0887"
             ],
             [
              0.1111111111111111,
              "#46039f"
             ],
             [
              0.2222222222222222,
              "#7201a8"
             ],
             [
              0.3333333333333333,
              "#9c179e"
             ],
             [
              0.4444444444444444,
              "#bd3786"
             ],
             [
              0.5555555555555556,
              "#d8576b"
             ],
             [
              0.6666666666666666,
              "#ed7953"
             ],
             [
              0.7777777777777778,
              "#fb9f3a"
             ],
             [
              0.8888888888888888,
              "#fdca26"
             ],
             [
              1,
              "#f0f921"
             ]
            ],
            "type": "heatmapgl"
           }
          ],
          "histogram": [
           {
            "marker": {
             "pattern": {
              "fillmode": "overlay",
              "size": 10,
              "solidity": 0.2
             }
            },
            "type": "histogram"
           }
          ],
          "histogram2d": [
           {
            "colorbar": {
             "outlinewidth": 0,
             "ticks": ""
            },
            "colorscale": [
             [
              0,
              "#0d0887"
             ],
             [
              0.1111111111111111,
              "#46039f"
             ],
             [
              0.2222222222222222,
              "#7201a8"
             ],
             [
              0.3333333333333333,
              "#9c179e"
             ],
             [
              0.4444444444444444,
              "#bd3786"
             ],
             [
              0.5555555555555556,
              "#d8576b"
             ],
             [
              0.6666666666666666,
              "#ed7953"
             ],
             [
              0.7777777777777778,
              "#fb9f3a"
             ],
             [
              0.8888888888888888,
              "#fdca26"
             ],
             [
              1,
              "#f0f921"
             ]
            ],
            "type": "histogram2d"
           }
          ],
          "histogram2dcontour": [
           {
            "colorbar": {
             "outlinewidth": 0,
             "ticks": ""
            },
            "colorscale": [
             [
              0,
              "#0d0887"
             ],
             [
              0.1111111111111111,
              "#46039f"
             ],
             [
              0.2222222222222222,
              "#7201a8"
             ],
             [
              0.3333333333333333,
              "#9c179e"
             ],
             [
              0.4444444444444444,
              "#bd3786"
             ],
             [
              0.5555555555555556,
              "#d8576b"
             ],
             [
              0.6666666666666666,
              "#ed7953"
             ],
             [
              0.7777777777777778,
              "#fb9f3a"
             ],
             [
              0.8888888888888888,
              "#fdca26"
             ],
             [
              1,
              "#f0f921"
             ]
            ],
            "type": "histogram2dcontour"
           }
          ],
          "mesh3d": [
           {
            "colorbar": {
             "outlinewidth": 0,
             "ticks": ""
            },
            "type": "mesh3d"
           }
          ],
          "parcoords": [
           {
            "line": {
             "colorbar": {
              "outlinewidth": 0,
              "ticks": ""
             }
            },
            "type": "parcoords"
           }
          ],
          "pie": [
           {
            "automargin": true,
            "type": "pie"
           }
          ],
          "scatter": [
           {
            "fillpattern": {
             "fillmode": "overlay",
             "size": 10,
             "solidity": 0.2
            },
            "type": "scatter"
           }
          ],
          "scatter3d": [
           {
            "line": {
             "colorbar": {
              "outlinewidth": 0,
              "ticks": ""
             }
            },
            "marker": {
             "colorbar": {
              "outlinewidth": 0,
              "ticks": ""
             }
            },
            "type": "scatter3d"
           }
          ],
          "scattercarpet": [
           {
            "marker": {
             "colorbar": {
              "outlinewidth": 0,
              "ticks": ""
             }
            },
            "type": "scattercarpet"
           }
          ],
          "scattergeo": [
           {
            "marker": {
             "colorbar": {
              "outlinewidth": 0,
              "ticks": ""
             }
            },
            "type": "scattergeo"
           }
          ],
          "scattergl": [
           {
            "marker": {
             "colorbar": {
              "outlinewidth": 0,
              "ticks": ""
             }
            },
            "type": "scattergl"
           }
          ],
          "scattermapbox": [
           {
            "marker": {
             "colorbar": {
              "outlinewidth": 0,
              "ticks": ""
             }
            },
            "type": "scattermapbox"
           }
          ],
          "scatterpolar": [
           {
            "marker": {
             "colorbar": {
              "outlinewidth": 0,
              "ticks": ""
             }
            },
            "type": "scatterpolar"
           }
          ],
          "scatterpolargl": [
           {
            "marker": {
             "colorbar": {
              "outlinewidth": 0,
              "ticks": ""
             }
            },
            "type": "scatterpolargl"
           }
          ],
          "scatterternary": [
           {
            "marker": {
             "colorbar": {
              "outlinewidth": 0,
              "ticks": ""
             }
            },
            "type": "scatterternary"
           }
          ],
          "surface": [
           {
            "colorbar": {
             "outlinewidth": 0,
             "ticks": ""
            },
            "colorscale": [
             [
              0,
              "#0d0887"
             ],
             [
              0.1111111111111111,
              "#46039f"
             ],
             [
              0.2222222222222222,
              "#7201a8"
             ],
             [
              0.3333333333333333,
              "#9c179e"
             ],
             [
              0.4444444444444444,
              "#bd3786"
             ],
             [
              0.5555555555555556,
              "#d8576b"
             ],
             [
              0.6666666666666666,
              "#ed7953"
             ],
             [
              0.7777777777777778,
              "#fb9f3a"
             ],
             [
              0.8888888888888888,
              "#fdca26"
             ],
             [
              1,
              "#f0f921"
             ]
            ],
            "type": "surface"
           }
          ],
          "table": [
           {
            "cells": {
             "fill": {
              "color": "#EBF0F8"
             },
             "line": {
              "color": "white"
             }
            },
            "header": {
             "fill": {
              "color": "#C8D4E3"
             },
             "line": {
              "color": "white"
             }
            },
            "type": "table"
           }
          ]
         },
         "layout": {
          "annotationdefaults": {
           "arrowcolor": "#2a3f5f",
           "arrowhead": 0,
           "arrowwidth": 1
          },
          "autotypenumbers": "strict",
          "coloraxis": {
           "colorbar": {
            "outlinewidth": 0,
            "ticks": ""
           }
          },
          "colorscale": {
           "diverging": [
            [
             0,
             "#8e0152"
            ],
            [
             0.1,
             "#c51b7d"
            ],
            [
             0.2,
             "#de77ae"
            ],
            [
             0.3,
             "#f1b6da"
            ],
            [
             0.4,
             "#fde0ef"
            ],
            [
             0.5,
             "#f7f7f7"
            ],
            [
             0.6,
             "#e6f5d0"
            ],
            [
             0.7,
             "#b8e186"
            ],
            [
             0.8,
             "#7fbc41"
            ],
            [
             0.9,
             "#4d9221"
            ],
            [
             1,
             "#276419"
            ]
           ],
           "sequential": [
            [
             0,
             "#0d0887"
            ],
            [
             0.1111111111111111,
             "#46039f"
            ],
            [
             0.2222222222222222,
             "#7201a8"
            ],
            [
             0.3333333333333333,
             "#9c179e"
            ],
            [
             0.4444444444444444,
             "#bd3786"
            ],
            [
             0.5555555555555556,
             "#d8576b"
            ],
            [
             0.6666666666666666,
             "#ed7953"
            ],
            [
             0.7777777777777778,
             "#fb9f3a"
            ],
            [
             0.8888888888888888,
             "#fdca26"
            ],
            [
             1,
             "#f0f921"
            ]
           ],
           "sequentialminus": [
            [
             0,
             "#0d0887"
            ],
            [
             0.1111111111111111,
             "#46039f"
            ],
            [
             0.2222222222222222,
             "#7201a8"
            ],
            [
             0.3333333333333333,
             "#9c179e"
            ],
            [
             0.4444444444444444,
             "#bd3786"
            ],
            [
             0.5555555555555556,
             "#d8576b"
            ],
            [
             0.6666666666666666,
             "#ed7953"
            ],
            [
             0.7777777777777778,
             "#fb9f3a"
            ],
            [
             0.8888888888888888,
             "#fdca26"
            ],
            [
             1,
             "#f0f921"
            ]
           ]
          },
          "colorway": [
           "#636efa",
           "#EF553B",
           "#00cc96",
           "#ab63fa",
           "#FFA15A",
           "#19d3f3",
           "#FF6692",
           "#B6E880",
           "#FF97FF",
           "#FECB52"
          ],
          "font": {
           "color": "#2a3f5f"
          },
          "geo": {
           "bgcolor": "white",
           "lakecolor": "white",
           "landcolor": "#E5ECF6",
           "showlakes": true,
           "showland": true,
           "subunitcolor": "white"
          },
          "hoverlabel": {
           "align": "left"
          },
          "hovermode": "closest",
          "mapbox": {
           "style": "light"
          },
          "paper_bgcolor": "white",
          "plot_bgcolor": "#E5ECF6",
          "polar": {
           "angularaxis": {
            "gridcolor": "white",
            "linecolor": "white",
            "ticks": ""
           },
           "bgcolor": "#E5ECF6",
           "radialaxis": {
            "gridcolor": "white",
            "linecolor": "white",
            "ticks": ""
           }
          },
          "scene": {
           "xaxis": {
            "backgroundcolor": "#E5ECF6",
            "gridcolor": "white",
            "gridwidth": 2,
            "linecolor": "white",
            "showbackground": true,
            "ticks": "",
            "zerolinecolor": "white"
           },
           "yaxis": {
            "backgroundcolor": "#E5ECF6",
            "gridcolor": "white",
            "gridwidth": 2,
            "linecolor": "white",
            "showbackground": true,
            "ticks": "",
            "zerolinecolor": "white"
           },
           "zaxis": {
            "backgroundcolor": "#E5ECF6",
            "gridcolor": "white",
            "gridwidth": 2,
            "linecolor": "white",
            "showbackground": true,
            "ticks": "",
            "zerolinecolor": "white"
           }
          },
          "shapedefaults": {
           "line": {
            "color": "#2a3f5f"
           }
          },
          "ternary": {
           "aaxis": {
            "gridcolor": "white",
            "linecolor": "white",
            "ticks": ""
           },
           "baxis": {
            "gridcolor": "white",
            "linecolor": "white",
            "ticks": ""
           },
           "bgcolor": "#E5ECF6",
           "caxis": {
            "gridcolor": "white",
            "linecolor": "white",
            "ticks": ""
           }
          },
          "title": {
           "x": 0.05
          },
          "xaxis": {
           "automargin": true,
           "gridcolor": "white",
           "linecolor": "white",
           "ticks": "",
           "title": {
            "standoff": 15
           },
           "zerolinecolor": "white",
           "zerolinewidth": 2
          },
          "yaxis": {
           "automargin": true,
           "gridcolor": "white",
           "linecolor": "white",
           "ticks": "",
           "title": {
            "standoff": 15
           },
           "zerolinecolor": "white",
           "zerolinewidth": 2
          }
         }
        },
        "title": {
         "text": "Income and Expense Flow"
        }
       }
      }
     },
     "metadata": {},
     "output_type": "display_data"
    }
   ],
   "source": [
    "# Prepare the nodes and links\n",
    "nodes = []\n",
    "links = []\n",
    "\n",
    "# add nodes\n",
    "nodes.extend(income['Cat1'].unique())\n",
    "nodes.extend(income['Cat2'].unique())\n",
    "nodes.extend(expenses['Cat1'].unique())\n",
    "nodes.extend(expenses['Cat2'].unique())\n",
    "nodes.append(\"Total Income\")\n",
    "\n",
    "print(nodes)\n",
    "\n",
    "# Create income l1 links\n",
    "for _, row in income_l1.iterrows():\n",
    "    links.append({\n",
    "        'source': nodes.index(row['source']),\n",
    "        'target': nodes.index(row['target']),\n",
    "        'value': abs(row['Amount'])\n",
    "    })\n",
    "\n",
    "# create income l2 linkes\n",
    "for _, row in income_l2.iterrows():\n",
    "    links.append({\n",
    "        'source': nodes.index(row['source']),\n",
    "        'target': nodes.index(row['target']),\n",
    "        'value': abs(row['Amount'])\n",
    "    })\n",
    "\n",
    "# Create links from Total Income to expense_l1\n",
    "for _, row in expenses_l1.iterrows():\n",
    "    links.append({\n",
    "        'source': nodes.index(row[\"source\"]),\n",
    "        'target': nodes.index(row['target']),\n",
    "        'value': abs(row['Amount'])\n",
    "    })\n",
    "\n",
    "#Create links from expense_l1 to expense_l2\n",
    "for _, row in expenses_l2.iterrows():\n",
    "    links.append({\n",
    "        'source': nodes.index(row[\"source\"]),\n",
    "        'target': nodes.index(row['target']),\n",
    "        'value': abs(row['Amount'])\n",
    "    })\n",
    "\n",
    "# Create the Sankey diagram\n",
    "fig = go.Figure(data=[go.Sankey(\n",
    "    node = dict(\n",
    "        pad = 15,\n",
    "        thickness = 20,\n",
    "        line = dict(color = \"black\", width = 0.5),\n",
    "        label = nodes,\n",
    "        color = \"blue\"\n",
    "    ),\n",
    "    link = dict(\n",
    "        source = [link['source'] for link in links],\n",
    "        target = [link['target'] for link in links],\n",
    "        value = [link['value'] for link in links],\n",
    "        color = [f'rgba({np.random.randint(0,256)},{np.random.randint(0,256)},{np.random.randint(0,256)},0.5)' for _ in links]\n",
    "    )\n",
    ")])\n",
    "\n",
    "# Update the layout\n",
    "fig.update_layout(\n",
    "    title_text=\"Income and Expense Flow\", \n",
    "    font_size=10,\n",
    "    height=800  # Make the diagram taller\n",
    ")\n",
    "\n",
    "# Show the figure\n",
    "fig.show()"
   ]
  },
  {
   "cell_type": "code",
   "execution_count": 90,
   "metadata": {},
   "outputs": [
    {
     "data": {
      "text/plain": [
       "array(['shopping_', 'jennifer_', 'misc_', 'transport_', 'monkey_',\n",
       "       'food_', 'travel_', 'activities_', 'admin_'], dtype=object)"
      ]
     },
     "execution_count": 90,
     "metadata": {},
     "output_type": "execute_result"
    }
   ],
   "source": [
    "cat1_nodes = expenses['Cat1'].unique()\n",
    "cat1_nodes"
   ]
  }
 ],
 "metadata": {
  "kernelspec": {
   "display_name": "base",
   "language": "python",
   "name": "python3"
  },
  "language_info": {
   "codemirror_mode": {
    "name": "ipython",
    "version": 3
   },
   "file_extension": ".py",
   "mimetype": "text/x-python",
   "name": "python",
   "nbconvert_exporter": "python",
   "pygments_lexer": "ipython3",
   "version": "3.11.5"
  }
 },
 "nbformat": 4,
 "nbformat_minor": 2
}
