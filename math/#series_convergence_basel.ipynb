{
 "cells": [
  {
   "cell_type": "code",
   "execution_count": 1,
   "metadata": {},
   "outputs": [],
   "source": [
    "import numpy as np\n",
    "import matplotlib as mpl\n",
    "import matplotlib.pyplot as plt\n"
   ]
  },
  {
   "cell_type": "code",
   "execution_count": 16,
   "metadata": {},
   "outputs": [
    {
     "data": {
      "text/plain": [
       "<matplotlib.lines.Line2D at 0x25ecc879580>"
      ]
     },
     "execution_count": 16,
     "metadata": {},
     "output_type": "execute_result"
    },
    {
     "data": {
      "image/png": "[encoded data removed]",
      "text/plain": [
       "<Figure size 432x288 with 1 Axes>"
      ]
     },
     "metadata": {
      "needs_background": "light"
     },
     "output_type": "display_data"
    }
   ],
   "source": [
    "# basel problem\n",
    "n = 100\n",
    "# create sequence\n",
    "basel_sequence = []\n",
    "for i in range(1,n):\n",
    "    basel_sequence.append( 1/(i**2) )\n",
    "\n",
    "#create series\n",
    "basel_series = [sum(basel_sequence[:i]) for i in range(len(basel_sequence))]\n",
    "\n",
    "index = range(len(basel_sequence))\n",
    "\n",
    "fig, ax = plt.subplots()\n",
    "ax.plot(index,basel_series,\"r.\")\n",
    "ax.plot(index,basel_sequence,\"b.\")\n",
    "ax.axhline((np.pi**2)/6)"
   ]
  },
  {
   "cell_type": "code",
   "execution_count": 29,
   "metadata": {},
   "outputs": [
    {
     "data": {
      "text/plain": [
       "[<matplotlib.lines.Line2D at 0x25ecdf131f0>]"
      ]
     },
     "execution_count": 29,
     "metadata": {},
     "output_type": "execute_result"
    },
    {
     "data": {
      "image/png": "[encoded data removed]",
      "text/plain": [
       "<Figure size 432x288 with 1 Axes>"
      ]
     },
     "metadata": {
      "needs_background": "light"
     },
     "output_type": "display_data"
    }
   ],
   "source": [
    "#generalization to other powers\n",
    "\n",
    "#non convergent when p < 1\n",
    "# p = 1 is brink of convergence - just infinity hahahah\n",
    "n = 10000\n",
    "p = 1\n",
    "\n",
    "# create sequence\n",
    "sequence = []\n",
    "for i in range(1,n):\n",
    "    sequence.append( 1/(i**p) )\n",
    "\n",
    "#create series\n",
    "series = [sum(sequence[:i]) for i in range(len(sequence))]\n",
    "\n",
    "index = range(len(sequence))\n",
    "\n",
    "fig, ax = plt.subplots()\n",
    "ax.plot(index,series,\"r.\")\n",
    "ax.plot(index,sequence,\"b.\")\n",
    "#ax.axhline((np.pi**2)/6)"
   ]
  }
 ],
 "metadata": {
  "interpreter": {
   "hash": "86ced299d573a58fc1d464bd2f917835a691b9d9cefee14c59fce60008360703"
  },
  "kernelspec": {
   "display_name": "Python 3.9.7 ('base')",
   "language": "python",
   "name": "python3"
  },
  "language_info": {
   "codemirror_mode": {
    "name": "ipython",
    "version": 3
   },
   "file_extension": ".py",
   "mimetype": "text/x-python",
   "name": "python",
   "nbconvert_exporter": "python",
   "pygments_lexer": "ipython3",
   "version": "3.9.7"
  },
  "orig_nbformat": 4
 },
 "nbformat": 4,
 "nbformat_minor": 2
}
