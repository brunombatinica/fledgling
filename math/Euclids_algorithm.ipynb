{
 "cells": [
  {
   "cell_type": "code",
   "execution_count": 22,
   "metadata": {},
   "outputs": [
    {
     "name": "stdout",
     "output_type": "stream",
     "text": [
      "15974\n",
      "7\n",
      "7\n"
     ]
    }
   ],
   "source": [
    "#gcd(a,b) = gcd(rem(a,b),a)\n",
    "\n",
    "\n",
    "\n",
    "from tkinter import Y\n",
    "\n",
    "\n",
    "a = 105\n",
    "b = 224\n",
    "\n",
    "x = 150*a + b\n",
    "print(x)\n",
    "\n",
    "\n",
    "\n",
    "def r(a,b):\n",
    "    #returns the remainder of b|a\n",
    "    return b % a\n",
    "\n",
    "def gcd(a,b):\n",
    "    #recursively finds the gcd using euclids algorithm\n",
    "    # a < b\n",
    "\n",
    "    \n",
    "    r = b % a\n",
    "\n",
    "    if r == 0:\n",
    "        return a\n",
    "    else:\n",
    "        return gcd(r,a)\n",
    "\n",
    "\n",
    "\n",
    "print(gcd(a,b))\n",
    "print(gcd(a,x))\n"
   ]
  },
  {
   "cell_type": "code",
   "execution_count": 6,
   "metadata": {},
   "outputs": [
    {
     "data": {
      "text/plain": [
       "5"
      ]
     },
     "execution_count": 6,
     "metadata": {},
     "output_type": "execute_result"
    }
   ],
   "source": [
    "224%105\n",
    "105%14\n",
    "14%7\n",
    "\n",
    "\n",
    "15%10\n",
    "5%10\n",
    "5%10\n",
    "5%10"
   ]
  }
 ],
 "metadata": {
  "kernelspec": {
   "display_name": "Python 3.9.7 ('base')",
   "language": "python",
   "name": "python3"
  },
  "language_info": {
   "codemirror_mode": {
    "name": "ipython",
    "version": 3
   },
   "file_extension": ".py",
   "mimetype": "text/x-python",
   "name": "python",
   "nbconvert_exporter": "python",
   "pygments_lexer": "ipython3",
   "version": "3.9.7"
  },
  "orig_nbformat": 4,
  "vscode": {
   "interpreter": {
    "hash": "86ced299d573a58fc1d464bd2f917835a691b9d9cefee14c59fce60008360703"
   }
  }
 },
 "nbformat": 4,
 "nbformat_minor": 2
}
