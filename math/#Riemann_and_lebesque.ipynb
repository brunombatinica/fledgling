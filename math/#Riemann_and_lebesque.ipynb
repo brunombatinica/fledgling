{
 "cells": [
  {
   "cell_type": "code",
   "execution_count": 14,
   "metadata": {},
   "outputs": [],
   "source": [
    "import numpy as np\n",
    "import matplotlib as mpl\n",
    "from matplotlib import pyplot as plt\n",
    "import scipy.integrate"
   ]
  },
  {
   "cell_type": "markdown",
   "metadata": {},
   "source": [
    "# **Exploring Riemann and Lebesque integrals**\n",
    "\n"
   ]
  },
  {
   "cell_type": "markdown",
   "metadata": {},
   "source": [
    "## starting with Riemann-Stieltjes integrals"
   ]
  },
  {
   "cell_type": "markdown",
   "metadata": {},
   "source": [
    "Useful precusor of the lebesque integral, and an invaluable too in unifying equivalent forms of statistical theorems that apply to discrete and continuous probability theory\n",
    "\n",
    "#very interesting geometric interpretation!\n"
   ]
  },
  {
   "cell_type": "markdown",
   "metadata": {},
   "source": [
    "The Riemann-stieltjes integral of a real-valued function $f$ of a ral variable on the inteval [a,b] with respect to another real-to-real function g is denoted by\n",
    "\n",
    "$\\int _{x=a}^{b}f(x)\\,\\mathrm {d} g(x) $\n",
    "\n",
    "Its definition uses a sequence of partitions P of hte interval [a,b]\n",
    "\n",
    "P = {a = x0 < x1 < x2 < ... < xb = b}\n",
    "\n",
    "the integral the is defined to be hte limit as hte mesh (length of hte longest subintercal of hte parittions) approaches 0, of the approximating sum"
   ]
  },
  {
   "cell_type": "markdown",
   "metadata": {},
   "source": [
    "$ S(P,f,g)=\\sum _{i=0}^{n-1}f(c_{i})\\left[g(x_{i+1})-g(x_{i})\\right] $"
   ]
  },
  {
   "cell_type": "markdown",
   "metadata": {},
   "source": [
    "ci is in hte ith subinteral [xi,xi+1]. The 2 function f and g are respectively called teh integrand and hte integrator.\n",
    "\n",
    "Typically g is taken to be monotone (or at least with bounded variation) and right semicontinuous (this is just convention)\n",
    "\n",
    "We specifically do not require g to be continuous, which allows for integrals that have point mass terms"
   ]
  },
  {
   "cell_type": "code",
   "execution_count": 37,
   "metadata": {},
   "outputs": [
    {
     "name": "stdout",
     "output_type": "stream",
     "text": [
      "(543.5733333333334, 6.034876302389118e-12)\n",
      "542.8877133969564\n"
     ]
    }
   ],
   "source": [
    "# quick little test - validity with a continuous function\n",
    "def f(x):\n",
    "    return x**2\n",
    "\n",
    "def g1(x):\n",
    "    return x**3 + x - 0.15*x**3\n",
    "\n",
    "\n",
    "x1 = 0\n",
    "xn = 4\n",
    "n = 1000\n",
    "\n",
    "#partitions\n",
    "P = np.linspace(x1,xn,n)\n",
    "\n",
    "#riemman-stieltjes integral\n",
    "#set ci to be the start of the interval\n",
    "rs = [ f(xi )*(g1(xiplus1)-g1(xi)) for xi,xiplus1 in zip(P[:-1],P[1:])  ] #quite pretty python code\n",
    "\n",
    "#ideally g shouls be monotonous\n",
    "\n",
    "#analytical solution\n",
    "Y = f(P)*g1(P)\n",
    "\n",
    "#f(x)g'(x)dx\n",
    "print(scipy.integrate.quad(lambda x: x**2 * (3*x**2 + 1 -0.45*x**2) ,x1,xn))\n",
    "\n",
    "print(sum(rs))\n",
    "\n",
    "\n",
    "\n"
   ]
  },
  {
   "cell_type": "markdown",
   "metadata": {},
   "source": [
    "IT WORKS!!!"
   ]
  },
  {
   "cell_type": "code",
   "execution_count": 9,
   "metadata": {},
   "outputs": [
    {
     "name": "stdout",
     "output_type": "stream",
     "text": [
      "[0, 1, 2, 3, 4, 5, 6, 7, 8, 9]\n",
      "[1, 2, 3, 4, 5, 6, 7, 8, 9, 10]\n"
     ]
    }
   ],
   "source": [
    "X = [i for i in range(11)]\n",
    "X\n",
    "print(X[:-1])\n",
    "print(X[1:])\n"
   ]
  },
  {
   "cell_type": "markdown",
   "metadata": {},
   "source": [
    "# Lebesque integration"
   ]
  },
  {
   "cell_type": "markdown",
   "metadata": {},
   "source": [
    "\"I have to pay a certain sum, which I have collected in my pocket. I take the bills and coins out of my pocket and give them to the creditor in the order I find them until I have reached the total sum. This is the Riemann integral. But I can proceed differently. After I have taken all the money out of my pocket I order the bills and coins according to identical values and then I pay the several heaps one after the other to the creditor. This is my integral.\""
   ]
  },
  {
   "cell_type": "markdown",
   "metadata": {},
   "source": [
    "instead we partition the DOMAIN Of f (the y axis) and define a simple function which sits under f \n",
    "\n",
    "Supremum of this is hte lebesque integral (for a continuous function, this will be when we take infinitely small partitions of y), "
   ]
  },
  {
   "cell_type": "code",
   "execution_count": 92,
   "metadata": {},
   "outputs": [
    {
     "data": {
      "text/plain": [
       "<matplotlib.collections.PathCollection at 0x225350abeb0>"
      ]
     },
     "execution_count": 92,
     "metadata": {},
     "output_type": "execute_result"
    },
    {
     "data": {
      "image/png": "[encoded data removed]",
      "text/plain": [
       "<Figure size 432x288 with 1 Axes>"
      ]
     },
     "metadata": {
      "needs_background": "light"
     },
     "output_type": "display_data"
    }
   ],
   "source": [
    "X = np.linspace(0,10,100)\n",
    "def f(x):\n",
    "    return np.sin(x+1)\n",
    "\n",
    "Y = f(X)\n",
    "\n",
    "\n",
    "#partition Y inteval\n",
    "n = 10\n",
    "P = np.linspace(min(Y),max(Y),n)\n",
    "\n",
    "#create boolean arrays corresponding to the preimages that fall in a given interval\n",
    "\n",
    "# could make loops faster by deleting elements once they have been used but tbh...\n",
    "#using loops in python is CRINGE - we need to vectorize\n",
    "#too lazy to do this right now\n",
    "Ais = []\n",
    "for i,j in zip(P[:-1],P[1:]):\n",
    "    Ai = []\n",
    "    for x,y in zip(X,Y):\n",
    "        if y >= i and y < j:\n",
    "            Ai.append(x) \n",
    "    Ais.append(Ai)\n",
    "\n",
    "#use the set of subsets to creat a simple function\n",
    "y_plot = [ [y]*len(Ai) for y,Ai in zip(P[:-1],Ais)]\n",
    "\n",
    "\n",
    "#flatten a list - beautiful code from rightfootinblog \n",
    "# http://rightfootin.blogspot.com/2006/09/more-on-python-flatten.html\n",
    "def flatten(l, ltypes = (list,tuple)):\n",
    "    ltype = type(l) #tells flatten where we are dealing with a list or a tuple\n",
    "    l = list(l) #converts into a list\n",
    "    i = 0\n",
    "    while i < len(l): #iterates through the list\n",
    "        while isinstance(l[i], ltypes): #checks that the list element is a list or a tuple\n",
    "            if not l[i]: #empty list check\n",
    "                l.pop[i] #removes empty list\n",
    "                i -= 1 #reset counter to avoid missing elements\n",
    "                break\n",
    "            else: #if not empty list\n",
    "                l[i:i+1] = l[i] #VERY INTERERESTING BEHAVIOUR WITH INDEXIN SYNTAX\n",
    "                # [i] returns element i\n",
    "                # [i:i] return empty list\n",
    "                # [i:i+1] returns the iths element but as a list! \n",
    "                \n",
    "                # so assigning onto this interval we can instert arbitrarily many values \n",
    "                # into the list\n",
    "\n",
    "                #WOWOWOWOWO - nive python underpinnings, must take advantage how how lists\n",
    "                # are actually defined in python\n",
    "\n",
    "                # lists are an array of pointers which point to objects (can be other list)\n",
    "\n",
    "                # I dont really understand how this words in memoery but conveptually it akes sense\n",
    "                # we replace the list of hte first element with a list which python then unpacks \n",
    "                # into elemnts - RESIZING if you add an element python will find a new block in hte memory\n",
    "                # and copy all of hte \"pointers\" to that new memory - now we trick python into copying the \n",
    "                # pointers of list l[i] rather than the pointer TO list l[i]\n",
    "        i += 1\n",
    "    return ltype(l)\n",
    "\n",
    "y_flat = flatten(y_plot)\n",
    "x_flat = flatten(Ais)\n",
    "\n",
    "\n",
    "\n",
    "fig = plt.figure()\n",
    "ax = fig.add_subplot()\n",
    "ax.plot(X,Y)\n",
    "ax.scatter(x_flat,y_flat)\n",
    "\n",
    "# THIS WORKS REALLY WELLL!!!"
   ]
  },
  {
   "cell_type": "code",
   "execution_count": 90,
   "metadata": {},
   "outputs": [
    {
     "data": {
      "text/plain": [
       "[0.0,\n",
       " 0.0,\n",
       " 0.0,\n",
       " 0.0,\n",
       " 0.26643280808870784,\n",
       " 0.26643280808870784,\n",
       " 0.26643280808870784,\n",
       " 0.5328656161774157,\n",
       " 0.5328656161774157,\n",
       " 0.5328656161774157,\n",
       " 0.5328656161774157,\n",
       " 0.5328656161774157,\n",
       " 0.5328656161774157,\n",
       " 0.7992984242661235,\n",
       " 0.7992984242661235,\n",
       " 0.7992984242661235,\n",
       " 0.7992984242661235,\n",
       " 0.7992984242661235,\n",
       " 0.7992984242661235,\n",
       " 1.0657312323548314,\n",
       " 1.0657312323548314,\n",
       " 1.0657312323548314,\n",
       " 1.0657312323548314,\n",
       " 1.0657312323548314,\n",
       " 1.0657312323548314,\n",
       " 1.0657312323548314,\n",
       " 1.0657312323548314,\n",
       " 1.0657312323548314,\n",
       " 1.3321640404435393,\n",
       " 1.3321640404435393,\n",
       " 1.3321640404435393,\n",
       " 1.3321640404435393,\n",
       " 1.3321640404435393,\n",
       " 1.3321640404435393,\n",
       " 1.3321640404435393,\n",
       " 1.3321640404435393,\n",
       " 1.3321640404435393,\n",
       " 1.3321640404435393,\n",
       " 1.3321640404435393,\n",
       " 1.3321640404435393,\n",
       " 1.598596848532247,\n",
       " 1.598596848532247,\n",
       " 1.598596848532247,\n",
       " 1.598596848532247,\n",
       " 1.598596848532247,\n",
       " 1.598596848532247,\n",
       " 1.598596848532247,\n",
       " 1.598596848532247,\n",
       " 1.598596848532247,\n",
       " 1.598596848532247,\n",
       " 1.598596848532247,\n",
       " 1.598596848532247,\n",
       " 1.598596848532247,\n",
       " 1.598596848532247,\n",
       " 1.598596848532247,\n",
       " 1.8650296566209548,\n",
       " 1.8650296566209548,\n",
       " 1.8650296566209548,\n",
       " 1.8650296566209548,\n",
       " 1.8650296566209548,\n",
       " 1.8650296566209548,\n",
       " 1.8650296566209548,\n",
       " 1.8650296566209548,\n",
       " 1.8650296566209548,\n",
       " 1.8650296566209548,\n",
       " 1.8650296566209548,\n",
       " 1.8650296566209548,\n",
       " 1.8650296566209548,\n",
       " 1.8650296566209548,\n",
       " 1.8650296566209548,\n",
       " 1.8650296566209548,\n",
       " 1.8650296566209548,\n",
       " 1.8650296566209548,\n",
       " 1.8650296566209548,\n",
       " 2.1314624647096627,\n",
       " 2.1314624647096627,\n",
       " 2.1314624647096627,\n",
       " 2.1314624647096627,\n",
       " 2.1314624647096627,\n",
       " 2.1314624647096627,\n",
       " 2.1314624647096627,\n",
       " 2.1314624647096627,\n",
       " 2.1314624647096627,\n",
       " 2.1314624647096627,\n",
       " 2.1314624647096627,\n",
       " 2.1314624647096627,\n",
       " 2.1314624647096627,\n",
       " 2.1314624647096627,\n",
       " 2.1314624647096627,\n",
       " 2.1314624647096627,\n",
       " 2.1314624647096627,\n",
       " 2.1314624647096627,\n",
       " 2.1314624647096627,\n",
       " 2.1314624647096627,\n",
       " 2.1314624647096627,\n",
       " 2.1314624647096627,\n",
       " 2.1314624647096627,\n",
       " 2.1314624647096627,\n",
       " 2.1314624647096627]"
      ]
     },
     "execution_count": 90,
     "metadata": {},
     "output_type": "execute_result"
    }
   ],
   "source": [
    "y_flat"
   ]
  }
 ],
 "metadata": {
  "kernelspec": {
   "display_name": "Python 3.9.7 ('base')",
   "language": "python",
   "name": "python3"
  },
  "language_info": {
   "codemirror_mode": {
    "name": "ipython",
    "version": 3
   },
   "file_extension": ".py",
   "mimetype": "text/x-python",
   "name": "python",
   "nbconvert_exporter": "python",
   "pygments_lexer": "ipython3",
   "version": "3.9.7"
  },
  "orig_nbformat": 4,
  "vscode": {
   "interpreter": {
    "hash": "86ced299d573a58fc1d464bd2f917835a691b9d9cefee14c59fce60008360703"
   }
  }
 },
 "nbformat": 4,
 "nbformat_minor": 2
}
