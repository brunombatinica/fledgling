{
 "cells": [
  {
   "cell_type": "markdown",
   "metadata": {},
   "source": [
    "# introduction to group theory, complex numbers and eulers identity"
   ]
  },
  {
   "cell_type": "markdown",
   "metadata": {},
   "source": [
    "# $e^{-\\pi i} = -1 $"
   ]
  },
  {
   "cell_type": "markdown",
   "metadata": {},
   "source": [
    "## *starting with complex numbers and the complex plane*"
   ]
  },
  {
   "cell_type": "markdown",
   "metadata": {},
   "source": [
    "$ i = \\sqrt(-1) $\n",
    "\n",
    "can create the comlex plane with real numebrs represented on the x axis and complex on the y"
   ]
  },
  {
   "cell_type": "code",
   "execution_count": 17,
   "metadata": {},
   "outputs": [],
   "source": [
    "import numpy as np\n",
    "import scipy.special as special\n",
    "import matplotlib as mpl\n",
    "import matplotlib.pyplot as plt\n",
    "from functools import reduce"
   ]
  },
  {
   "cell_type": "code",
   "execution_count": 3,
   "metadata": {},
   "outputs": [
    {
     "name": "stdout",
     "output_type": "stream",
     "text": [
      "5.0\n",
      "7.0\n"
     ]
    },
    {
     "data": {
      "image/png": "[encoded data removed]",
      "text/plain": [
       "<Figure size 432x288 with 1 Axes>"
      ]
     },
     "metadata": {
      "needs_background": "light"
     },
     "output_type": "display_data"
    }
   ],
   "source": [
    "#in python use j for complex functions\n",
    "\n",
    "y = 5 + 7j\n",
    "\n",
    "#can extract real and imaginary components\n",
    "print(y.real)\n",
    "print(y.imag)\n",
    "\n",
    "def cplot(list):\n",
    "    # input list\n",
    "\n",
    "    fig = plt.figure()\n",
    "    ax = fig.add_subplot()\n",
    "    ax.scatter([i.real for i in list],[i.imag for i in list])\n",
    "\n",
    "cplot([y])"
   ]
  },
  {
   "cell_type": "markdown",
   "metadata": {},
   "source": [
    "## $e^{x}$ is NOT repeated multiplication"
   ]
  },
  {
   "cell_type": "markdown",
   "metadata": {},
   "source": [
    "This is only the case when x is an integer\n",
    "\n",
    "More generally and abstractly $e^{x}$ tries to turn \"ADDERS\" into \"MULTIPLIERS\" \n",
    "\n",
    "**GROUP THEORY**\n",
    "\n",
    "From onenote:\n",
    "\n",
    "\tTHINK OF EACH NUMBER AS 3 things\n",
    "\t\t1. \"A point\" on an infinitely long line (~its value)\n",
    "\t\t2. \"An action\" which slides that line (~adder)\n",
    "\t\t\tUnlearn what you know about addition\n",
    "\t\t\tSlide untill the point corresponding to 0 is now on the number\n",
    "\t\t\tSuccessiviely applying 2 adders - multiplication\n",
    "\t\t3. \"An action\" which stretches that line (~multipliers)\n",
    "\t\t\tFix 0 in place and bring the point corresponding to 1 to the number\n",
    "\t\t\tSuccessive applications of this - equivalent to multiplication e.g 2 then 3 = 3 6\n",
    "\t\t\tCOMMUTATIVE!!!\n",
    "\t\t\n",
    "\te^x transforms adders into multipliers\n",
    "\n",
    "\n",
    "\n",
    "\n",
    "\n",
    "\n"
   ]
  },
  {
   "cell_type": "markdown",
   "metadata": {},
   "source": [
    "# $ e^{x+y} = e^{x}e^{y} $"
   ]
  },
  {
   "cell_type": "markdown",
   "metadata": {},
   "source": [
    "This is also implied from the repeated multiplication intuition of the exponent but in reality you should look at it the other way around\n",
    "\n",
    "THIS IS WHAT DEFINES e^x and the fact that that e^5 = e*e*e*e*e is a consequence of this property\n",
    "\n",
    "## but e is just a symbol.... what does it actually mean....\n",
    "\n"
   ]
  },
  {
   "cell_type": "markdown",
   "metadata": {},
   "source": [
    "Many functions satisfy $f(x+y) = f(x)f(y)$ but the most natural is \n",
    "\n",
    "$ e^{x} := 1 + x + \\dfrac{1}{2!}x^{2} + \\dfrac{1}{3!}x^{3} +...+ \\dfrac{1}{n!}x^{n}$"
   ]
  },
  {
   "cell_type": "code",
   "execution_count": 26,
   "metadata": {},
   "outputs": [
    {
     "name": "stdout",
     "output_type": "stream",
     "text": [
      "[1.0, 1.0, 0.5, 0.16666666666666666, 0.041666666666666664, 0.008333333333333333, 0.001388888888888889, 0.0001984126984126984, 2.48015873015873e-05, 2.7557319223985893e-06]\n"
     ]
    },
    {
     "data": {
      "text/plain": [
       "<matplotlib.lines.Line2D at 0x1b70cf3fd00>"
      ]
     },
     "execution_count": 26,
     "metadata": {},
     "output_type": "execute_result"
    },
    {
     "data": {
      "image/png": "[encoded data removed]",
      "text/plain": [
       "<Figure size 432x288 with 2 Axes>"
      ]
     },
     "metadata": {
      "needs_background": "light"
     },
     "output_type": "display_data"
    }
   ],
   "source": [
    "n = 10\n",
    "x = 1\n",
    "euler_series = [ (1/special.factorial(i))*(x**i) for i in range(n)] #sereis from n = 0 to 99\n",
    "sum_series = euler_series[:] #copy series\n",
    "for i in range(len(euler_series)):\n",
    "    # go through and sequentiall add up\n",
    "    #kind of a weird way of doing it but just for fun\n",
    "    sum_series[i] = sum_series[i] + sum_series[i-1]\n",
    "euler_sum = reduce(lambda x,y: x+y,euler_series)\n",
    "np.exp(1)\n",
    "\n",
    "#simply the value of this sum when x = 1\n",
    "\n",
    "#python tip ^ = bitwise XOR\n",
    "\n",
    "print(euler_series)\n",
    "\n",
    "fig = plt.figure()\n",
    "ax1 = fig.add_subplot(121)\n",
    "ax1.scatter([i for i in range(n)],euler_series)\n",
    "ax2 = fig.add_subplot(122)\n",
    "ax2.scatter(range(n),sum_series)\n",
    "ax2.axhline(np.exp(1))"
   ]
  },
  {
   "cell_type": "markdown",
   "metadata": {},
   "source": [
    "e is simply the value of this function when x = 1\n",
    "\n",
    "Notation of expressing this function as e^x is simply a vestage of its relationship to repeated multiplication, as hte other less natural functions satisfying hte property $f(x+y) = f(x)f(y)$ are the other exponentials with different bases"
   ]
  },
  {
   "cell_type": "markdown",
   "metadata": {},
   "source": [
    "Now we understand what # $e^{-\\pi i}$ means - simply plug $\\pi i$ into the series, but to udnerstand the identity we dont need to think of hte series, just remember that we are turning \"ADDERS\" into \"MULTIPLIERS\""
   ]
  },
  {
   "cell_type": "markdown",
   "metadata": {},
   "source": [
    "## some more intuition and addition of calculus"
   ]
  },
  {
   "cell_type": "markdown",
   "metadata": {},
   "source": [
    "What is e^t\n",
    "\n",
    "Defining property = \n",
    "\n",
    "$\\dfrac{d}{dt}e^{t} = e^t $\n",
    "\n",
    "combining this with the added condition that  $f(0) = 1; e^{0} = 1$, e^t is the only function that satisfies this property\n",
    "\n",
    "\n",
    "if we multiply t by i\n",
    "\n",
    "\n",
    "$\\dfrac{d}{dt}e^{it} = ie^t $\n",
    "\n",
    "multiplying by i = rotating 90deg so can think of the velocity vector of this parametric function as perpendicular to the position\n",
    "\n",
    "THINK ABOUT IT \n",
    "\n",
    "reason e is important - is that it is its own derivative so hte norm of hte velocity vector will always = 1 and thus will travela t exactly 1 unit per second around hte circle"
   ]
  },
  {
   "cell_type": "markdown",
   "metadata": {},
   "source": [
    "## **Sliding and stretching in 2D**"
   ]
  },
  {
   "cell_type": "markdown",
   "metadata": {},
   "source": [
    "Complex numbers are sliding and stretching in the 2d plane\n",
    "\n",
    "Each numebr can be a \n",
    "1. point on the plane\n",
    "2. An adder - which slides hte plane (so 0 moves to the point)\n",
    "3. a multiplier - which stretches thee plane (so 1 ends up on the point)\n",
    "\n",
    "*note 0 and 1 are the repective additive and multiplicative identities!*\n",
    "\n",
    "\n",
    "Actions of real numbers still apply - sliding side to side and stretching horizontally works exactly the same way, but now we can do more actions....\n",
    "\n",
    "i is \n",
    "1. A point\n",
    "2. An adder - slides the plane vertically\n",
    "3. A multiplier - **ROTATES THE PLANE!!!! $90\\degree$**  connection to polar coordinates ... ($cos + isin$)\n",
    "\n",
    "**$i*i = i^{2} = -1$, is simply the result of 2 rotation, applying action of i twice is thee same as applying the action of 1 as a multiplier**\n",
    "\n",
    "\n",
    "*IMAGINARY NUMEBRS ARE GENERALIZATIONS OF ADDITION AND MULTIPLICATION INTO 2D*\n",
    "\n",
    "*all adding is some combination of sliding up and down*\n",
    "\n",
    "*all multiplication is some combination of stretching horizontally and rotating*\n",
    "\n",
    "\n",
    "*?3D extension of graphs NZ highschool teacher video thing connection?*\n"
   ]
  },
  {
   "cell_type": "markdown",
   "metadata": {},
   "source": [
    "### $e^{x}$ turns sliders into stretches ... so extending it to 2D it turns the new dimension of adders, into the new dimension of multipliers\n"
   ]
  },
  {
   "cell_type": "markdown",
   "metadata": {},
   "source": [
    "### So e^x takes points on the vertical line (imaginary points) and converts them into rotations, just like it converts horizontal points/adders into stretches\n",
    "\n",
    "# e^x turns adder $\\pi i$ into the multiplier -1 "
   ]
  },
  {
   "cell_type": "markdown",
   "metadata": {},
   "source": [
    "# *beautiful link between complex numbers and polar rotations*\n",
    "\n",
    "expanding $(a+bi)(c+di)$ consider real components * vector $[1,0]$ and complex components times vector $i^{2}[0,b] = [0,-1]$ then expansion of simple algebra resemples pseudo matrix multiplications with the $90\\degree$ rotation matrix - DONT READ TOO MUCH INTO THIS LINE\n",
    "\n",
    "\n",
    "$\\begin{bmatrix}\n",
    "0 & 1 \\\\\n",
    "-1 & 0 \\\\\n",
    "\\end{bmatrix}$"
   ]
  },
  {
   "cell_type": "code",
   "execution_count": 103,
   "metadata": {},
   "outputs": [
    {
     "name": "stdout",
     "output_type": "stream",
     "text": [
      "(-1.02+1.76j)\n",
      "[1. 2.]\n",
      "0.9097252332435327\n",
      "0.9888912086550111\n",
      "[-1.02  1.76]\n"
     ]
    },
    {
     "data": {
      "text/plain": [
       "<matplotlib.quiver.Quiver at 0x1b70f0fe520>"
      ]
     },
     "execution_count": 103,
     "metadata": {},
     "output_type": "execute_result"
    },
    {
     "data": {
      "image/png": "[encoded data removed]",
      "text/plain": [
       "<Figure size 432x288 with 1 Axes>"
      ]
     },
     "metadata": {
      "needs_background": "light"
     },
     "output_type": "display_data"
    }
   ],
   "source": [
    "# Additive extension it trivial.... but multiplication can be explored more....\n",
    "\n",
    "#create a function which multiplies complex numbers using this rotations intuition\n",
    "\n",
    "a = 1 + 2j\n",
    "b = 0.5 + 0.76j\n",
    "print(a*b)\n",
    "\n",
    "a_ = np.array([a.real,a.imag])\n",
    "b_ = np.array([b.real,b.imag])\n",
    "print(a_)\n",
    "\n",
    "\n",
    "#\"each\" i = rotation of 90degrees so in radians = pi/2\n",
    "#create a rotation matrix\n",
    "def create_rotation(theta):\n",
    "    return (np.array([[np.cos(theta),np.sin(theta)],[-np.sin(theta),np.cos(theta)]]))\n",
    "\n",
    "\n",
    "#IT IS MORE COMPLEX THAN THIS - need to match normal with stretch and rotation with i! - complex and real\n",
    "stretch = np.sqrt(b.real**2+b.imag**2) #stretch by length on b\n",
    "print(stretch)\n",
    "rotation = np.arctan(b.imag/b.real) #rotate by rotation of b\n",
    "print(rotation)\n",
    "\n",
    "so = a_*stretch\n",
    "R = create_rotation(rotation)\n",
    "ro = so@R\n",
    "print(ro)\n",
    "\n",
    "\n",
    "fig = plt.figure()\n",
    "ax1 = fig.add_subplot()\n",
    "ax1.axis(\"equal\")\n",
    "ax1.set(xlim = (-10,10), ylim = (-10,10))\n",
    "ax1.grid(True)\n",
    "\n",
    "ax1.quiver(*a_, angles = \"xy\", scale_units = \"xy\", scale = 1, color = \"blue\")\n",
    "ax1.quiver(*(b_), angles = \"xy\", scale_units = \"xy\", scale = 1, color = \"red\")\n",
    "#ax1.quiver(*(so), angles = \"xy\", scale_units = \"xy\", scale = 1, color = \"black\")\n",
    "ax1.quiver(*(ro), angles = \"xy\", scale_units = \"xy\", scale = 1, color = \"purple\")\n",
    "\n",
    "\n"
   ]
  },
  {
   "cell_type": "markdown",
   "metadata": {},
   "source": [
    "# Complex multiplication is a combination (a*b) of a stretch by $||b||$ and a rotation by $\\theta $ (the angle of b to the x axis)\n",
    "\n",
    "Commmutativety makes perfect sense now"
   ]
  },
  {
   "cell_type": "markdown",
   "metadata": {},
   "source": [
    "# Putting everything together - imaginary exponentials\n"
   ]
  },
  {
   "cell_type": "code",
   "execution_count": 107,
   "metadata": {},
   "outputs": [
    {
     "name": "stdout",
     "output_type": "stream",
     "text": [
      "(0.7692389013639721+0.6389612763136348j)\n",
      "1.0\n",
      "0.6931471805599453\n"
     ]
    }
   ],
   "source": [
    "a = 1j\n",
    "V = 2**a\n",
    "print(V)\n",
    "print(np.sqrt(V.real**2+V.imag**2))\n",
    "print(np.arctan(V.imag/V.real))"
   ]
  },
  {
   "cell_type": "markdown",
   "metadata": {},
   "source": [
    "### everything can be converted to base e\n",
    "\n",
    "$\n",
    "log_2(x) = y \\\\\n",
    "2^{y} = x \\\\\n",
    "2^{log_2(x)} = x$\n",
    "\n",
    "$ e^{y} = 2^{x} \\\\\n",
    "y = ln(2^x) \\\\ $\n",
    "\n",
    "and in reverse...\n",
    "\n",
    "so 2^i = \n",
    "e^ln(2^i)"
   ]
  }
 ],
 "metadata": {
  "kernelspec": {
   "display_name": "Python 3.9.7 ('base')",
   "language": "python",
   "name": "python3"
  },
  "language_info": {
   "codemirror_mode": {
    "name": "ipython",
    "version": 3
   },
   "file_extension": ".py",
   "mimetype": "text/x-python",
   "name": "python",
   "nbconvert_exporter": "python",
   "pygments_lexer": "ipython3",
   "version": "3.9.7"
  },
  "orig_nbformat": 4,
  "vscode": {
   "interpreter": {
    "hash": "86ced299d573a58fc1d464bd2f917835a691b9d9cefee14c59fce60008360703"
   }
  }
 },
 "nbformat": 4,
 "nbformat_minor": 2
}
