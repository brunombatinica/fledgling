{
 "cells": [
  {
   "cell_type": "code",
   "execution_count": 87,
   "metadata": {},
   "outputs": [],
   "source": [
    "#http://louistiao.me/posts/project-euler/problem-12-highly-divisible-triangular-number/#:~:text=The%20sequence%20of%20triangle%20numbers,45%2C%2055%2C%20...\n",
    "\n",
    "# actual math is to do with prime factorization!!!\n",
    "# 2, 2**2, 2 3, 2**2 3, 2**3, 2**2 3 **2 etc.....\n",
    "\n",
    "\n",
    "\n",
    "# Highly divisible triangular number  \n",
    "\n",
    "#triangualr number = adding hte natual numbers\n",
    "# n(7) = 1+2+3+4+5+6+7 = 28\n",
    "\n",
    "#number of divisors\n",
    "\n",
    "# 7 is first to have 5 divisors, what is the first to have 500\n",
    "\n",
    "from functools import reduce\n",
    "\n",
    "def t(n):\n",
    "    output = reduce(lambda x,y: x+y,[i for i in range(1,n+1)])\n",
    "    return output\n",
    "\n",
    "def naive_quo(n):\n",
    "    output = []\n",
    "    for i in range(1,n+1):    \n",
    "        if n%i == 0:\n",
    "            output.append(i)\n",
    "\n",
    "    return output\n",
    "             \n",
    "\n",
    "def fast_quo(n):\n",
    "    #only check up to sqrt\n",
    "    output = []\n",
    "    for i in range(1,n**0.5+1):\n",
    "        if n%i == 0:\n",
    "            output.append([i,n/i])\n",
    "\n",
    "def count_quo(n):\n",
    "    #doesnt work for 1\n",
    "    count = 0\n",
    "    for i in range(1,int(n**0.5+1)):\n",
    "        if n%i == 0:\n",
    "            count += 2 \n",
    "    return count\n",
    "\n"
   ]
  },
  {
   "cell_type": "code",
   "execution_count": 95,
   "metadata": {},
   "outputs": [
    {
     "name": "stdout",
     "output_type": "stream",
     "text": [
      "12375\n"
     ]
    }
   ],
   "source": [
    "# i = 1\n",
    "# while(len(quo(t(i))) < 500):\n",
    "#     print(i)\n",
    "#     print(t(i),quo(t(i)))\n",
    "#     print(\"len:\",len(quo(t(i))))\n",
    "#     i += 1\n",
    "\n",
    "#raw brute force takes to long need to try thin out the feature space\n",
    "\n",
    "# i = 2800\n",
    "# q = 0\n",
    "# while(q < 500):\n",
    "#     q = len(quo(t(i)))\n",
    "#     print(i,t(i),\"len:\",q)\n",
    "#     i += 1\n",
    "\n",
    "#upon inspection it seems thate square numbers -1 are the first to jump so only need to search these numbers\n",
    "ts = [1]\n",
    "for i in range(2,100000):\n",
    "    ts.append(ts[-1]+i)\n",
    "    i += 1 \n",
    "\n",
    "test = 0\n",
    "i = 1\n",
    "while test < 500:\n",
    "    test = count_quo(ts[i])\n",
    "    i += 1\n",
    "\n",
    "print(i)\n",
    "\n",
    "\n",
    "\n",
    "\n",
    "\n",
    "\n"
   ]
  },
  {
   "cell_type": "code",
   "execution_count": 98,
   "metadata": {},
   "outputs": [
    {
     "data": {
      "text/plain": [
       "576"
      ]
     },
     "execution_count": 98,
     "metadata": {},
     "output_type": "execute_result"
    }
   ],
   "source": [
    "len(naive_quo(t(12375)))"
   ]
  },
  {
   "cell_type": "code",
   "execution_count": 99,
   "metadata": {},
   "outputs": [
    {
     "data": {
      "text/plain": [
       "76576500"
      ]
     },
     "execution_count": 99,
     "metadata": {},
     "output_type": "execute_result"
    }
   ],
   "source": [
    "t(12375)"
   ]
  },
  {
   "cell_type": "code",
   "execution_count": 54,
   "metadata": {},
   "outputs": [
    {
     "name": "stdout",
     "output_type": "stream",
     "text": [
      "103672800\n"
     ]
    },
    {
     "data": {
      "text/plain": [
       "648"
      ]
     },
     "execution_count": 54,
     "metadata": {},
     "output_type": "execute_result"
    }
   ],
   "source": [
    "print(t(14399))\n",
    "\n",
    "len(quo(t(14399)))\n"
   ]
  },
  {
   "cell_type": "code",
   "execution_count": null,
   "metadata": {},
   "outputs": [],
   "source": [
    "#list implementation    \n",
    "tlist = []\n",
    "i = 1\n",
    "while  "
   ]
  }
 ],
 "metadata": {
  "kernelspec": {
   "display_name": "Python 3.9.7 ('base')",
   "language": "python",
   "name": "python3"
  },
  "language_info": {
   "codemirror_mode": {
    "name": "ipython",
    "version": 3
   },
   "file_extension": ".py",
   "mimetype": "text/x-python",
   "name": "python",
   "nbconvert_exporter": "python",
   "pygments_lexer": "ipython3",
   "version": "3.9.7"
  },
  "orig_nbformat": 4,
  "vscode": {
   "interpreter": {
    "hash": "86ced299d573a58fc1d464bd2f917835a691b9d9cefee14c59fce60008360703"
   }
  }
 },
 "nbformat": 4,
 "nbformat_minor": 2
}
