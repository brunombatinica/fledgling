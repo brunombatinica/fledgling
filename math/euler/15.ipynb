{
 "cells": [
  {
   "cell_type": "markdown",
   "metadata": {},
   "source": [
    "## lattice paths\n",
    "\n",
    "can only move right (x+1) and down (y-1)\n",
    "\n",
    "cant move backward\n",
    "\n",
    "its all combinatronics -\n",
    "\n",
    "for a 2x2 grid there will be 2 rights and 2 downs\n",
    "\n",
    "how many different permutations of 2 groups of 2\n",
    "\n",
    "4*3*2*1 but for each directer there are 2 ways it could be picked that dont matter so /(2*2)\n",
    "\n",
    "4*3*2*1/(2*2) = 6\n",
    "\n",
    "for 20x20\n",
    "\n",
    "same pattern but for each colour 20! ways it could be picked\n",
    "\n",
    "so we get 40!/(20! * 20!)\n",
    "\n",
    "i have a feelign 40! is going to give us an error"
   ]
  },
  {
   "cell_type": "code",
   "execution_count": 14,
   "metadata": {},
   "outputs": [
    {
     "data": {
      "text/plain": [
       "137846528820.0"
      ]
     },
     "execution_count": 14,
     "metadata": {},
     "output_type": "execute_result"
    }
   ],
   "source": [
    "a = [i+1 for i in range(40)]\n",
    "from functools import reduce\n",
    "reduce(lambda x, y: x*y,range(1,41)) / (reduce(lambda x, y: x*y,range(1,21)) ** 2)"
   ]
  },
  {
   "cell_type": "code",
   "execution_count": 10,
   "metadata": {},
   "outputs": [
    {
     "name": "stdout",
     "output_type": "stream",
     "text": [
      "\u001b[1;31mDocstring:\u001b[0m\n",
      "reduce(function, iterable[, initial]) -> value\n",
      "\n",
      "Apply a function of two arguments cumulatively to the items of a sequence\n",
      "or iterable, from left to right, so as to reduce the iterable to a single\n",
      "value.  For example, reduce(lambda x, y: x+y, [1, 2, 3, 4, 5]) calculates\n",
      "((((1+2)+3)+4)+5).  If initial is present, it is placed before the items\n",
      "of the iterable in the calculation, and serves as a default when the\n",
      "iterable is empty.\n",
      "\u001b[1;31mType:\u001b[0m      builtin_function_or_method"
     ]
    }
   ],
   "source": [
    "?reduce"
   ]
  },
  {
   "cell_type": "markdown",
   "metadata": {},
   "source": [
    "NICE!!!"
   ]
  }
 ],
 "metadata": {
  "kernelspec": {
   "display_name": "base",
   "language": "python",
   "name": "python3"
  },
  "language_info": {
   "codemirror_mode": {
    "name": "ipython",
    "version": 3
   },
   "file_extension": ".py",
   "mimetype": "text/x-python",
   "name": "python",
   "nbconvert_exporter": "python",
   "pygments_lexer": "ipython3",
   "version": "3.11.5"
  }
 },
 "nbformat": 4,
 "nbformat_minor": 2
}
