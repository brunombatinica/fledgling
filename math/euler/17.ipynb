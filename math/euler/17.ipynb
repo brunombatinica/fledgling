{
 "cells": [
  {
   "cell_type": "code",
   "execution_count": 94,
   "metadata": {},
   "outputs": [],
   "source": [
    "temp = {\n",
    "    0:\"\",\n",
    "    1:\"one\",\n",
    "    2:\"two\",\n",
    "    3:\"three\",\n",
    "    4:\"four\",\n",
    "    5:\"five\",\n",
    "    6:\"six\",\n",
    "    7:\"seven\",\n",
    "    8:\"eight\",\n",
    "    9:\"nine\",\n",
    "    10:\"ten\",\n",
    "    11:\"eleven\",\n",
    "    12:\"twelve\",\n",
    "    13:\"thirteen\",\n",
    "    14:\"fourteen\",\n",
    "    15:\"fifteen\",\n",
    "    16:\"sixteen\",\n",
    "    17:\"seventeen\",\n",
    "    18:\"eighteen\",\n",
    "    19:\"nineteen\",\n",
    "    20:\"twenty\",\n",
    "    30:\"thirty\",\n",
    "    40:\"forty\",\n",
    "    50:\"fifty\",\n",
    "    60:\"sixty\",\n",
    "    70:\"seventy\",\n",
    "    80:\"eighty\",\n",
    "    90:\"ninety\",\n",
    "    1000:\"onethousand\"\n",
    "}\n",
    "\n"
   ]
  },
  {
   "cell_type": "code",
   "execution_count": 95,
   "metadata": {},
   "outputs": [
    {
     "name": "stdout",
     "output_type": "stream",
     "text": [
      "onehundredandfifteen 20\n"
     ]
    }
   ],
   "source": [
    "def deconstructor(x):\n",
    "    # prints the word of a number between 0 and 999\n",
    "    output = \"\"\n",
    "\n",
    "    #check first\n",
    "    if x in temp.keys():\n",
    "        return temp[x]\n",
    "\n",
    "    #hundreds\n",
    "    output += temp[x // 100]\n",
    "    if output != \"\":\n",
    "        output += \"hundred\"\n",
    "\n",
    "        if x%100 != 0:\n",
    "            output += \"and\"\n",
    "\n",
    "    x = x % 100\n",
    "    \n",
    "    if x in temp.keys():\n",
    "        output += temp[x]\n",
    "        return output\n",
    "    else:\n",
    "        output += temp[x // 10 * 10]\n",
    "        output += temp[x%10]\n",
    "\n",
    "    return output\n",
    "\n",
    "\n",
    "test = deconstructor(115)\n",
    "print(f\"{test} {len(test)}\")"
   ]
  },
  {
   "cell_type": "code",
   "execution_count": 97,
   "metadata": {},
   "outputs": [
    {
     "data": {
      "text/plain": [
       "21124"
      ]
     },
     "execution_count": 97,
     "metadata": {},
     "output_type": "execute_result"
    }
   ],
   "source": [
    "sum([len(deconstructor(i)) for i in range(1,1001)]) "
   ]
  }
 ],
 "metadata": {
  "kernelspec": {
   "display_name": "base",
   "language": "python",
   "name": "python3"
  },
  "language_info": {
   "codemirror_mode": {
    "name": "ipython",
    "version": 3
   },
   "file_extension": ".py",
   "mimetype": "text/x-python",
   "name": "python",
   "nbconvert_exporter": "python",
   "pygments_lexer": "ipython3",
   "version": "0.0.0"
  }
 },
 "nbformat": 4,
 "nbformat_minor": 2
}
