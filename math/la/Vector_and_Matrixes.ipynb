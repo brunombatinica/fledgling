{
 "cells": [
  {
   "cell_type": "code",
   "execution_count": 45,
   "id": "57a55127",
   "metadata": {},
   "outputs": [],
   "source": [
    "\n",
    "\n",
    "import numpy as np\n",
    "import matplotlib as mpl\n",
    "from matplotlib import pyplot as plt\n",
    "from mpl_toolkits import mplot3d\n",
    "import random\n",
    "\n",
    "#Makes plots interactive\n",
    "#%matplotlib notebook\n",
    "\n",
    "\n"
   ]
  },
  {
   "cell_type": "code",
   "execution_count": 46,
   "id": "31715f2d",
   "metadata": {},
   "outputs": [],
   "source": [
    "class vector(object):\n",
    "    #Requires matplotlib\n",
    "    def __init__(self,list):\n",
    "        self.vector = np.array(list)\n",
    "        self.origin = np.zeros(len(list))\n",
    "\n",
    "    def __str__(self):\n",
    "        return str(self.vector)\n",
    "        \n",
    "    def vplot(self):\n",
    "        #2D cartesian return\n",
    "        if len(self.vector) == 2:\n",
    "            return ([self.origin[0],self.vector[0]],\n",
    "                    [self.origin[1],self.vector[1]])\n",
    "        elif len(self.vector) == 3:\n",
    "            return ([self.origin[0],self.vector[0]],\n",
    "                    [self.origin[1],self.vector[1]],\n",
    "                    [self.origin[2],self.vector[2]])\n",
    "    \n",
    "    def dot(self,otherv):\n",
    "        d = 0\n",
    "        for i,j in zip(self.vector,otherv.vector):\n",
    "            d += i*j\n",
    "        \n",
    "        return d\n",
    "    \n",
    "    def cross(self,otherv):\n",
    "        #You could implement a nice recursive definition of the \n",
    "        #determinant of higher dimensional matrixes base case = a 2X2 matrix\n",
    "\n",
    "\n",
    "        m = np.array([self.vector,otherv.vector])\n",
    "        return np.linalg.det(m)\n",
    "        \n",
    "    def length(self):\n",
    "        length = 0\n",
    "        for i in self.vector:\n",
    "            length += i**2\n",
    "        return(np.sqrt(length))\n",
    "    \n",
    "    def norm(self):\n",
    "        #cartesian norm - identical to length\n",
    "        norm = 0\n",
    "        for i in self.vector:\n",
    "            norm += i**2\n",
    "        return(np.sqrt(norm))\n",
    "    \n",
    "    \n",
    "\n",
    "class square(object):\n",
    "    def __init__(self,i,j):\n",
    "        self.i = np.array(i)\n",
    "        self.j = np.array(j)\n",
    "        \n",
    "    def transform(self,T):    \n",
    "        #T is a np matrix\n",
    "        i = T @ self.i\n",
    "        j = T @ self.j\n",
    "        \n",
    "        return square(i,j)\n",
    "        \n",
    "    def array(self):\n",
    "        return ([0,self.i[0],self.i[0]+self.j[0],self.j[0],0], \n",
    "    [0,self.i[1],self.i[1]+self.j[1],self.j[1],0])\n",
    "    \n",
    "    \n",
    "def det(matrix):\n",
    "    #Recursive determinant proof\n",
    "    #|At| = |A|.\n",
    "    #so doesnt matter if you choose rows of columns\n",
    "    #input = square numpy array\n",
    "    #OUtput = determinant\n",
    "    \n",
    "    if matrix.shape == (1,1):\n",
    "        print(\"BASE CASE:\", matrix[0])\n",
    "        return matrix[0]\n",
    "    \n",
    "    else:\n",
    "        determinant = 0\n",
    "        for i in range(matrix.shape[0]):\n",
    "            \n",
    "            rows = [r for r in range(matrix.shape[0]) if r != i]\n",
    "            columns = [*range(1,matrix.shape[0])]\n",
    "            \n",
    "            \n",
    "            \n",
    "            #Use my function to create a grid of rows and columns\n",
    "            index = mesh_index(rows,columns)\n",
    "            \n",
    "            print(\"rows:\",rows)\n",
    "            print(\"col:\",columns)\n",
    "            print(\"value\",matrix[i,0])\n",
    "            print(\"submatrix\",matrix[rows,columns])\n",
    "            print(index[0])\n",
    "            \n",
    "            determinant += (-1)**(i+1) * matrix[i,0] * det(matrix[index[0],index[1]] ) \n",
    "            \n",
    "            #use np.ix_ instead ##############TRY FIGURE OUT WHY THIS FUNCTION WORKS BUT THE STAR OEPRATOR DOESNT\n",
    "            \n",
    "            # BOOLEAN MASK METHOD DOESNT REALLY WORK, WILL DO SOMEHTING SIMPLER INSTED\n",
    "            #print(matrix)\n",
    "            #mask = np.ones(matrix.shape, dtype = bool)\n",
    "            #mask[:,0]=False\n",
    "            #mask[i,:]=False\n",
    "            #print(matrix)\n",
    "            #print(mask)\n",
    "            #print(matrix[mask])\n",
    "            #determinant += matrix[0,0]*det(matrix[mask])\n",
    "            \n",
    "        return determinant\n",
    "    \n",
    "    \n",
    "def mesh_index(rows,cols):\n",
    "    #Bsaic meshgrid to assist with indexing\n",
    "    #Row and column need to be the same size\n",
    "    \n",
    "    size = len(rows)\n",
    "    r = np.zeros([size,size] , dtype = np.intp)\n",
    "    c = np.zeros([size,size] , dtype = np.intp)\n",
    "    \n",
    "    \n",
    "    for ind,v in enumerate(zip(rows,cols)):\n",
    "        r[ind,:] = v[0]\n",
    "        c[:,ind] = v[1]\n",
    "        \n",
    "    return (r,c)\n"
   ]
  },
  {
   "cell_type": "code",
   "execution_count": 47,
   "id": "688073ae",
   "metadata": {},
   "outputs": [
    {
     "name": "stdout",
     "output_type": "stream",
     "text": [
      "[[2 2]\n",
      " [1 3]]\n",
      "[[ 0.75 -0.5 ]\n",
      " [-0.25  0.5 ]]\n",
      "4.0\n"
     ]
    }
   ],
   "source": [
    "#Nmpy matrix testing\n",
    "\n",
    "#A = np.array([[2,5,3],[4,0,8],[1,3,0]])\n",
    "\n",
    "\n",
    "\n",
    "#Trial matrix transformation\n",
    "A = np.array([[2,2],[1,3]])\n",
    "Ainv = np.linalg.inv(A)\n",
    "print(A)\n",
    "print(Ainv)\n",
    "#The determinant\n",
    "# ad - bc\n",
    "# 2 * 3 - 2 * 1 = 4\n",
    "print(np.linalg.det(A))\n",
    "\n",
    "#v = np.array([-3,0,2])\n",
    "v = [-4,1]\n"
   ]
  },
  {
   "cell_type": "code",
   "execution_count": 48,
   "id": "91771abe",
   "metadata": {},
   "outputs": [],
   "source": [
    "#unit square and transformation\n",
    "u1 = square([1,0],[0,1])\n",
    "u2 = u1.transform(A)\n",
    "u3 = u2.transform(Ainv)"
   ]
  },
  {
   "cell_type": "code",
   "execution_count": 49,
   "id": "5549431d",
   "metadata": {},
   "outputs": [
    {
     "name": "stdout",
     "output_type": "stream",
     "text": [
      "25\n",
      "3.1622776601683795\n",
      "0.9999999999999999\n",
      "[[ 0.51332764  0.11658795  0.84049189 -1.39089025 -0.13472266  0.49128893\n",
      "  -0.52969629  1.29962835  0.63851357 -1.50390606]\n",
      " [ 1.53998293  0.34976386  2.52147568 -4.17267075 -0.40416799  1.47386679\n",
      "  -1.58908887  3.89888505  1.9155407  -4.51171818]]\n"
     ]
    }
   ],
   "source": [
    "#Dot product\n",
    "a = vector([1,2,3])\n",
    "b = vector([2,4,5])\n",
    "\n",
    "print(a.dot(b))\n",
    "\n",
    "basevector = vector([1,3])\n",
    "print(basevector.length())\n",
    "unitvector = vector(basevector.vector / (basevector.length()))\n",
    "print(unitvector.length())\n",
    "\n",
    "random.seed(1)\n",
    "\n",
    "#projection onto a vector\n",
    "#Create a scatter of random points\n",
    "data = np.array([[random.uniform(-4,4) for i in range(10)],\n",
    "                  [random.uniform(-4,4) for i in range(10)]])\n",
    "dots = []\n",
    "for i in range(10):\n",
    "    dots.append(unitvector.dot(vector(data[:,i])))\n",
    "\n",
    "newdata = np.zeros((2,10))\n",
    "for i in range(10):\n",
    "    newdata[:,i] = unitvector.vector * dots[i]\n",
    "print(newdata)"
   ]
  },
  {
   "cell_type": "code",
   "execution_count": 50,
   "id": "3f489788",
   "metadata": {},
   "outputs": [
    {
     "name": "stdout",
     "output_type": "stream",
     "text": [
      "[[-3  2]\n",
      " [ 1  1]]\n",
      "rows: [1]\n",
      "col: [1]\n",
      "value -3\n",
      "submatrix [1]\n",
      "[[1]]\n",
      "BASE CASE: [1]\n",
      "rows: [0]\n",
      "col: [1]\n",
      "value 1\n",
      "submatrix [2]\n",
      "[[0]]\n",
      "BASE CASE: [2]\n",
      "[5]\n",
      "[[1 2 3]\n",
      " [4 5 6]\n",
      " [7 8 9]]\n",
      "rows: [1, 2]\n",
      "col: [1, 2]\n",
      "value 1\n",
      "submatrix [5 9]\n",
      "[[1 1]\n",
      " [2 2]]\n",
      "rows: [1]\n",
      "col: [1]\n",
      "value 5\n",
      "submatrix [9]\n",
      "[[1]]\n",
      "BASE CASE: [9]\n",
      "rows: [0]\n",
      "col: [1]\n",
      "value 8\n",
      "submatrix [6]\n",
      "[[0]]\n",
      "BASE CASE: [6]\n",
      "rows: [0, 2]\n",
      "col: [1, 2]\n",
      "value 4\n",
      "submatrix [2 9]\n",
      "[[0 0]\n",
      " [2 2]]\n",
      "rows: [1]\n",
      "col: [1]\n",
      "value 2\n",
      "submatrix [9]\n",
      "[[1]]\n",
      "BASE CASE: [9]\n",
      "rows: [0]\n",
      "col: [1]\n",
      "value 8\n",
      "submatrix [3]\n",
      "[[0]]\n",
      "BASE CASE: [3]\n",
      "rows: [0, 1]\n",
      "col: [1, 2]\n",
      "value 7\n",
      "submatrix [2 6]\n",
      "[[0 0]\n",
      " [1 1]]\n",
      "rows: [1]\n",
      "col: [1]\n",
      "value 2\n",
      "submatrix [6]\n",
      "[[1]]\n",
      "BASE CASE: [6]\n",
      "rows: [0]\n",
      "col: [1]\n",
      "value 5\n",
      "submatrix [3]\n",
      "[[0]]\n",
      "BASE CASE: [3]\n",
      "[0]\n"
     ]
    }
   ],
   "source": [
    "#Cross product\n",
    "v = vector([-3,1])\n",
    "w = vector([2,1])\n",
    "v.cross(w)\n",
    "\n",
    "#Be careful of rows and columns\n",
    "m = np.array([v.vector,w.vector]).T\n",
    "print(m)\n",
    "print(det(m))\n",
    "\n",
    "#m = np.array([[3,2,1],[5,6,7],[8,1,4]])\n",
    "m = np.array([[1,2,3],[4,5,6],[7,8,9]])\n",
    "\n",
    "print(m)\n",
    "print(det(m))\n"
   ]
  },
  {
   "cell_type": "code",
   "execution_count": 51,
   "id": "f4e51f8f",
   "metadata": {},
   "outputs": [
    {
     "data": {
      "image/png": "[encoded data removed]",
      "text/plain": [
       "<Figure size 432x288 with 1 Axes>"
      ]
     },
     "metadata": {
      "needs_background": "light"
     },
     "output_type": "display_data"
    }
   ],
   "source": [
    "fig = plt.figure()\n",
    "ax = plt.axes()\n",
    "#ax = plt.axes(projection = \"3d\")\n",
    "\n",
    "#######################################\n",
    "#puts grid on the plot\n",
    "ax.grid()\n",
    "#sets axes (default on)\n",
    "ax.set_axis_on()\n",
    "#set specific axis limits\n",
    "ax.set_xlim(-5,5)\n",
    "ax.set_ylim(-5,5)\n",
    "#moving axis to middle of plot (using spines)\n",
    "ax.spines['left'].set_position('zero')\n",
    "ax.spines['bottom'].set_position('zero')\n",
    "########################################\n",
    "\n",
    "##### Squares\n",
    "#Plot unit square\n",
    "#ax.plot(*u1.array())\n",
    "\n",
    "#Plot transformed square\n",
    "#ax.plot(*u2.array())\n",
    "\n",
    "#Plot retransformed\n",
    "#ax.plot(*u3.array())\n",
    "\n",
    "ax.plot(*unitvector.vplot())\n",
    "\n",
    "ax.scatter(*data)\n",
    "ax.scatter(*newdata)\n",
    "\n",
    "\n",
    "plt.show()"
   ]
  },
  {
   "cell_type": "code",
   "execution_count": 52,
   "id": "3043fa9d",
   "metadata": {
    "scrolled": true
   },
   "outputs": [
    {
     "name": "stdout",
     "output_type": "stream",
     "text": [
      "([0.0, 1], [0.0, 2], [0.0, 3])\n"
     ]
    },
    {
     "data": {
      "text/plain": [
       "[<mpl_toolkits.mplot3d.art3d.Line3D at 0x25f847fceb0>]"
      ]
     },
     "execution_count": 52,
     "metadata": {},
     "output_type": "execute_result"
    },
    {
     "data": {
      "image/png": "[encoded data removed]",
      "text/plain": [
       "<Figure size 432x288 with 1 Axes>"
      ]
     },
     "metadata": {
      "needs_background": "light"
     },
     "output_type": "display_data"
    }
   ],
   "source": [
    "#3D vector plots\n",
    "\n",
    "fig = plt.figure()\n",
    "ax = plt.axes(projection='3d')\n",
    "\n",
    "################Axes\n",
    "ax.set_xlim3d([-2.0, 2.0])\n",
    "ax.set_xlabel('X')\n",
    "\n",
    "ax.set_ylim3d([-2.0, 2.0])\n",
    "ax.set_ylabel('Y')\n",
    "\n",
    "ax.set_zlim3d([-2, 2])\n",
    "ax.set_zlabel('Z')\n",
    "########################\n",
    "\n",
    "print(a.vplot())\n",
    "#Vectors\n",
    "ax.plot(*a.vplot())\n",
    "#ax.plot(*vector(b).vplot())\n",
    "#ax.plot(*vector(v).vplot())"
   ]
  },
  {
   "cell_type": "code",
   "execution_count": 66,
   "id": "18ac8858",
   "metadata": {},
   "outputs": [
    {
     "name": "stdout",
     "output_type": "stream",
     "text": [
      "vector: \n",
      " [[1 2]\n",
      " [2 4]\n",
      " [3 6]\n",
      " [4 8]] \n",
      " Var: 4.6875\n"
     ]
    },
    {
     "data": {
      "image/png": "[encoded data removed]",
      "text/plain": [
       "<Figure size 432x288 with 1 Axes>"
      ]
     },
     "metadata": {
      "needs_background": "light"
     },
     "output_type": "display_data"
    }
   ],
   "source": [
    "# %%\n",
    "#Variance test\n",
    "\n",
    "X = np.array([[1,2,3,4]])\n",
    "A = np.array([[1,2]])\n",
    "\n",
    "test = X.T@A\n",
    "\n",
    "print(\n",
    "    \"vector: \\n\", test, \"\\n\",\n",
    "    \"Var:\", np.var(test)\n",
    ")\n",
    "\n",
    "\n",
    "ax1 = plt.subplot()\n",
    "ax1.plot([0,A[0,0]],[0,A[0,1]])\n",
    "if test.shape[1] == 1:\n",
    "    ax1.scatter(test,np.zeros(test.shape))\n",
    "elif test.shape[1] == 2:\n",
    "    ax1.scatter(test[:,0],test[:,1])\n",
    "# %%\n"
   ]
  },
  {
   "cell_type": "code",
   "execution_count": null,
   "id": "8adc4bf3",
   "metadata": {},
   "outputs": [],
   "source": []
  }
 ],
 "metadata": {
  "kernelspec": {
   "display_name": "Python 3 (ipykernel)",
   "language": "python",
   "name": "python3"
  },
  "language_info": {
   "codemirror_mode": {
    "name": "ipython",
    "version": 3
   },
   "file_extension": ".py",
   "mimetype": "text/x-python",
   "name": "python",
   "nbconvert_exporter": "python",
   "pygments_lexer": "ipython3",
   "version": "3.9.7"
  }
 },
 "nbformat": 4,
 "nbformat_minor": 5
}
