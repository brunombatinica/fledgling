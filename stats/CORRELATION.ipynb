{
 "cells": [
  {
   "attachments": {},
   "cell_type": "markdown",
   "metadata": {},
   "source": [
    "# Trying to grok correlation"
   ]
  },
  {
   "attachments": {},
   "cell_type": "markdown",
   "metadata": {},
   "source": [
    "connection between correlation, linear regression, and generated random variables"
   ]
  },
  {
   "cell_type": "code",
   "execution_count": 2,
   "metadata": {},
   "outputs": [],
   "source": [
    "import matplotlib.pyplot as plt\n",
    "#import sksurv.datasets\n",
    "import sklearn\n",
    "import pandas as pd\n",
    "import random\n",
    "import numpy as np\n",
    "\n",
    "from sklearn.linear_model import LinearRegression\n",
    "\n"
   ]
  },
  {
   "cell_type": "code",
   "execution_count": null,
   "metadata": {},
   "outputs": [],
   "source": [
    "bin = np.random.randint(2, size = 1000, dtype = int)\n",
    "p = 0.5\n",
    "bin2 = np.random.choice([0,1], size = 1000, p = [1-p,p] )\n",
    "\n",
    "#create a correlated varaible - the probability of bin3 = 1 is higher if bin2 is 1\n",
    "prob = [0.5,0.5]\n",
    "bin3 = np.array([np.random.choice([0,1],p = [1-prob[i],prob[i]]) for i in bin2])"
   ]
  },
  {
   "cell_type": "code",
   "execution_count": 5,
   "metadata": {},
   "outputs": [
    {
     "name": "stdout",
     "output_type": "stream",
     "text": [
      "(100,)\n",
      "[0.00430884]\n"
     ]
    },
    {
     "data": {
      "text/plain": [
       "array([[1.        , 0.00430947],\n",
       "       [0.00430947, 1.        ]])"
      ]
     },
     "execution_count": 5,
     "metadata": {},
     "output_type": "execute_result"
    },
    {
     "data": {
      "image/png": "[encoded data removed]",
      "text/plain": [
       "<Figure size 640x480 with 1 Axes>"
      ]
     },
     "metadata": {},
     "output_type": "display_data"
    }
   ],
   "source": [
    "linreg = LinearRegression()\n",
    "linreg.fit(bin2.reshape(-1,1),bin3)\n",
    "\n",
    "x_ = np.linspace(0,1,100)\n",
    "print(x_.shape)\n",
    "y_ = linreg.predict(x_.reshape(-1,1))\n",
    "plt.scatter(x_,y_)\n",
    "\n",
    "print(linreg.coef_)\n",
    "#gradient of the line is essentially 0\n",
    "np.corrcoef(bin2,bin3)"
   ]
  },
  {
   "cell_type": "code",
   "execution_count": 6,
   "metadata": {},
   "outputs": [
    {
     "data": {
      "text/plain": [
       "array([[1.        , 0.19476819],\n",
       "       [0.19476819, 1.        ]])"
      ]
     },
     "execution_count": 6,
     "metadata": {},
     "output_type": "execute_result"
    }
   ],
   "source": [
    "#repeat again\n",
    "prob2 = [0.5,0.7]\n",
    "bin4 = np.array([np.random.choice([0,1],p = [1-prob2[i],prob2[i]]) for i in bin2])\n",
    "\n",
    "# rise/run = 0.2/1 = 0.2 correlation\n",
    "np.corrcoef(bin2,bin4)"
   ]
  },
  {
   "attachments": {},
   "cell_type": "markdown",
   "metadata": {},
   "source": [
    "# calculating it out by hand"
   ]
  },
  {
   "cell_type": "code",
   "execution_count": 13,
   "metadata": {},
   "outputs": [
    {
     "data": {
      "text/plain": [
       "0.19476818692353684"
      ]
     },
     "execution_count": 13,
     "metadata": {},
     "output_type": "execute_result"
    }
   ],
   "source": [
    "np.mean((bin2 - np.mean(bin2))*(bin4  -np.mean(bin4)))/(np.std(bin2)*np.std(bin4))"
   ]
  },
  {
   "cell_type": "code",
   "execution_count": null,
   "metadata": {},
   "outputs": [],
   "source": []
  }
 ],
 "metadata": {
  "kernelspec": {
   "display_name": "base",
   "language": "python",
   "name": "python3"
  },
  "language_info": {
   "codemirror_mode": {
    "name": "ipython",
    "version": 3
   },
   "file_extension": ".py",
   "mimetype": "text/x-python",
   "name": "python",
   "nbconvert_exporter": "python",
   "pygments_lexer": "ipython3",
   "version": "3.11.5"
  },
  "orig_nbformat": 4,
  "vscode": {
   "interpreter": {
    "hash": "86ced299d573a58fc1d464bd2f917835a691b9d9cefee14c59fce60008360703"
   }
  }
 },
 "nbformat": 4,
 "nbformat_minor": 2
}
