{
 "cells": [
  {
   "cell_type": "code",
   "execution_count": 42,
   "metadata": {},
   "outputs": [],
   "source": [
    "import numpy as np\n",
    "import matplotlib as mpl\n",
    "import matplotlib.pyplot as plt\n",
    "import random\n",
    "import math\n",
    "from scipy import stats\n",
    "from scipy import integrate"
   ]
  },
  {
   "cell_type": "markdown",
   "metadata": {},
   "source": [
    "# Survival counting process martingale example....\n"
   ]
  },
  {
   "cell_type": "markdown",
   "metadata": {},
   "source": [
    "## *survival martingale counting processes formulas*\n"
   ]
  },
  {
   "cell_type": "markdown",
   "metadata": {},
   "source": [
    "$$\n",
    "N(t) = 1 (U \\leq t, \\delta = 1)\n",
    "\\\\\n",
    "Y(t) = 1 ( U \\geq t)\n",
    "$$\n",
    "\n",
    "conditional on Y(t) = 1, $\\lambda(t)*\\Delta t $ is the expected change in the ocunting process N(t) at time t\n",
    "\n",
    "Compensoator process A(t)=\n",
    "\n",
    "$$\n",
    "A(t) = \\int_{0}^{t} \\lambda(u) Y(u) du\n",
    "$$ "
   ]
  },
  {
   "cell_type": "markdown",
   "metadata": {},
   "source": [
    "## *Simple martingale example using the exponential distribution*"
   ]
  },
  {
   "cell_type": "markdown",
   "metadata": {},
   "source": [
    "$ T ~ Exp(\\lambda) \\\\\n",
    "G = censoring~process \\sim  arbitrary! \\\\\n",
    "\\lambda(t) = \\lambda $\n",
    "\n",
    "Note lambda function =denotes hte hazard function, lambda symbol = just an arbitrary constant"
   ]
  },
  {
   "cell_type": "code",
   "execution_count": 19,
   "metadata": {},
   "outputs": [],
   "source": [
    "#defining relevate probabiltiy function for the exponential\n",
    "\n",
    "def f(x,l):\n",
    "    #pdf\n",
    "    return l*np.exp(-l*x)\n",
    "\n",
    "def F(x,l):\n",
    "    #cdf\n",
    "    return 1-np.exp(-l*x)\n",
    "\n",
    "def h(x,l):\n",
    "    #hazard = constant for exponential\n",
    "    return l\n",
    "\n",
    "def S(x,l):\n",
    "    #survival = 1-F(t)\n",
    "    np.exp(-1*x)\n",
    "\n",
    "def T(l):\n",
    "    # samples form a exponential distribution with hazard = l\n",
    "\n",
    "    X = np.random.uniform(0,1)\n",
    "\n",
    "    #inverse cdf\n",
    "    return -np.log(1-X)/l\n",
    "\n",
    "\n",
    "#censroing functions - arbitrarily chosen....\n",
    "def G1(l):\n",
    "    #exponential with a slightly smaller hazard\n",
    "\n",
    "    X = np.random.uniform(0,1)\n",
    "\n",
    "    #inverse cdf\n",
    "    return -np.log(1-X)/(l/1.05)"
   ]
  },
  {
   "cell_type": "code",
   "execution_count": 99,
   "metadata": {},
   "outputs": [
    {
     "data": {
      "text/plain": [
       "[<matplotlib.lines.Line2D at 0x1a5b27bb3a0>]"
      ]
     },
     "execution_count": 99,
     "metadata": {},
     "output_type": "execute_result"
    },
    {
     "data": {
      "image/png": "[encoded data removed]",
      "text/plain": [
       "<Figure size 432x288 with 1 Axes>"
      ]
     },
     "metadata": {
      "needs_background": "light"
     },
     "output_type": "display_data"
    }
   ],
   "source": [
    "#defining lambda - arbitrary\n",
    "l = 0.5\n",
    "\n",
    "# sample of T\n",
    "n = 1000\n",
    "Ts = [T(l) for i in range(n)]\n",
    "# sample of C\n",
    "Cs = [G1(l) for i in range(n)]\n",
    "# construct U and delta\n",
    "Us = [min(i,j) for i,j in zip(Ts,Cs)]\n",
    "ds = [1 if i<j else 0 for i,j in zip(Ts,Cs)]\n",
    "\n",
    "t = np.linspace(0,10,100)\n",
    "     \n",
    "fig = plt.figure()\n",
    "ax = fig.add_subplot()\n",
    "ax.hist(Ts, density = True)\n",
    "ax.plot(t,[f(i,l) for i in t])"
   ]
  },
  {
   "cell_type": "code",
   "execution_count": 23,
   "metadata": {},
   "outputs": [
    {
     "name": "stdout",
     "output_type": "stream",
     "text": [
      "T: [4.111352608847576, 4.945137815661125, 0.3598800957579456, 1.6676687685128033, 0.23546952363229814]\n",
      "C: [0.2342096567147057, 2.760510958149683, 0.40120541237160007, 0.5280027632983594, 3.0394848996133295]\n",
      "U: [0.2342096567147057, 2.760510958149683, 0.3598800957579456, 0.5280027632983594, 0.23546952363229814]\n",
      "d: [0, 0, 1, 0, 1]\n"
     ]
    }
   ],
   "source": [
    "print(\"T:\",Ts[0:5])\n",
    "print(\"C:\",Cs[0:5])\n",
    "print(\"U:\",Us[0:5])\n",
    "print(\"d:\",ds[0:5])"
   ]
  },
  {
   "cell_type": "markdown",
   "metadata": {},
   "source": [
    "## counting proceses N(t) and Y(t)\n",
    "\n",
    "We can sample the probability space - to get sample paths of htese processes by inputting random variables T and C into them!!! - as they are functions form hte probabilty sapce onto the R - NOT WELL EXPLAINED BUT MAKES SENSE\n",
    "\n",
    "We can feed hte stochastic process a litte omega - by inputting the 2 random variables T and C and then generating the sample path corresponding to this little omega\n",
    "\n",
    "**Compensator process also take hazard function as an input**"
   ]
  },
  {
   "cell_type": "markdown",
   "metadata": {},
   "source": [
    "# copied from above\n",
    "$$\n",
    "N(t) = 1 (U \\leq t, \\delta = 1)\n",
    "\\\\\n",
    "Y(t) = 1 ( U \\geq t)\n",
    "$$\n",
    "\n",
    "conditional on Y(t) = 1, $\\lambda(t)*\\Delta t $ is the expected change in the ocunting process N(t) at time t\n",
    "\n",
    "Compensoator process A(t)=\n",
    "\n",
    "$$\n",
    "A(t) = \\int_{0}^{t} \\lambda(u) Y(u) du\n",
    "$$ "
   ]
  },
  {
   "cell_type": "code",
   "execution_count": 66,
   "metadata": {},
   "outputs": [
    {
     "data": {
      "text/plain": [
       "[<matplotlib.lines.Line2D at 0x1a5b3e51c70>]"
      ]
     },
     "execution_count": 66,
     "metadata": {},
     "output_type": "execute_result"
    },
    {
     "data": {
      "image/png": "[encoded data removed]",
      "text/plain": [
       "<Figure size 432x288 with 1 Axes>"
      ]
     },
     "metadata": {
      "needs_background": "light"
     },
     "output_type": "display_data"
    }
   ],
   "source": [
    "# N(t) sample path given Ui and di\n",
    "def N(Ui,di,t):\n",
    "    if Ui < t and di == 1:\n",
    "        return 1\n",
    "    else:\n",
    "        return 0\n",
    "\n",
    "def Y(Ui,di,t):\n",
    "    #at risk indicator - as long as no observed failure or censoring = 1\n",
    "    if Ui > t:\n",
    "        return 1\n",
    "    else:\n",
    "        return 0\n",
    "\n",
    "def A(Ui,di,l,t):\n",
    "    #compensator process\n",
    "    #return integrate.quad(lambda u: h(u,l)*Y(Ui,di,u),0,t)[0]\n",
    "\n",
    "    # or equivalently for the exponential example\n",
    "    return l*min(t,Ui)\n",
    "\n",
    "def M(Ui,di,l,t):\n",
    "    return N(Ui,di,t) - A(Ui,di,l,t)\n",
    "\n",
    "\n",
    "#tesing it out\n",
    "l = 1\n",
    "Ui = 1\n",
    "di = 0\n",
    "fig = plt.figure()\n",
    "ax = fig.add_subplot()\n",
    "ax.plot(t,[M(Ui,di,l,i) for i in t])"
   ]
  },
  {
   "cell_type": "markdown",
   "metadata": {},
   "source": [
    "## putting it all together"
   ]
  },
  {
   "cell_type": "markdown",
   "metadata": {},
   "source": [
    "Examing the mean of hte proces\n",
    "\n",
    "$$\n",
    "M(t) = N(t) - A(t)\n",
    "$$\n",
    "\n",
    "for every fixed t, E(M(t)) = 0\n",
    "\n",
    "Intuitively makes sense - as A(t) = expectation of N(t) and N(t) = N(t) itself\n",
    "    So as M(t) goes down it always is expected to jump up 1 with probability equal to the deflection of A(t) - again terrible explained by makes sense\n",
    "\n",
    "    "
   ]
  },
  {
   "cell_type": "code",
   "execution_count": 153,
   "metadata": {},
   "outputs": [
    {
     "name": "stdout",
     "output_type": "stream",
     "text": [
      "Mean: -0.00040655602941754314\n",
      "STD: 0.0974516948215585\n",
      "Number of observed events\n"
     ]
    },
    {
     "data": {
      "image/png": "[encoded data removed]",
      "text/plain": [
       "<Figure size 432x288 with 1 Axes>"
      ]
     },
     "metadata": {
      "needs_background": "light"
     },
     "output_type": "display_data"
    }
   ],
   "source": [
    "# generate our random variables\n",
    "\n",
    "#defining lambda - arbitrary\n",
    "l = 0.01\n",
    "\n",
    "#sampling little omega - generating our random variables\n",
    "# sample of T\n",
    "n = 10000\n",
    "Ts = [T(l) for i in range(n)]\n",
    "# sample of C\n",
    "Cs = [G1(l) for i in range(n)]\n",
    "# construct U and delta\n",
    "Us = [min(i,j) for i,j in zip(Ts,Cs)]\n",
    "ds = [1 if i<j else 0 for i,j in zip(Ts,Cs)]\n",
    "\n",
    "#choose an arbitraty t\n",
    "t = 1\n",
    "# generate M(t) for each little omega is our sample\n",
    "Ms = [M(Ui,di,l,t) for Ui,di in zip(Us,ds)]\n",
    "\n",
    "#plot the histogram\n",
    "fig = plt.figure()\n",
    "ax = fig.add_subplot()\n",
    "ax.hist(Ms)\n",
    "\n",
    "print(\"Mean:\",np.mean(Ms))\n",
    "print(\"STD:\",np.std(Ms))\n",
    "print(\"Number of observed events\")\n"
   ]
  },
  {
   "cell_type": "markdown",
   "metadata": {},
   "source": [
    "# WOW IT WORKS"
   ]
  }
 ],
 "metadata": {
  "kernelspec": {
   "display_name": "Python 3.9.7 ('base')",
   "language": "python",
   "name": "python3"
  },
  "language_info": {
   "codemirror_mode": {
    "name": "ipython",
    "version": 3
   },
   "file_extension": ".py",
   "mimetype": "text/x-python",
   "name": "python",
   "nbconvert_exporter": "python",
   "pygments_lexer": "ipython3",
   "version": "3.9.7"
  },
  "orig_nbformat": 4,
  "vscode": {
   "interpreter": {
    "hash": "86ced299d573a58fc1d464bd2f917835a691b9d9cefee14c59fce60008360703"
   }
  }
 },
 "nbformat": 4,
 "nbformat_minor": 2
}
