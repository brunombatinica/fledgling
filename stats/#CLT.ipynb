{
 "cells": [
  {
   "cell_type": "code",
   "execution_count": 1,
   "metadata": {},
   "outputs": [],
   "source": [
    "import numpy as np\n",
    "import matplotlib.pyplot as plt\n",
    "import scipy.stats as stats"
   ]
  },
  {
   "cell_type": "markdown",
   "metadata": {},
   "source": [
    "# **CLT for MLE stimators**"
   ]
  },
  {
   "cell_type": "markdown",
   "metadata": {},
   "source": [
    "$ \\sqrt{n}(\\theta^* - \\theta_n) \\rightarrow_L \\mathcal{N}(0,I(\\theta^*)^{-1}) $"
   ]
  },
  {
   "cell_type": "markdown",
   "metadata": {},
   "source": [
    "### starting with the normal distribution"
   ]
  },
  {
   "cell_type": "markdown",
   "metadata": {},
   "source": [
    "estimating $\\mu$ ....\n",
    "\n",
    "MLE estimate of mu = \n",
    "\n",
    "$ f(x,\\mu,\\sigma) = \\dfrac{1}{\\sigma \\sqrt{2\\pi}} e^{ -\\dfrac{1}{2} (\\dfrac{x - \\mu}{\\sigma})^2 } $\n",
    "\n",
    "$ F(x,\\mu,\\sigma) = complicated.... = \\dfrac{1}{2}[1 + erf(\\dfrac{x-\\mu}{\\sigma\\sqrt{2}})] $\n",
    "\n",
    "\n",
    "likelihood = pdf just with differnt interpretation\n",
    "\n",
    "$ L(x,\\mu,\\sigma) = \\dfrac{1}{\\sigma \\sqrt{2\\pi}} e^{ -\\dfrac{1}{2} (\\dfrac{x - \\mu}{\\sigma})^2  } $\n",
    "\n",
    "log likelihood = \n",
    "\n",
    "$ l(x,\\mu,\\sigma) = ln(\\dfrac{1}{\\sigma \\sqrt{2\\pi}}) -  {\\dfrac{1}{2} (\\dfrac{x - \\mu}{\\sigma})^2 }  \\\\\n",
    " l(x,\\mu,\\sigma) = -ln(\\sigma \\sqrt{2\\pi}) -  {\\dfrac{1}{2} (\\dfrac{x - \\mu}{\\sigma})^2 } $\n",
    "\n",
    "\n",
    "i.i.d so overlal log likelihood = product of all observations over all observations...\n",
    "\n",
    "Since we have take hte log the produce becomes a sum\n",
    "\n",
    "log likelihood = \n",
    "$ l(x,\\mu,\\sigma) = \\sum ( -ln(\\sigma \\sqrt{2\\pi}) -  {\\dfrac{1}{2} (\\dfrac{x - \\mu}{\\sigma})^2 } ) \\\\\n",
    "l(x,\\mu,\\sigma) = \\sum ( -ln(\\sigma \\sqrt{2\\pi}))  - \\sum( {\\dfrac{1}{2} (\\dfrac{x - \\mu}{\\sigma})^2 } ) \\\\\n",
    "l(x,\\mu,\\sigma) = -nln(\\sigma) -\\dfrac{n}{2}log(2\\pi)  - \\sum( {\\dfrac{1}{2} (\\dfrac{x - \\mu}{\\sigma})^2 } ) \\\\\n",
    "l(x,\\mu,\\sigma) = -nln(\\sigma) -\\dfrac{n}{2}log(2\\pi)  - \\dfrac{1}{2\\sigma^2} \\sum(x - \\mu)^2$\n",
    "\n",
    "**score function** is the gradient of the log-likelihood function with respect to the parameter vector - evaluated at a particular point of hte parameter vector (or in the 1D case with respect to a particular parameter evaluate at a particular parameter value)\n",
    "\n",
    "$s(\\theta) \\equiv \\dfrac{\\partial~l(\\theta)}{\\partial \\theta} $\n",
    "\n",
    "## estimating MU\n",
    "\n",
    "Score of normal With respect to $\\mu$ = \n",
    "\n",
    "$ s_\\mu(x,\\mu,\\sigma) = \\dfrac{1}{2\\sigma^2} \\sum 2(x - \\mu) $\n",
    "\n",
    "\n",
    "MLE estimate of $\\mu$ will be when the score = 0\n",
    "\n",
    "$\\dfrac{1}{2\\sigma^2} \\sum 2(x - \\mu) = 0$\n",
    "\n",
    "$ \\sum (x - \\mu) = 0$\n",
    "\n",
    "$ \\sum x -  \\sum \\mu = 0$\n",
    "\n",
    "$ \\sum x =  n\\mu $\n",
    "\n",
    "$ \\mu = \\dfrac{\\sum x}{n} $ \n",
    "\n",
    "## estimating sigma\n",
    "\n",
    "Score of normal With respect to $\\sigma$ = \n",
    "\n",
    "$ s_\\sigma(x,\\mu,\\sigma) = - \\dfrac{n}{\\sigma} + \\dfrac{1}{\\sigma^3} \\sum (x - \\mu)^2 $\n",
    "\n",
    "\n",
    "MLE estimate of $\\sigma$ will be when the score = 0\n",
    "\n",
    "$ -\\dfrac{n}{\\sigma} + \\dfrac{1}{\\sigma^3} \\sum (x - \\mu)^2  = 0$\n",
    "\n",
    "$ \\dfrac{n}{\\sigma} = \\dfrac{1}{\\sigma^3} \\sum (x - \\mu)^2 $\n",
    "\n",
    "$ \\sigma^2 = \\dfrac{1}{n} \\sum (x - \\mu)^2 $\n",
    "\n",
    "\n",
    "\n",
    "\n",
    "\n",
    "\n"
   ]
  },
  {
   "cell_type": "code",
   "execution_count": 152,
   "metadata": {},
   "outputs": [
    {
     "name": "stdout",
     "output_type": "stream",
     "text": [
      "mu_bar\n",
      "0.2360922857600992\n",
      "0.22499999999999998\n",
      "sigma_bar\n",
      "86.79282561398118\n",
      "101.25\n"
     ]
    }
   ],
   "source": [
    "# testing it out\n",
    "#np.random.seed(seed = 1)\n",
    "\n",
    "mu = 10\n",
    "sigma = 15\n",
    "\n",
    "mu_hats = []\n",
    "sigma_hats = []\n",
    "n = 1000\n",
    "trials = 100\n",
    "\n",
    "for i in range(trials):\n",
    "    \n",
    "    X = stats.norm.rvs(loc = mu, scale = sigma, size = n)\n",
    "\n",
    "    #print(np.mean(X))\n",
    "    #print(np.sqrt(np.var(X)))\n",
    "\n",
    "    mu_hats.append( sum(X)/n )\n",
    "    #sigma_hats.append( np.sqrt((1/len(X))*sum((X-mu_hats[-1])**2)) ) #dodgy indexing with observed\n",
    "    sigma_hats.append( (1/n)*sum( (X-mu)**2 ) ) \n",
    "\n",
    "# print( (n/(sigma**2))**-1 , np.std( mu_hats) )\n",
    "# print((2*sigma**4)/np.sqrt(n),np.std(sigma_hats))\n",
    "\n",
    "mu_hats = np.array(mu_hats)\n",
    "sigma_hats = np.array(sigma_hats)\n",
    "\n",
    "\n",
    "\n",
    "#information\n",
    "I_mu = 1/(sigma**2)\n",
    "I_sigma = 1/(2*sigma**4)\n",
    "\n",
    "\n",
    "#print(np.var(np.sqrt(n)*(mu_hats-mu)))\n",
    "print(\"mu_bar\")\n",
    "# print(np.var(np.sqrt(n)*(mu_hats - mu)))\n",
    "# print(1/I_mu)\n",
    "print(np.var((mu_hats - mu)))\n",
    "print(1/(n*I_mu))\n",
    "\n",
    "print(\"sigma_bar\")\n",
    "# print(np.var(np.sqrt(n)*(sigma_hats - sigma)))\n",
    "# print(1/(I_sigma))\n",
    "print(np.var((sigma_hats - sigma)))\n",
    "print(1/(n*I_sigma))\n",
    "\n",
    "# fig = plt.figure()\n",
    "# ax = fig.add_subplot()\n",
    "# ax.hist( np.sqrt(n) *(mu - mu_hats) ,alpha = 0.5,color = \"red\")\n",
    "# ax.hist( stats.norm.rvs(0, (1/( I_mu ))**0.5 , n), alpha = 0.5,color = \"blue\")"
   ]
  },
  {
   "cell_type": "markdown",
   "metadata": {},
   "source": [
    "# IT WORKS\n",
    "\n",
    "# $\\sqrt{n}(\\theta^* - \\theta_n) \\rightarrow_L \\mathcal{N}(0,I(\\theta^*)^{-1})$\n",
    "\n",
    "where I(\\theta) is the fiscehr information - for 1 observation (as opposed to the observed fischer information which is scaled by n - thust he need for the sqrt(n))\n",
    "\n",
    "## This makes sense\n",
    "\n",
    "# $\\sqrt{n}(\\mu^* - \\mu_n) \\rightarrow_L \\mathcal{N}(0,1/\\sigma^{2})$\n",
    "\n",
    "or\n",
    "\n",
    "# $(\\mu^* - \\mu_n) \\rightarrow_L \\mathcal{N}(0,n/\\sigma^{2})$\n",
    "\n",
    "\n"
   ]
  },
  {
   "cell_type": "markdown",
   "metadata": {},
   "source": [
    "### information stuff\n",
    "\n",
    "**second derivative** for the normal with respect to $\\mu$ is constant as the score is linear....\n",
    "\n",
    "\n",
    "$ = 1/\\sigma^2 $\n",
    "\n",
    "WOW - so information jsut depends on varaince... this makes so much sense\n",
    "\n",
    "\n",
    " overall FIM of normal distribution\n",
    "\n",
    "1 = $\\mu $\n",
    "\n",
    "2 = $\\sigma$\n",
    "\n",
    "$\n",
    "(\n",
    " \\begin{matrix}\n",
    "  \\frac{1}{\\sigma^{2}} & 0  \\\\\n",
    "  0 & \\frac{1}{2\\sigma^{4}}  \n",
    " \\end{matrix})\n",
    "$\n",
    "\n",
    "It is orthogonal as mu and variance are independent of each other\n",
    "\n",
    "Sigma is much harder to estiamte! - makes sense - wowowowoowowowo!!!!! variance of estiamator is ~ ^2 that of the mu estimator"
   ]
  },
  {
   "cell_type": "markdown",
   "metadata": {},
   "source": [
    "# 2 sample CLT\n",
    "\n",
    "$Z=\\frac{\\bar{X}_1-\\bar{X}_2-(\\mu_1-\\mu_2)}{\\sqrt{\\frac{\\sigma_1^2}{n_1}+\\frac{\\sigma_2^2}{n_2}}}$\n",
    "\n",
    "we are dealing with the random variable $\\bar{X_1}-\\bar{X_2}- (\\mu1 - \\mu2)$\n",
    "\n",
    "Where Xbar are the sample means!\n",
    "\n",
    "we know $var(\\bar{X_i} - \\mu_i) = var(\\bar{X_i}) =\\dfrac{\\sigma_i^2}{n_i} $\n",
    "\n",
    "**note $\\mu_i$ is the true population mean and thus has no variance! (i think)**\n",
    "\n",
    "**When usign CLT this mu is replaced by the hypothesis we are trying to test. e.g. that hte population mu for htat estimator = a given value WOWOWOWOWO**\n",
    "\n",
    "\n",
    "Anyway back to 2 sample problem\n",
    "\n",
    "We assume hte 2 groups are independent ... thus the variance of $ var(\\bar{X_1}-\\bar{X_2} - (\\mu1 - \\mu2)) = var(\\bar{X_1}) + var(\\bar{X_2})$\n"
   ]
  },
  {
   "cell_type": "markdown",
   "metadata": {},
   "source": [
    "# VARIANCE OF SUM OF RANDOM VARIABLES "
   ]
  },
  {
   "cell_type": "code",
   "execution_count": 3,
   "metadata": {},
   "outputs": [
    {
     "data": {
      "image/png": "[encoded data removed]",
      "text/plain": [
       "<Figure size 432x288 with 4 Axes>"
      ]
     },
     "metadata": {
      "needs_background": "light"
     },
     "output_type": "display_data"
    }
   ],
   "source": [
    "#sum of iid random variables\n",
    "np.random.seed(1)\n",
    "\n",
    "#not this drifts away from 0 as it is not corrected fully to give hte Z statistic\n",
    "\n",
    "# Z = sn - n*mu / sqrt(n)*simga\n",
    "\n",
    "\n",
    "#define differrent random variables and plot their distributions\n",
    "def X1():\n",
    "    # X1\n",
    "    #CHoose type of rv\n",
    "    #unifrom becomes normal quickest\n",
    "    return np.random.uniform(-1,1)\n",
    "\n",
    "    #exponential\n",
    "    #return np.random.exponential(1,1)[0]-1\n",
    "\n",
    "def X1_Xn(n):\n",
    "    Sn = 0\n",
    "    for i in range(n):\n",
    "        Sn += X1()\n",
    "    return Sn\n",
    "\n",
    "def X1_Xn_n(n):\n",
    "    # X1 + X2 + .... Xn / n\n",
    "    Sn = 0\n",
    "    for i in range(n):\n",
    "        Sn += X1()\n",
    "    return Sn/n\n",
    "\n",
    "def X1_Xn_sqrt_n(n):\n",
    "    # X1 + X2 + .... Xn / np.sqrt(n)\n",
    "    Sn = 0\n",
    "    for i in range(n):\n",
    "        Sn += X1()\n",
    "    return Sn/np.sqrt(n)\n",
    "\n",
    "\n",
    "\n",
    "\n",
    "# n =  number of random variables\n",
    "n = 32\n",
    "\n",
    "# trials = number of experiments\n",
    "trials = 50000\n",
    "\n",
    "#bins = 10\n",
    "bins = 25\n",
    "\n",
    "#plots\n",
    "fig = plt.figure()\n",
    "fig.suptitle(\"n = {}, trials = {}\".format(n,trials))\n",
    "\n",
    "ax1 = plt.subplot(2,2,1)\n",
    "data1 = [X1() for i in range(trials)]\n",
    "ax1.hist(data1,bins)\n",
    "ax1.set_title(\"X \\n var = {}\".format(np.var(data1)))\n",
    "\n",
    "ax2 = plt.subplot(2,2,2)\n",
    "data2 = [X1_Xn(n) for i in range(trials)]\n",
    "ax2.hist(data2,bins)\n",
    "ax2.set_title(\"X1+..Xn \\n var = {}\".format(np.var(data2)))\n",
    "\n",
    "ax3 = plt.subplot(2,2,3)\n",
    "data3 = [X1_Xn_n(n) for i in range(trials)]\n",
    "ax3.hist(data3,bins)\n",
    "ax3.set_title(\"X1+..Xn/n \\n var = {}\".format(np.var(data3)))\n",
    "\n",
    "ax4 = plt.subplot(2,2,4)\n",
    "data4 = [X1_Xn_sqrt_n(n) for i in range(trials)]\n",
    "ax4.hist(data4,bins)\n",
    "ax4.set_title(\"X1+...Xn/(sqrt(n) \\n var = {}\".format(np.var(data4)))\n",
    "\n",
    "\n",
    "\n",
    "fig.tight_layout()"
   ]
  },
  {
   "cell_type": "code",
   "execution_count": 11,
   "metadata": {},
   "outputs": [
    {
     "data": {
      "text/plain": [
       "Text(0.5, 1.0, 'Zn \\n var = 1.0102930912473265')"
      ]
     },
     "execution_count": 11,
     "metadata": {},
     "output_type": "execute_result"
    },
    {
     "data": {
      "image/png": "[encoded data removed]",
      "text/plain": [
       "<Figure size 432x288 with 2 Axes>"
      ]
     },
     "metadata": {
      "needs_background": "light"
     },
     "output_type": "display_data"
    }
   ],
   "source": [
    "#working with Zn of a random uniform [0,1]\n",
    "def Z(n,mu,var):\n",
    "    X = [np.random.uniform(0,1) for i in range(n)]\n",
    "    Xhat = sum(X)/n\n",
    "\n",
    "    Z = ((Xhat - mu) / np.sqrt(var)) * np.sqrt(n)\n",
    "\n",
    "    return Z\n",
    "    \n",
    "\n",
    "\n",
    "#if X1 is uniform 0-1, mu = 0.5, variance = using LOTUS 1/3-1/4 = \n",
    "mu = 0.5\n",
    "var = (1/3-1/4)\n",
    "\n",
    "n = 32\n",
    "trials = 10000\n",
    "\n",
    "fig = plt.figure()\n",
    "fig.suptitle(\"n = {}, trials = {}\".format(n,trials))\n",
    "\n",
    "ax1 = plt.subplot(1,2,1)\n",
    "data1 = [X1() for i in range(trials)]\n",
    "ax1.hist(data1,bins)\n",
    "ax1.set_title(\"X \\n var = {}\".format(np.var(data1)))\n",
    "\n",
    "ax2 = plt.subplot(1,2,2)\n",
    "data2 = [Z(n,mu,var) for i in range(trials)]\n",
    "ax2.hist(data2,bins)\n",
    "ax2.set_title(\"Zn \\n var = {}\".format(np.var(data2)))\n",
    "\n"
   ]
  },
  {
   "cell_type": "code",
   "execution_count": 12,
   "metadata": {},
   "outputs": [
    {
     "ename": "NonGuiException",
     "evalue": "Matplotlib is currently using module://matplotlib_inline.backend_inline, which is a non-GUI backend, so cannot show the figure.",
     "output_type": "error",
     "traceback": [
      "\u001b[1;31m---------------------------------------------------------------------------\u001b[0m",
      "\u001b[1;31mNonGuiException\u001b[0m                           Traceback (most recent call last)",
      "\u001b[1;32m~\\AppData\\Local\\Temp/ipykernel_16280/3419488429.py\u001b[0m in \u001b[0;36m<module>\u001b[1;34m\u001b[0m\n\u001b[0;32m     19\u001b[0m \u001b[1;33m\u001b[0m\u001b[0m\n\u001b[0;32m     20\u001b[0m \u001b[0mn\u001b[0m\u001b[1;33m,\u001b[0m \u001b[0mbins\u001b[0m\u001b[1;33m,\u001b[0m \u001b[0mpatches\u001b[0m \u001b[1;33m=\u001b[0m \u001b[0mplt\u001b[0m\u001b[1;33m.\u001b[0m\u001b[0mhist\u001b[0m\u001b[1;33m(\u001b[0m\u001b[0mx\u001b[0m\u001b[1;33m,\u001b[0m \u001b[0mnum_bins\u001b[0m\u001b[1;33m,\u001b[0m \u001b[0mrange\u001b[0m\u001b[1;33m=\u001b[0m\u001b[1;33m(\u001b[0m\u001b[1;33m-\u001b[0m\u001b[1;36m1\u001b[0m\u001b[1;33m,\u001b[0m\u001b[1;36m1\u001b[0m\u001b[1;33m)\u001b[0m\u001b[1;33m)\u001b[0m\u001b[1;33m\u001b[0m\u001b[1;33m\u001b[0m\u001b[0m\n\u001b[1;32m---> 21\u001b[1;33m \u001b[0mplt\u001b[0m\u001b[1;33m.\u001b[0m\u001b[0msubplot_tool\u001b[0m\u001b[1;33m(\u001b[0m\u001b[1;33m)\u001b[0m\u001b[1;33m\u001b[0m\u001b[1;33m\u001b[0m\u001b[0m\n\u001b[0m\u001b[0;32m     22\u001b[0m \u001b[0mplt\u001b[0m\u001b[1;33m.\u001b[0m\u001b[0mshow\u001b[0m\u001b[1;33m(\u001b[0m\u001b[1;33m)\u001b[0m\u001b[1;33m\u001b[0m\u001b[1;33m\u001b[0m\u001b[0m\n",
      "\u001b[1;32mc:\\Users\\bruno\\anaconda3\\lib\\site-packages\\matplotlib\\pyplot.py\u001b[0m in \u001b[0;36msubplot_tool\u001b[1;34m(targetfig)\u001b[0m\n\u001b[0;32m   1637\u001b[0m     \u001b[0mtool_fig\u001b[0m \u001b[1;33m=\u001b[0m \u001b[0mmanager\u001b[0m\u001b[1;33m.\u001b[0m\u001b[0mcanvas\u001b[0m\u001b[1;33m.\u001b[0m\u001b[0mfigure\u001b[0m\u001b[1;33m\u001b[0m\u001b[1;33m\u001b[0m\u001b[0m\n\u001b[0;32m   1638\u001b[0m     \u001b[0mtool_fig\u001b[0m\u001b[1;33m.\u001b[0m\u001b[0msubplots_adjust\u001b[0m\u001b[1;33m(\u001b[0m\u001b[0mtop\u001b[0m\u001b[1;33m=\u001b[0m\u001b[1;36m0.9\u001b[0m\u001b[1;33m)\u001b[0m\u001b[1;33m\u001b[0m\u001b[1;33m\u001b[0m\u001b[0m\n\u001b[1;32m-> 1639\u001b[1;33m     \u001b[0mmanager\u001b[0m\u001b[1;33m.\u001b[0m\u001b[0mshow\u001b[0m\u001b[1;33m(\u001b[0m\u001b[1;33m)\u001b[0m\u001b[1;33m\u001b[0m\u001b[1;33m\u001b[0m\u001b[0m\n\u001b[0m\u001b[0;32m   1640\u001b[0m     \u001b[1;32mreturn\u001b[0m \u001b[0mSubplotTool\u001b[0m\u001b[1;33m(\u001b[0m\u001b[0mtargetfig\u001b[0m\u001b[1;33m,\u001b[0m \u001b[0mtool_fig\u001b[0m\u001b[1;33m)\u001b[0m\u001b[1;33m\u001b[0m\u001b[1;33m\u001b[0m\u001b[0m\n\u001b[0;32m   1641\u001b[0m \u001b[1;33m\u001b[0m\u001b[0m\n",
      "\u001b[1;32mc:\\Users\\bruno\\anaconda3\\lib\\site-packages\\matplotlib\\backend_bases.py\u001b[0m in \u001b[0;36mshow\u001b[1;34m(self)\u001b[0m\n\u001b[0;32m   2779\u001b[0m             \u001b[1;31m# thus warrants a warning.\u001b[0m\u001b[1;33m\u001b[0m\u001b[1;33m\u001b[0m\u001b[0m\n\u001b[0;32m   2780\u001b[0m             \u001b[1;32mreturn\u001b[0m\u001b[1;33m\u001b[0m\u001b[1;33m\u001b[0m\u001b[0m\n\u001b[1;32m-> 2781\u001b[1;33m         raise NonGuiException(\n\u001b[0m\u001b[0;32m   2782\u001b[0m             \u001b[1;34mf\"Matplotlib is currently using {get_backend()}, which is a \"\u001b[0m\u001b[1;33m\u001b[0m\u001b[1;33m\u001b[0m\u001b[0m\n\u001b[0;32m   2783\u001b[0m             f\"non-GUI backend, so cannot show the figure.\")\n",
      "\u001b[1;31mNonGuiException\u001b[0m: Matplotlib is currently using module://matplotlib_inline.backend_inline, which is a non-GUI backend, so cannot show the figure."
     ]
    },
    {
     "data": {
      "image/png": "[encoded data removed]",
      "text/plain": [
       "<Figure size 432x288 with 1 Axes>"
      ]
     },
     "metadata": {
      "needs_background": "light"
     },
     "output_type": "display_data"
    }
   ],
   "source": [
    "#CLT proof using montecarlo\n",
    "\n",
    "#n = number of r.v.'s (samples)\n",
    "n = 10000\n",
    "# size of each sample - as this increases vraince decrease - ?WLLN\n",
    "sample_n = 20\n",
    "\n",
    "x = []\n",
    "temp = []\n",
    "\n",
    "for i in range(n):\n",
    "    for j in range(sample_n):\n",
    "        #random number between -1 and 1\n",
    "        temp.append(np.random.uniform(-1,1))\n",
    "    x.append( sum(temp) / sample_n)\n",
    "    temp = []\n",
    "\n",
    "num_bins = 100\n",
    "\n",
    "n, bins, patches = plt.hist(x, num_bins, range=(-1,1))\n",
    "#plt.subplot_tool()\n",
    "plt.show()\n"
   ]
  }
 ],
 "metadata": {
  "interpreter": {
   "hash": "86ced299d573a58fc1d464bd2f917835a691b9d9cefee14c59fce60008360703"
  },
  "kernelspec": {
   "display_name": "Python 3.9.7 ('base')",
   "language": "python",
   "name": "python3"
  },
  "language_info": {
   "codemirror_mode": {
    "name": "ipython",
    "version": 3
   },
   "file_extension": ".py",
   "mimetype": "text/x-python",
   "name": "python",
   "nbconvert_exporter": "python",
   "pygments_lexer": "ipython3",
   "version": "3.9.7"
  },
  "orig_nbformat": 4
 },
 "nbformat": 4,
 "nbformat_minor": 2
}
