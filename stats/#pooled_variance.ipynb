{
 "cells": [
  {
   "cell_type": "code",
   "execution_count": 2,
   "metadata": {},
   "outputs": [],
   "source": [
    "import numpy as np\n",
    "import matplotlib as mpl\n",
    "import matplotlib.pyplot as plt\n",
    "from functools import reduce"
   ]
  },
  {
   "cell_type": "markdown",
   "metadata": {},
   "source": [
    "# see #CLT.ipynb for 2 sample CLT pooled variance"
   ]
  },
  {
   "cell_type": "code",
   "execution_count": 1,
   "metadata": {},
   "outputs": [],
   "source": [
    "def biasedvar(sample):\n",
    "    mu = np.mean(sample)\n",
    "    \n",
    "    #biased estimator\n",
    "    return np.mean( (sample - mu)**2)\n",
    "\n",
    "def unbiasedvar(sample):\n",
    "    mu = np.mean(sample)\n",
    "    n = len(sample)\n",
    "\n",
    "    #unbiased estiamtor of variance\n",
    "    return n/(n-1)*np.mean( (sample- mu)**2 )\n",
    "\n",
    "def pooledvarunbiased(n1,v1,n2,v2):\n",
    "    return ( (n1-1)*(v1) + (n2-1)*(v2) ) / (n1+n2-2)\n",
    "\n",
    "def pooledvarbiased(n1,v1,n2,v2):\n",
    "    return ( n1*(v1) + n2*(v2) ) / (n1 + n2)\n",
    "\n",
    "def mc(n1,m1,n2,m2):\n",
    "    return (n1*m1 + n2*m2)/(n1+n2)\n",
    "\n",
    "def cvarbiased(n1,m1,v1,n2,m2,v2):\n",
    "    Q1 = n1*(v1+(m1**2))\n",
    "    Q2 = n2*(v2+(m2**2))\n",
    "    Qc = Q1 + Q2\n",
    "\n",
    "    nc = n1+n2\n",
    "\n",
    "    mc = (n1*m1 + n2*m2) / nc\n",
    "\n",
    "    return (Qc - nc*(mc**2))/(nc) \n",
    "\n",
    "def cvarunbiased(n1,m1,v1,n2,m2,v2):\n",
    "    Q1 = (n1-1)*v1+ n1*(m1**2)\n",
    "    Q2 = (n2-1)*v2+ n2*(m2**2)\n",
    "    Qc = Q1 + Q2\n",
    "\n",
    "    nc = n1+n2\n",
    "\n",
    "    mc = (n1*m1 + n2*m2) / nc\n",
    "\n",
    "    return (Qc - nc*(mc**2))/(nc-1) \n",
    "\n",
    "def combine_groups_helper(g1,g2):\n",
    "    #input = 2 tuples of form (n,v,c)\n",
    "    n1 = g1[0]\n",
    "    m1 = g1[1]\n",
    "    v1 = g1[2]\n",
    "\n",
    "    n2 = g2[0]\n",
    "    m2 = g2[1]\n",
    "    v2 = g2[2]\n",
    "\n",
    "    Q1 = (n1-1)*v1+ n1*(m1**2)\n",
    "    Q2 = (n2-1)*v2+ n2*(m2**2)\n",
    "    Qc = Q1 + Q2\n",
    "\n",
    "    nc = n1+n2\n",
    "\n",
    "    mc = (n1*m1 + n2*m2) / nc\n",
    "\n",
    "    vc = (Qc - nc*(mc**2))/(nc-1) \n",
    "\n",
    "    return (nc,mc,vc)\n",
    "\n",
    "def combine_groups(groups):\n",
    "    #takes in a list of tuples of form (n,v,c)\n",
    "\n",
    "    #reduce function\n",
    "    return reduce(combine_groups_helper,groups)\n",
    "\n",
    " "
   ]
  },
  {
   "cell_type": "code",
   "execution_count": 3,
   "metadata": {},
   "outputs": [
    {
     "name": "stdout",
     "output_type": "stream",
     "text": [
      "n:\n",
      "73 67 \n",
      "\n",
      "means\n",
      "33.35526458358751 30.87930933240484 \n",
      "\n",
      "vars\n",
      "np.var 176.21630977937394 165.8209724032662\n",
      "biased 176.21630977937394 165.8209724032662\n",
      "unbiased 178.6637585263097 168.33341137907328 \n",
      "\n",
      "grouped stats\n",
      "mean 32.1703431419501\n",
      "np.var 172.77117196361712\n",
      "biased 172.77117196361712\n",
      "unbiased 174.01413003529782 \n",
      "\n",
      "my results:\n",
      "pooled-biased 171.24139832080812\n",
      "pooled-unbiased 173.72315771676185\n",
      "cvar-biased 172.77117196361712\n",
      "cvar-unbiased 174.01413003529782\n"
     ]
    },
    {
     "data": {
      "image/png": "[encoded data removed]",
      "text/plain": [
       "<Figure size 640x480 with 1 Axes>"
      ]
     },
     "metadata": {},
     "output_type": "display_data"
    }
   ],
   "source": [
    "#test how to combine means and variances of 2 samples!\n",
    "np.random.seed(3)\n",
    "\n",
    "#sample1 = np.random.rand(10)*20\n",
    "#sample2 = np.random.rand(15)*10\n",
    "#test\n",
    "sample1 = [np.random.normal(34.92,12.49) for i in range(73)]\n",
    "sample2 = [np.random.normal(31.39,14.07) for i in range(67)]\n",
    "#sample1 = [1,5,6,2,3,100,76,45.5,60,27]\n",
    "#ample2 = [5,6,0,15,29]\n",
    "csample = np.concatenate([sample1,sample2])\n",
    "\n",
    "fig,ax = plt.subplots()\n",
    "ax.scatter(sample1,[1 for i in sample1])\n",
    "ax.scatter(sample2,[2 for i in sample2])\n",
    "ax.scatter(csample,[3 for i in csample])\n",
    "\n",
    "print(\"n:\")\n",
    "n1 = len(sample1)\n",
    "n2 = len(sample2)\n",
    "print(len(sample1), len(sample2), \"\\n\")\n",
    "\n",
    "print(\"means\")\n",
    "m1 = np.mean(sample1)\n",
    "m2 = np.mean(sample2)\n",
    "print(np.mean(sample1), np.mean(sample2), \"\\n\")\n",
    "\n",
    "print(\"vars\")\n",
    "print(\"np.var\",np.var(sample1),np.var(sample2))\n",
    "print(\"biased\",biasedvar(sample1),biasedvar(sample2))\n",
    "print(\"unbiased\",unbiasedvar(sample1),unbiasedvar(sample2),\"\\n\")\n",
    "\n",
    "print(\"grouped stats\")\n",
    "print(\"mean\", np.mean(csample))\n",
    "print(\"np.var\",np.var(csample))\n",
    "print(\"biased\",biasedvar(csample))\n",
    "print(\"unbiased\",unbiasedvar(csample),\"\\n\")\n",
    "\n",
    "print(\"my results:\")\n",
    "print(\"pooled-biased\",pooledvarbiased(n1,biasedvar(sample1),n2,biasedvar(sample2)))\n",
    "print(\"pooled-unbiased\",pooledvarunbiased(n1,unbiasedvar(sample1),n2,unbiasedvar(sample2)))\n",
    "print(\"cvar-biased\",cvarbiased(n1,m1,biasedvar(sample1),n2,m2,biasedvar(sample2)) )\n",
    "print(\"cvar-unbiased\",cvarunbiased(n1,m1,unbiasedvar(sample1),n2,m2,unbiasedvar(sample2)) )\n",
    "\n",
    "#i was feeding into the wrong equation as i had mislabeled them"
   ]
  },
  {
   "cell_type": "code",
   "execution_count": 4,
   "metadata": {},
   "outputs": [
    {
     "name": "stdout",
     "output_type": "stream",
     "text": [
      "mc 33.23064285714286\n",
      "cvarunbiased 177.935403180884\n",
      "Testing combination\n",
      "(140, 33.23064285714286, 177.935403180884)\n",
      "output\n",
      "(2442, 29.966363636363635, 137.4259457226922)\n",
      "30.66453169141616\n"
     ]
    }
   ],
   "source": [
    "# Jeniffers study\n",
    "print(\"mc\",mc(73,34.92,67,31.39))\n",
    "print(\"cvarunbiased\",cvarunbiased(73,34.92,12.49**2,67,31.39,14.07**2))\n",
    "\n",
    "m12 = mc(12,24.2,12,23.6)\n",
    "v12 = cvarunbiased(12,24.2,3.2**2,12,23.6,2.7**2)\n",
    "\n",
    "#print(\"cvarunbiased\",cvarunbiased(24,m12,v12,12,23.3,2.9**2))\n",
    "\n",
    "print(\"Testing combination\")\n",
    "g1 = (73,34.92,12.49**2)\n",
    "g2 = (67,31.39,14.07**2)\n",
    "groups = [g1,g2]\n",
    "print(combine_groups(groups))\n",
    "\n",
    "print(\"output\")\n",
    "groups = [(322,14.4,0.6**2),\n",
    "          (264,33.2,10.6**2),\n",
    "          (140,33.2,13.3**2),\n",
    "          (286,24.8,5.97**2),\n",
    "          (138,37.97,12.4**2),\n",
    "          (48,20,1.95**2),\n",
    "          (10,21.7,3.47**2),\n",
    "          (1122,34.7,10.1**2),\n",
    "          (50,25,4.79**2),\n",
    "          (24,23.7,2.9**2),\n",
    "          (38,22.8,3.96**2)]\n",
    "print(combine_groups(groups))\n",
    "\n",
    "#double check\n",
    "print((60*35.2 + 259*36.2 + 2442*29.966)/(60+259+2442))\n",
    "\n"
   ]
  },
  {
   "cell_type": "code",
   "execution_count": 5,
   "metadata": {},
   "outputs": [
    {
     "name": "stdout",
     "output_type": "stream",
     "text": [
      "(1834, 33.505049073064356, 118.14487351095599)\n",
      "33.8764793285555\n",
      "2153\n"
     ]
    }
   ],
   "source": [
    "#New analysis (04/04/22)\n",
    "groups = [(264,33.2,10.6**2),\n",
    "          (140,33.2,13.3**2),\n",
    "          (138,37.97,12.4**2),\n",
    "          (48,20,1.95**2),\n",
    "          (10,21.7,3.47**2),\n",
    "          (1122,34.7,10.1**2),\n",
    "          (50,25,4.79**2),\n",
    "          (24,23.7,2.9**2),\n",
    "          (38,22.8,3.96**2)]\n",
    "\n",
    "print(combine_groups(groups))\n",
    "\n",
    "# mean only (60,35.2) (259,36.2)\n",
    "print((1834*33.50504907 + 60*35.2 + 259*36.2)/(1834+60+259)) \n",
    "print(1834+60+259)"
   ]
  },
  {
   "cell_type": "code",
   "execution_count": 8,
   "metadata": {},
   "outputs": [
    {
     "name": "stdout",
     "output_type": "stream",
     "text": [
      "(590, 2.75, 5.463707979626483)\n"
     ]
    }
   ],
   "source": [
    "#New analysis (10/02/23)\n",
    "groups = [(295,1.91,1.3**2),\n",
    "          (295,3.59,2.8**2)]\n",
    "\n",
    "print(combine_groups(groups))"
   ]
  },
  {
   "cell_type": "code",
   "execution_count": 7,
   "metadata": {},
   "outputs": [
    {
     "data": {
      "text/plain": [
       "2.337457588840166"
      ]
     },
     "execution_count": 7,
     "metadata": {},
     "output_type": "execute_result"
    }
   ],
   "source": [
    "5.463707979626483**0.5"
   ]
  }
 ],
 "metadata": {
  "interpreter": {
   "hash": "86ced299d573a58fc1d464bd2f917835a691b9d9cefee14c59fce60008360703"
  },
  "kernelspec": {
   "display_name": "Python 3.9.7 ('base')",
   "language": "python",
   "name": "python3"
  },
  "language_info": {
   "codemirror_mode": {
    "name": "ipython",
    "version": 3
   },
   "file_extension": ".py",
   "mimetype": "text/x-python",
   "name": "python",
   "nbconvert_exporter": "python",
   "pygments_lexer": "ipython3",
   "version": "3.9.15"
  },
  "orig_nbformat": 4
 },
 "nbformat": 4,
 "nbformat_minor": 2
}
