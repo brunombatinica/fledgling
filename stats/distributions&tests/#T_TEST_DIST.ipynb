{
 "cells": [
  {
   "cell_type": "code",
   "execution_count": 1,
   "metadata": {},
   "outputs": [],
   "source": [
    "#playing around with the t test/distribution\n",
    "\n",
    "#importing functions\n",
    "import random\n",
    "import numpy as np\n",
    "\n",
    "from scipy import stats\n",
    "\n",
    "import pandas as pd\n",
    "import matplotlib as mpl\n",
    "from matplotlib import pyplot as plt\n",
    "\n",
    "np.random.seed(1)\n"
   ]
  },
  {
   "cell_type": "code",
   "execution_count": 2,
   "metadata": {},
   "outputs": [
    {
     "data": {
      "text/plain": [
       "10000"
      ]
     },
     "execution_count": 2,
     "metadata": {},
     "output_type": "execute_result"
    }
   ],
   "source": [
    "#investigating the t and z distributions\n",
    "\n",
    "#start with a population (assumed to be normal) with mean = 10, sd = 2\n",
    "\n",
    "np.random.seed(1)\n",
    "\n",
    "pop_mean = 10\n",
    "pop_sd = 2\n",
    "n = 2\n",
    "\n",
    "samples = 10000\n",
    "\n",
    "#define a function which takes an input of the population paramaters and sample size and retruns t and z distributions\n",
    "def t_dist(mu,sd,n):\n",
    "    pop_mean = mu\n",
    "    pop_sd = sd  \n",
    "\n",
    "    sample = np.random.normal(pop_mean,pop_sd,n)\n",
    "    #calculate mean and corrected sample variance\n",
    "    sample_mean = np.mean(sample)\n",
    "    #cor_sample_var = 1/(len(sample)-1)*sum((sample - sample_mean)**2)\n",
    "    sample_sd = np.sqrt(np.var(sample, ddof = 1))\n",
    "\n",
    "    #calculate Z \"value (depending on population)\"\" for the sample\n",
    "    # Z is a random variable depending on the population parameters\n",
    "    Z = (sample_mean - pop_mean)/(pop_sd/np.sqrt(n))\n",
    "\n",
    "    T = (sample_mean - pop_mean)/(sample_sd/np.sqrt(n))\n",
    "\n",
    "    return (T,Z)\n",
    "\n",
    "\n",
    "test = t_dist(pop_mean,pop_sd,n)\n",
    "T = [t_dist(pop_mean,pop_sd,n)[0] for i in range(samples)]\n",
    "Z = [t_dist(pop_mean,pop_sd,n)[1] for i in range(samples)]\n",
    "\n",
    "\n",
    "len(Z)"
   ]
  },
  {
   "cell_type": "code",
   "execution_count": 3,
   "metadata": {},
   "outputs": [
    {
     "name": "stdout",
     "output_type": "stream",
     "text": [
      "10000\n",
      "10000\n"
     ]
    },
    {
     "data": {
      "text/plain": [
       "<matplotlib.legend.Legend at 0x23c55d00fa0>"
      ]
     },
     "execution_count": 3,
     "metadata": {},
     "output_type": "execute_result"
    },
    {
     "data": {
      "image/png": "[encoded data removed]",
      "text/plain": [
       "<Figure size 432x288 with 1 Axes>"
      ]
     },
     "metadata": {
      "needs_background": "light"
     },
     "output_type": "display_data"
    }
   ],
   "source": [
    "#plotting T and Z score arrays\n",
    "fig, ax = plt.subplots()\n",
    "#ax.scatter([1 for i in X1],X1)\n",
    "#ax.scatter([2 for i in X2],X2)\n",
    "print(len(Z))\n",
    "print(len(T))\n",
    "\n",
    "num_bins = 25\n",
    "breaks = np.linspace(-5,5,num_bins)\n",
    "ax.hist(T, bins = breaks, color = \"red\", alpha = 0.5, label = \"T\")\n",
    "ax.hist(Z, bins = breaks, color =  \"blue\", alpha = 0.5, label = \"Z\")\n",
    "ax.legend(loc = \"upper right\")\n",
    "\n"
   ]
  },
  {
   "cell_type": "code",
   "execution_count": null,
   "metadata": {},
   "outputs": [],
   "source": [
    "#Comparing 2 samples (ttest)\n",
    "# 2 independent 2 sample t test\n",
    "\n",
    "#set random seed\n",
    "np.random.seed(1)\n",
    "\n",
    "#generate first sample\n",
    "X1 = np.random.normal(0,1,10)\n",
    "X2 = np.random.normal(1,1,10)\n",
    "\n",
    "\n",
    "\n",
    "\n",
    "###run a t-test on the sample\n",
    "##ttest_ind = independent samples\n",
    "p = stats.ttest_ind(X1,X2, equal_var = True)\n",
    "print(p)\n",
    "\n",
    "##manual t-distribution\n",
    "#sample mean:\n",
    "Xn = 1/len(X1) * sum(X1)\n",
    "#bessel-corrected sample variance\n",
    "Sv = 1/(len(X1)-1) * sum( (X1 - Xn) ** 2)\n",
    "\n",
    "#calculating Z rv (will have standnormal distribution)\n",
    "Z = Xn - \n",
    "\n",
    "\n",
    "\n",
    "\n",
    "\n",
    "#df = pd.DataFrame(np.array([X1,X2]), columns = [\"X1\",\"X2\"])\n",
    "#df = pd.DataFrame({\"X1\" : X1, \"X2\" : X2})\n",
    "\n",
    "df = pd.DataFrame({\"X\" : np.repeat([0,1],[len(X1),len(X2)]), #X is arbitrary\n",
    "                   \"Y\" : np.concatenate((X1,X2),axis = 0)}) \n",
    "\n",
    "                  \n",
    "fig, ax = plt.subplots()\n",
    "#ax.scatter([1 for i in X1],X1)\n",
    "#ax.scatter([2 for i in X2],X2)\n",
    "\n",
    "ax.scatter(df.X,df.Y, c = df.X)"
   ]
  },
  {
   "cell_type": "code",
   "execution_count": null,
   "metadata": {},
   "outputs": [],
   "source": [
    "#approximating gauss using montecarlo\n",
    "# as you do more random shifts the variability increases and hence the sd increases = wow\n",
    "\n",
    "import numpy.random as rd\n",
    "import matplotlib.pyplot as plt\n",
    "\n",
    "def norm():\n",
    "    a = 0\n",
    "    for i in range(1000):\n",
    "        #random number between -1 and 1\n",
    "        a += rd.uniform(-1,1)\n",
    "    return a\n",
    "\n",
    "#degrees of freedom aka sources of variability (im not sure if this is the right term)\n",
    "x = []\n",
    "\n",
    "for i in range(1000):\n",
    "    x.append(norm())\n",
    "\n",
    "print(x)\n",
    "num_bins = 20\n",
    "\n",
    "n, bins, patches = plt.hist(x, num_bins,)\n",
    "plt.show()\n"
   ]
  }
 ],
 "metadata": {
  "interpreter": {
   "hash": "86ced299d573a58fc1d464bd2f917835a691b9d9cefee14c59fce60008360703"
  },
  "kernelspec": {
   "display_name": "Python 3.9.7 ('base')",
   "language": "python",
   "name": "python3"
  },
  "language_info": {
   "codemirror_mode": {
    "name": "ipython",
    "version": 3
   },
   "file_extension": ".py",
   "mimetype": "text/x-python",
   "name": "python",
   "nbconvert_exporter": "python",
   "pygments_lexer": "ipython3",
   "version": "3.9.16"
  },
  "orig_nbformat": 4
 },
 "nbformat": 4,
 "nbformat_minor": 2
}
