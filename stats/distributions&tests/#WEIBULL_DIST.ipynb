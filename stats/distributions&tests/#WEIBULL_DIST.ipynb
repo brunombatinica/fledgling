{
 "cells": [
  {
   "cell_type": "code",
   "execution_count": 1,
   "metadata": {},
   "outputs": [],
   "source": [
    "import numpy as np\n",
    "import matplotlib as mpl\n",
    "import matplotlib.pyplot as plt\n",
    "import statistics\n",
    "import scipy.special\n",
    "import seaborn as sns\n",
    "import pandas as pd\n",
    "import requests\n",
    "import PIL\n",
    "import scipy.stats "
   ]
  },
  {
   "attachments": {},
   "cell_type": "markdown",
   "metadata": {},
   "source": [
    "# Weibull distribution"
   ]
  },
  {
   "attachments": {},
   "cell_type": "markdown",
   "metadata": {},
   "source": [
    "$$ \n",
    "f(x;\\lambda;k) = \n",
    "    \\left\\{\\begin{array}{lr}\n",
    "        \\frac{k}{\\lambda} (\\frac{x}{\\lambda})^{k-1} e^{-(x/\\lambda)^k}& x \\geq 0 \\\\\n",
    "        0 & x < 0\n",
    "    \\end{array}\\right.\n",
    "$$"
   ]
  },
  {
   "attachments": {},
   "cell_type": "markdown",
   "metadata": {},
   "source": [
    "$k > 0$ is the SHAPE PARAMETER \n",
    "\n",
    "$\\lambda > 0$ is hte SCALE PARAMETER"
   ]
  },
  {
   "attachments": {},
   "cell_type": "markdown",
   "metadata": {},
   "source": [
    "Related to a number of other probability distributions\n",
    "\n",
    "it interpolates between the EXPONENTIAL DISTRIBUTION (k = 1) and the RAYLEIGH DISTRIBUTION (k=2 and lambda = sqrt(2)sigma)"
   ]
  }
 ],
 "metadata": {
  "kernelspec": {
   "display_name": "base",
   "language": "python",
   "name": "python3"
  },
  "language_info": {
   "codemirror_mode": {
    "name": "ipython",
    "version": 3
   },
   "file_extension": ".py",
   "mimetype": "text/x-python",
   "name": "python",
   "nbconvert_exporter": "python",
   "pygments_lexer": "ipython3",
   "version": "3.9.16"
  },
  "orig_nbformat": 4
 },
 "nbformat": 4,
 "nbformat_minor": 2
}
