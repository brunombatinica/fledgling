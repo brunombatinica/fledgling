{
 "cells": [
  {
   "cell_type": "code",
   "execution_count": 2,
   "metadata": {},
   "outputs": [],
   "source": [
    "#playing around with the t test/distribution\n",
    "\n",
    "#importing functions\n",
    "\n",
    "\n",
    "import random\n",
    "import numpy as np\n",
    "\n",
    "from scipy import stats\n",
    "\n",
    "import pandas as pd\n",
    "\n",
    "import matplotlib as mpl\n",
    "from matplotlib import pyplot as plt\n",
    "\n",
    "np.random.seed(1)\n"
   ]
  },
  {
   "cell_type": "code",
   "execution_count": 39,
   "metadata": {},
   "outputs": [
    {
     "name": "stdout",
     "output_type": "stream",
     "text": [
      "0.6209677419354839\n",
      "0.04490132550669373\n",
      "(0.5329611439423642, 0.7089743399286036)\n"
     ]
    }
   ],
   "source": [
    "np.random.seed(1)\n",
    "\n",
    "# Bernoulli random variable and CLT\n",
    "# Probaility of turning right when kissing\n",
    "\n",
    "#set our population p (arbitrary) - we assume there is \n",
    "# a constant probabiltiy of turning right in the population\n",
    "p = 0.645\n",
    "\n",
    "#take a sample from the population (assume i.i.d)\n",
    "#set sample size\n",
    "n = 124\n",
    "X = np.array([np.random.binomial(1,p) for i in range(n)])\n",
    "\n",
    "#calculate our estiamte of p - simple the average of our sample\n",
    "Xbar = np.mean(X)\n",
    "#manually highjack\n",
    "#Xbar = 0.645\n",
    "\n",
    "#Our estimate of p is an estimate of hte sample mean \n",
    "# with bernoulli random variables finding the population mean\n",
    "# also gives us hte population variance \n",
    "# (This is not hte case with most other statistics)\n",
    "\n",
    "# qa for alpha = 0.05 = 1.96 in a standard noraml distirbution\n",
    "#which our z statistic will converge to as n approaches infinity\n",
    "qa = 1.96\n",
    "\n",
    "#work with theoretical upper bound on varaince of x = 0.25\n",
    "# bernouli with p = 0.5\n",
    "# thus sigma = 0.5 and\n",
    "# SE(Xbar) = sigma(X)/sqrt(n)\n",
    "SE = 0.5/np.sqrt(n)\n",
    "\n",
    "#manually calculating confidence intervals\n",
    "CI = (Xbar - (qa*SE), Xbar + (qa*SE))\n",
    "\n",
    "print(Xbar)\n",
    "print(SE)\n",
    "print(CI)\n",
    "\n",
    "\n",
    "\n",
    "\n"
   ]
  },
  {
   "cell_type": "code",
   "execution_count": 40,
   "metadata": {},
   "outputs": [
    {
     "name": "stdout",
     "output_type": "stream",
     "text": [
      "(0.4990066254766765, 0.7429288583942912)\n"
     ]
    }
   ],
   "source": [
    "#hoeffdings inequality\n",
    "\n",
    "# P(Xbar-mu > epsiion) <= 2e**(-2nepsioln**2)\n",
    "#mu = p right side of equation = alpha\n",
    "\n",
    "CI2 = (Xbar - np.sqrt(np.log(2/0.05)/(2*n)), \\\n",
    "    Xbar + np.sqrt(np.log(2/0.05)/(2*n)))\n",
    "\n",
    "print(CI2)"
   ]
  }
 ],
 "metadata": {
  "interpreter": {
   "hash": "86ced299d573a58fc1d464bd2f917835a691b9d9cefee14c59fce60008360703"
  },
  "kernelspec": {
   "display_name": "Python 3.9.7 ('base')",
   "language": "python",
   "name": "python3"
  },
  "language_info": {
   "codemirror_mode": {
    "name": "ipython",
    "version": 3
   },
   "file_extension": ".py",
   "mimetype": "text/x-python",
   "name": "python",
   "nbconvert_exporter": "python",
   "pygments_lexer": "ipython3",
   "version": "3.9.7"
  },
  "orig_nbformat": 4
 },
 "nbformat": 4,
 "nbformat_minor": 2
}
