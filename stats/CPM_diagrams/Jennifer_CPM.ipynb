{
 "cells": [
  {
   "cell_type": "code",
   "execution_count": 12,
   "metadata": {},
   "outputs": [
    {
     "data": {
      "text/plain": [
       "KeysView(RcParams({'_internal.classic_mode': False,\n",
       "          'agg.path.chunksize': 0,\n",
       "          'animation.bitrate': -1,\n",
       "          'animation.codec': 'h264',\n",
       "          'animation.convert_args': ['-layers', 'OptimizePlus'],\n",
       "          'animation.convert_path': 'convert',\n",
       "          'animation.embed_limit': 20.0,\n",
       "          'animation.ffmpeg_args': [],\n",
       "          'animation.ffmpeg_path': 'ffmpeg',\n",
       "          'animation.frame_format': 'png',\n",
       "          'animation.html': 'none',\n",
       "          'animation.writer': 'ffmpeg',\n",
       "          'axes.autolimit_mode': 'data',\n",
       "          'axes.axisbelow': 'line',\n",
       "          'axes.edgecolor': 'black',\n",
       "          'axes.facecolor': 'white',\n",
       "          'axes.formatter.limits': [-5, 6],\n",
       "          'axes.formatter.min_exponent': 0,\n",
       "          'axes.formatter.offset_threshold': 4,\n",
       "          'axes.formatter.use_locale': False,\n",
       "          'axes.formatter.use_mathtext': False,\n",
       "          'axes.formatter.useoffset': True,\n",
       "          'axes.grid': False,\n",
       "          'axes.grid.axis': 'both',\n",
       "          'axes.grid.which': 'major',\n",
       "          'axes.labelcolor': 'black',\n",
       "          'axes.labelpad': 4.0,\n",
       "          'axes.labelsize': 32.0,\n",
       "          'axes.labelweight': 'normal',\n",
       "          'axes.linewidth': 0.8,\n",
       "          'axes.prop_cycle': cycler('color', ['#1f77b4', '#ff7f0e', '#2ca02c', '#d62728', '#9467bd', '#8c564b', '#e377c2', '#7f7f7f', '#bcbd22', '#17becf']),\n",
       "          'axes.spines.bottom': True,\n",
       "          'axes.spines.left': True,\n",
       "          'axes.spines.right': True,\n",
       "          'axes.spines.top': True,\n",
       "          'axes.titlecolor': 'auto',\n",
       "          'axes.titlelocation': 'center',\n",
       "          'axes.titlepad': 6.0,\n",
       "          'axes.titlesize': 32.0,\n",
       "          'axes.titleweight': 'normal',\n",
       "          'axes.titley': None,\n",
       "          'axes.unicode_minus': True,\n",
       "          'axes.xmargin': 0.05,\n",
       "          'axes.ymargin': 0.05,\n",
       "          'axes.zmargin': 0.05,\n",
       "          'axes3d.grid': True,\n",
       "          'axes3d.xaxis.panecolor': (0.95, 0.95, 0.95, 0.5),\n",
       "          'axes3d.yaxis.panecolor': (0.9, 0.9, 0.9, 0.5),\n",
       "          'axes3d.zaxis.panecolor': (0.925, 0.925, 0.925, 0.5),\n",
       "          'backend': 'module://matplotlib_inline.backend_inline',\n",
       "          'backend_fallback': True,\n",
       "          'boxplot.bootstrap': None,\n",
       "          'boxplot.boxprops.color': 'black',\n",
       "          'boxplot.boxprops.linestyle': '-',\n",
       "          'boxplot.boxprops.linewidth': 1.0,\n",
       "          'boxplot.capprops.color': 'black',\n",
       "          'boxplot.capprops.linestyle': '-',\n",
       "          'boxplot.capprops.linewidth': 1.0,\n",
       "          'boxplot.flierprops.color': 'black',\n",
       "          'boxplot.flierprops.linestyle': 'none',\n",
       "          'boxplot.flierprops.linewidth': 1.0,\n",
       "          'boxplot.flierprops.marker': 'o',\n",
       "          'boxplot.flierprops.markeredgecolor': 'black',\n",
       "          'boxplot.flierprops.markeredgewidth': 1.0,\n",
       "          'boxplot.flierprops.markerfacecolor': 'none',\n",
       "          'boxplot.flierprops.markersize': 6.0,\n",
       "          'boxplot.meanline': False,\n",
       "          'boxplot.meanprops.color': 'C2',\n",
       "          'boxplot.meanprops.linestyle': '--',\n",
       "          'boxplot.meanprops.linewidth': 1.0,\n",
       "          'boxplot.meanprops.marker': '^',\n",
       "          'boxplot.meanprops.markeredgecolor': 'C2',\n",
       "          'boxplot.meanprops.markerfacecolor': 'C2',\n",
       "          'boxplot.meanprops.markersize': 6.0,\n",
       "          'boxplot.medianprops.color': 'C1',\n",
       "          'boxplot.medianprops.linestyle': '-',\n",
       "          'boxplot.medianprops.linewidth': 1.0,\n",
       "          'boxplot.notch': False,\n",
       "          'boxplot.patchartist': False,\n",
       "          'boxplot.showbox': True,\n",
       "          'boxplot.showcaps': True,\n",
       "          'boxplot.showfliers': True,\n",
       "          'boxplot.showmeans': False,\n",
       "          'boxplot.vertical': True,\n",
       "          'boxplot.whiskerprops.color': 'black',\n",
       "          'boxplot.whiskerprops.linestyle': '-',\n",
       "          'boxplot.whiskerprops.linewidth': 1.0,\n",
       "          'boxplot.whiskers': 1.5,\n",
       "          'contour.algorithm': 'mpl2014',\n",
       "          'contour.corner_mask': True,\n",
       "          'contour.linewidth': None,\n",
       "          'contour.negative_linestyle': 'dashed',\n",
       "          'date.autoformatter.day': '%Y-%m-%d',\n",
       "          'date.autoformatter.hour': '%m-%d %H',\n",
       "          'date.autoformatter.microsecond': '%M:%S.%f',\n",
       "          'date.autoformatter.minute': '%d %H:%M',\n",
       "          'date.autoformatter.month': '%Y-%m',\n",
       "          'date.autoformatter.second': '%H:%M:%S',\n",
       "          'date.autoformatter.year': '%Y',\n",
       "          'date.converter': 'auto',\n",
       "          'date.epoch': '1970-01-01T00:00:00',\n",
       "          'date.interval_multiples': True,\n",
       "          'docstring.hardcopy': False,\n",
       "          'errorbar.capsize': 0.0,\n",
       "          'figure.autolayout': False,\n",
       "          'figure.constrained_layout.h_pad': 0.04167,\n",
       "          'figure.constrained_layout.hspace': 0.02,\n",
       "          'figure.constrained_layout.use': False,\n",
       "          'figure.constrained_layout.w_pad': 0.04167,\n",
       "          'figure.constrained_layout.wspace': 0.02,\n",
       "          'figure.dpi': 100.0,\n",
       "          'figure.edgecolor': 'white',\n",
       "          'figure.facecolor': 'white',\n",
       "          'figure.figsize': [6.4, 4.8],\n",
       "          'figure.frameon': True,\n",
       "          'figure.hooks': [],\n",
       "          'figure.labelsize': 'large',\n",
       "          'figure.labelweight': 'normal',\n",
       "          'figure.max_open_warning': 20,\n",
       "          'figure.raise_window': True,\n",
       "          'figure.subplot.bottom': 0.11,\n",
       "          'figure.subplot.hspace': 0.2,\n",
       "          'figure.subplot.left': 0.125,\n",
       "          'figure.subplot.right': 0.9,\n",
       "          'figure.subplot.top': 0.88,\n",
       "          'figure.subplot.wspace': 0.2,\n",
       "          'figure.titlesize': 'large',\n",
       "          'figure.titleweight': 'normal',\n",
       "          'font.cursive': ['Apple Chancery',\n",
       "                           'Textile',\n",
       "                           'Zapf Chancery',\n",
       "                           'Sand',\n",
       "                           'Script MT',\n",
       "                           'Felipa',\n",
       "                           'Comic Neue',\n",
       "                           'Comic Sans MS',\n",
       "                           'cursive'],\n",
       "          'font.family': ['Arial'],\n",
       "          'font.fantasy': ['Chicago',\n",
       "                           'Charcoal',\n",
       "                           'Impact',\n",
       "                           'Western',\n",
       "                           'Humor Sans',\n",
       "                           'xkcd',\n",
       "                           'fantasy'],\n",
       "          'font.monospace': ['DejaVu Sans Mono',\n",
       "                             'Bitstream Vera Sans Mono',\n",
       "                             'Computer Modern Typewriter',\n",
       "                             'Andale Mono',\n",
       "                             'Nimbus Mono L',\n",
       "                             'Courier New',\n",
       "                             'Courier',\n",
       "                             'Fixed',\n",
       "                             'Terminal',\n",
       "                             'monospace'],\n",
       "          'font.sans-serif': ['DejaVu Sans',\n",
       "                              'Bitstream Vera Sans',\n",
       "                              'Computer Modern Sans Serif',\n",
       "                              'Lucida Grande',\n",
       "                              'Verdana',\n",
       "                              'Geneva',\n",
       "                              'Lucid',\n",
       "                              'Arial',\n",
       "                              'Helvetica',\n",
       "                              'Avant Garde',\n",
       "                              'sans-serif'],\n",
       "          'font.serif': ['DejaVu Serif',\n",
       "                         'Bitstream Vera Serif',\n",
       "                         'Computer Modern Roman',\n",
       "                         'New Century Schoolbook',\n",
       "                         'Century Schoolbook L',\n",
       "                         'Utopia',\n",
       "                         'ITC Bookman',\n",
       "                         'Bookman',\n",
       "                         'Nimbus Roman No9 L',\n",
       "                         'Times New Roman',\n",
       "                         'Times',\n",
       "                         'Palatino',\n",
       "                         'Charter',\n",
       "                         'serif'],\n",
       "          'font.size': 10.0,\n",
       "          'font.stretch': 'normal',\n",
       "          'font.style': 'normal',\n",
       "          'font.variant': 'normal',\n",
       "          'font.weight': 'normal',\n",
       "          'grid.alpha': 1.0,\n",
       "          'grid.color': '#b0b0b0',\n",
       "          'grid.linestyle': '-',\n",
       "          'grid.linewidth': 0.8,\n",
       "          'hatch.color': 'black',\n",
       "          'hatch.linewidth': 1.0,\n",
       "          'hist.bins': 10,\n",
       "          'image.aspect': 'equal',\n",
       "          'image.cmap': 'viridis',\n",
       "          'image.composite_image': True,\n",
       "          'image.interpolation': 'antialiased',\n",
       "          'image.lut': 256,\n",
       "          'image.origin': 'upper',\n",
       "          'image.resample': True,\n",
       "          'interactive': True,\n",
       "          'keymap.back': ['left', 'c', 'backspace', 'MouseButton.BACK'],\n",
       "          'keymap.copy': ['ctrl+c', 'cmd+c'],\n",
       "          'keymap.forward': ['right', 'v', 'MouseButton.FORWARD'],\n",
       "          'keymap.fullscreen': ['f', 'ctrl+f'],\n",
       "          'keymap.grid': ['g'],\n",
       "          'keymap.grid_minor': ['G'],\n",
       "          'keymap.help': ['f1'],\n",
       "          'keymap.home': ['h', 'r', 'home'],\n",
       "          'keymap.pan': ['p'],\n",
       "          'keymap.quit': ['ctrl+w', 'cmd+w', 'q'],\n",
       "          'keymap.quit_all': [],\n",
       "          'keymap.save': ['s', 'ctrl+s'],\n",
       "          'keymap.xscale': ['k', 'L'],\n",
       "          'keymap.yscale': ['l'],\n",
       "          'keymap.zoom': ['o'],\n",
       "          'legend.borderaxespad': 0.5,\n",
       "          'legend.borderpad': 0.4,\n",
       "          'legend.columnspacing': 2.0,\n",
       "          'legend.edgecolor': '0.8',\n",
       "          'legend.facecolor': 'inherit',\n",
       "          'legend.fancybox': True,\n",
       "          'legend.fontsize': 32.0,\n",
       "          'legend.framealpha': 0.8,\n",
       "          'legend.frameon': True,\n",
       "          'legend.handleheight': 0.7,\n",
       "          'legend.handlelength': 2.0,\n",
       "          'legend.handletextpad': 0.8,\n",
       "          'legend.labelcolor': 'None',\n",
       "          'legend.labelspacing': 0.5,\n",
       "          'legend.loc': 'best',\n",
       "          'legend.markerscale': 1.0,\n",
       "          'legend.numpoints': 1,\n",
       "          'legend.scatterpoints': 1,\n",
       "          'legend.shadow': False,\n",
       "          'legend.title_fontsize': None,\n",
       "          'lines.antialiased': True,\n",
       "          'lines.color': 'C0',\n",
       "          'lines.dash_capstyle': <CapStyle.butt: 'butt'>,\n",
       "          'lines.dash_joinstyle': <JoinStyle.round: 'round'>,\n",
       "          'lines.dashdot_pattern': [6.4, 1.6, 1.0, 1.6],\n",
       "          'lines.dashed_pattern': [3.7, 1.6],\n",
       "          'lines.dotted_pattern': [1.0, 1.65],\n",
       "          'lines.linestyle': '-',\n",
       "          'lines.linewidth': 1.5,\n",
       "          'lines.marker': 'None',\n",
       "          'lines.markeredgecolor': 'auto',\n",
       "          'lines.markeredgewidth': 1.0,\n",
       "          'lines.markerfacecolor': 'auto',\n",
       "          'lines.markersize': 6.0,\n",
       "          'lines.scale_dashes': True,\n",
       "          'lines.solid_capstyle': <CapStyle.projecting: 'projecting'>,\n",
       "          'lines.solid_joinstyle': <JoinStyle.round: 'round'>,\n",
       "          'markers.fillstyle': 'full',\n",
       "          'mathtext.bf': 'sans:bold',\n",
       "          'mathtext.cal': 'cursive',\n",
       "          'mathtext.default': 'it',\n",
       "          'mathtext.fallback': 'cm',\n",
       "          'mathtext.fontset': 'dejavusans',\n",
       "          'mathtext.it': 'sans:italic',\n",
       "          'mathtext.rm': 'sans',\n",
       "          'mathtext.sf': 'sans',\n",
       "          'mathtext.tt': 'monospace',\n",
       "          'patch.antialiased': True,\n",
       "          'patch.edgecolor': 'black',\n",
       "          'patch.facecolor': 'C0',\n",
       "          'patch.force_edgecolor': False,\n",
       "          'patch.linewidth': 1.0,\n",
       "          'path.effects': [],\n",
       "          'path.simplify': True,\n",
       "          'path.simplify_threshold': 0.111111111111,\n",
       "          'path.sketch': None,\n",
       "          'path.snap': True,\n",
       "          'pcolor.shading': 'auto',\n",
       "          'pcolormesh.snap': True,\n",
       "          'pdf.compression': 6,\n",
       "          'pdf.fonttype': 3,\n",
       "          'pdf.inheritcolor': False,\n",
       "          'pdf.use14corefonts': False,\n",
       "          'pgf.preamble': '',\n",
       "          'pgf.rcfonts': True,\n",
       "          'pgf.texsystem': 'xelatex',\n",
       "          'polaraxes.grid': True,\n",
       "          'ps.distiller.res': 6000,\n",
       "          'ps.fonttype': 3,\n",
       "          'ps.papersize': 'letter',\n",
       "          'ps.useafm': False,\n",
       "          'ps.usedistiller': None,\n",
       "          'savefig.bbox': None,\n",
       "          'savefig.directory': '~',\n",
       "          'savefig.dpi': 'figure',\n",
       "          'savefig.edgecolor': 'auto',\n",
       "          'savefig.facecolor': 'auto',\n",
       "          'savefig.format': 'png',\n",
       "          'savefig.orientation': 'portrait',\n",
       "          'savefig.pad_inches': 0.1,\n",
       "          'savefig.transparent': False,\n",
       "          'scatter.edgecolors': 'face',\n",
       "          'scatter.marker': 'o',\n",
       "          'svg.fonttype': 'path',\n",
       "          'svg.hashsalt': None,\n",
       "          'svg.image_inline': True,\n",
       "          'text.antialiased': True,\n",
       "          'text.color': 'black',\n",
       "          'text.hinting': 'force_autohint',\n",
       "          'text.hinting_factor': 8,\n",
       "          'text.kerning_factor': 0,\n",
       "          'text.latex.preamble': '',\n",
       "          'text.parse_math': True,\n",
       "          'text.usetex': False,\n",
       "          'timezone': 'UTC',\n",
       "          'tk.window_focus': False,\n",
       "          'toolbar': 'toolbar2',\n",
       "          'webagg.address': '127.0.0.1',\n",
       "          'webagg.open_in_browser': True,\n",
       "          'webagg.port': 8988,\n",
       "          'webagg.port_retries': 50,\n",
       "          'xaxis.labellocation': 'center',\n",
       "          'xtick.alignment': 'center',\n",
       "          'xtick.bottom': True,\n",
       "          'xtick.color': 'black',\n",
       "          'xtick.direction': 'out',\n",
       "          'xtick.labelbottom': True,\n",
       "          'xtick.labelcolor': 'inherit',\n",
       "          'xtick.labelsize': 32.0,\n",
       "          'xtick.labeltop': False,\n",
       "          'xtick.major.bottom': True,\n",
       "          'xtick.major.pad': 3.5,\n",
       "          'xtick.major.size': 3.5,\n",
       "          'xtick.major.top': True,\n",
       "          'xtick.major.width': 0.8,\n",
       "          'xtick.minor.bottom': True,\n",
       "          'xtick.minor.pad': 3.4,\n",
       "          'xtick.minor.size': 2.0,\n",
       "          'xtick.minor.top': True,\n",
       "          'xtick.minor.visible': False,\n",
       "          'xtick.minor.width': 0.6,\n",
       "          'xtick.top': False,\n",
       "          'yaxis.labellocation': 'center',\n",
       "          'ytick.alignment': 'center_baseline',\n",
       "          'ytick.color': 'black',\n",
       "          'ytick.direction': 'out',\n",
       "          'ytick.labelcolor': 'inherit',\n",
       "          'ytick.labelleft': True,\n",
       "          'ytick.labelright': False,\n",
       "          'ytick.labelsize': 32.0,\n",
       "          'ytick.left': True,\n",
       "          'ytick.major.left': True,\n",
       "          'ytick.major.pad': 3.5,\n",
       "          'ytick.major.right': True,\n",
       "          'ytick.major.size': 3.5,\n",
       "          'ytick.major.width': 0.8,\n",
       "          'ytick.minor.left': True,\n",
       "          'ytick.minor.pad': 3.4,\n",
       "          'ytick.minor.right': True,\n",
       "          'ytick.minor.size': 2.0,\n",
       "          'ytick.minor.visible': False,\n",
       "          'ytick.minor.width': 0.6,\n",
       "          'ytick.right': False}))"
      ]
     },
     "execution_count": 12,
     "metadata": {},
     "output_type": "execute_result"
    }
   ],
   "source": [
    "import numpy as np\n",
    "\n",
    "import matplotlib.pyplot as plt\n",
    "from matplotlib.colors import ListedColormap\n",
    "\n",
    "import scipy.stats as stats\n",
    "import pandas as pd\n",
    "import sklearn.linear_model as lm\n",
    "\n",
    "import matplotlib as mpl\n",
    "\n",
    "# Set the global font to be Times New Roman\n",
    "mpl.rcParams['font.family'] = 'Arial'\n",
    "text_size = 32\n",
    "mpl.rcParams['axes.titlesize'] =  text_size # Title font size\n",
    "mpl.rcParams['axes.labelsize'] =  text_size # Axis labels font size\n",
    "mpl.rcParams['xtick.labelsize'] = text_size  # X tick labels font size\n",
    "mpl.rcParams['ytick.labelsize'] = text_size  # Y tick labels font size\n",
    "mpl.rcParams['legend.fontsize'] = text_size  # Legend font size\n",
    "#mpl.rcParams['legend.labelsize'] = text_size  # Legend font size\n",
    "\n",
    "mpl.rcParams.keys() "
   ]
  },
  {
   "cell_type": "code",
   "execution_count": 13,
   "metadata": {},
   "outputs": [
    {
     "data": {
      "image/png": "[encoded data removed]",
      "text/plain": [
       "<Figure size 640x480 with 1 Axes>"
      ]
     },
     "metadata": {},
     "output_type": "display_data"
    },
    {
     "data": {
      "image/png": "[encoded data removed]",
      "text/plain": [
       "<Figure size 640x480 with 1 Axes>"
      ]
     },
     "metadata": {},
     "output_type": "display_data"
    },
    {
     "data": {
      "image/png": "[encoded data removed]",
      "text/plain": [
       "<Figure size 640x480 with 1 Axes>"
      ]
     },
     "metadata": {},
     "output_type": "display_data"
    },
    {
     "data": {
      "image/png": "[encoded data removed]",
      "text/plain": [
       "<Figure size 640x480 with 1 Axes>"
      ]
     },
     "metadata": {},
     "output_type": "display_data"
    },
    {
     "data": {
      "image/png": "[encoded data removed]",
      "text/plain": [
       "<Figure size 640x480 with 1 Axes>"
      ]
     },
     "metadata": {},
     "output_type": "display_data"
    },
    {
     "data": {
      "image/png": "[encoded data removed]",
      "text/plain": [
       "<Figure size 640x480 with 1 Axes>"
      ]
     },
     "metadata": {},
     "output_type": "display_data"
    }
   ],
   "source": [
    "import numpy as np\n",
    "\n",
    "size = 20\n",
    "n_connections = 10\n",
    "\n",
    "\n",
    "\n",
    "def connectivity_matrix(size,n_connections,seed = 0):\n",
    "    np.random.seed(seed)\n",
    "    # Generate a random correlation matrix\n",
    "    #np.random.seed(49)  # For reproducibility\n",
    "    # Size of the correlation matrix\n",
    "    rand_matrix = np.random.rand(size, size)\n",
    "\n",
    "    # random pairs of more correlated points\n",
    "    link_nodes = [(i,j) for i,j in zip(np.random.randint(0,size,n_connections),np.random.randint(0,size,n_connections))]\n",
    "    for i,j in link_nodes:\n",
    "        rand_matrix[:,i] = rand_matrix[:,j] + np.random.normal(0,np.random.rand(1),20)\n",
    "\n",
    "\n",
    "    corr_matrix = np.corrcoef(rand_matrix, rowvar=False)  # Make the matrix symmetric\n",
    "\n",
    "    return(corr_matrix)\n",
    "\n",
    "mat_list = []\n",
    "seed = 10\n",
    "for i in range(0 + seed, 6 + seed):\n",
    "    mat = connectivity_matrix(size = size,n_connections = n_connections,seed = i)\n",
    "    fig, ax = plt.subplots()\n",
    "    ax.imshow(mat, cmap='gray', interpolation='none');\n",
    "    ax.axis(\"off\")\n",
    "    fig.savefig(f\"connectivity_matrix_{i}\");\n",
    "    mat_list.append(mat)\n",
    "# mat = connectivity_matrix(size = size,n_connections = n_connections ,seed = 2)\n",
    "# plt.imshow(mat, cmap='gray', interpolation='none')\n",
    "\n",
    "#plt.colorbar()"
   ]
  },
  {
   "cell_type": "code",
   "execution_count": 15,
   "metadata": {},
   "outputs": [
    {
     "name": "stdout",
     "output_type": "stream",
     "text": [
      "1 0\n",
      "2 0\n"
     ]
    },
    {
     "data": {
      "image/png": "[encoded data removed]",
      "text/plain": [
       "<Figure size 640x480 with 2 Axes>"
      ]
     },
     "metadata": {},
     "output_type": "display_data"
    }
   ],
   "source": [
    "#def correlation_matrix()\n",
    "rand_matrix = np.zeros((size,size))\n",
    "rand_matrix[[0,1],[1,0]] = 1\n",
    "rand_matrix[[0,2],[2,0]] = -1\n",
    "#print(rand_matrix)\n",
    "for i in range(size):\n",
    "    for j in range(i):\n",
    "        temp = np.random.random() * 2 - 1\n",
    "        if (i == 0 and (j == 1 or j == 2)) or (j == 0 and (i == 1 or i == 2)):\n",
    "            print(i,j)\n",
    "            pass\n",
    "        else:\n",
    "            rand_matrix[i,j] = temp\n",
    "            rand_matrix[j,i] = temp\n",
    "plt.imshow(rand_matrix, cmap='viridis', interpolation='none')\n",
    "cbar = plt.colorbar()\n",
    "cbar.set_label(\"r value\",fontsize = text_size)\n",
    "cbar.set_ticks([-1,0,1])\n",
    "plt.axis(\"off\")\n",
    "plt.savefig(\"correlation_matrix\")"
   ]
  },
  {
   "cell_type": "code",
   "execution_count": 16,
   "metadata": {},
   "outputs": [
    {
     "data": {
      "image/png": "[encoded data removed]",
      "text/plain": [
       "<Figure size 640x480 with 1 Axes>"
      ]
     },
     "metadata": {},
     "output_type": "display_data"
    }
   ],
   "source": [
    "threshold = 0.8\n",
    "temp1 = (rand_matrix > threshold).astype(int)\n",
    "np.fill_diagonal(temp1, 0)\n",
    "temp2 = (rand_matrix < -threshold).astype(int)\n",
    "network_mat = temp1 - temp2\n",
    "\n",
    "# colors = ['blue', 'white', 'red']  # Colors for -0.1, 0, and 0.1 respectively\n",
    "# cmap = ListedColormap(colors)\n",
    "plt.imshow(network_mat,cmap = \"bwr\")\n",
    "plt.axis(\"off\")\n",
    "plt.savefig(\"network_matrix\")"
   ]
  },
  {
   "cell_type": "code",
   "execution_count": 17,
   "metadata": {},
   "outputs": [
    {
     "data": {
      "image/png": "[encoded data removed]",
      "text/plain": [
       "<Figure size 640x480 with 1 Axes>"
      ]
     },
     "metadata": {},
     "output_type": "display_data"
    }
   ],
   "source": [
    "# pass each network through this\n",
    "for i in range(len(mat_list)):\n",
    "    mat = mat_list[i]\n",
    "    new_mat = mat * network_mat\n",
    "    plt.imshow(new_mat,cmap = \"bwr\",vmin = -1,vmax=1)\n",
    "    #plt.colorbar()\n",
    "    plt.axis(\"off\")\n",
    "    plt.savefig(f\"network_matrix_{i}\")\n"
   ]
  },
  {
   "cell_type": "markdown",
   "metadata": {},
   "source": [
    "$$ \n",
    "\\Sigma_{p1}\n",
    "$$"
   ]
  },
  {
   "cell_type": "code",
   "execution_count": 40,
   "metadata": {},
   "outputs": [
    {
     "data": {
      "text/plain": [
       "10.703728421333553"
      ]
     },
     "execution_count": 40,
     "metadata": {},
     "output_type": "execute_result"
    },
    {
     "data": {
      "image/png": "[encoded data removed]",
      "text/plain": [
       "<Figure size 640x480 with 1 Axes>"
      ]
     },
     "metadata": {},
     "output_type": "display_data"
    }
   ],
   "source": [
    "plt.imshow(new_mat[new_mat < 0].reshape(1,-1),cmap = \"bwr\",vmin = -1,vmax=1)\n",
    "plt.axis(\"off\")\n",
    "sum(new_mat[new_mat > 0])"
   ]
  },
  {
   "cell_type": "code",
   "execution_count": 26,
   "metadata": {},
   "outputs": [
    {
     "data": {
      "image/png": "[encoded data removed]",
      "text/plain": [
       "<Figure size 500x500 with 1 Axes>"
      ]
     },
     "metadata": {},
     "output_type": "display_data"
    }
   ],
   "source": [
    "x = np.random.uniform(0,1,20)\n",
    "y = x + np.abs(np.random.normal(0,0.2,20))\n",
    "\n",
    "lm_model = lm.LinearRegression().fit(x.reshape(-1,1),y)\n",
    "\n",
    "fig, ax = plt.subplots(figsize=(5,5))\n",
    "ax.scatter(x,y,color = \"red\")\n",
    "bevel = 0.1\n",
    "ax.plot([0,max(x)+bevel],[lm_model.predict(np.array(0).reshape(-1,1)),lm_model.predict(max(x).reshape(-1,1))+bevel],color = \"black\")\n",
    "#ax.set_aspect(\"equal\")\n",
    "ax.set_xlabel(\"Summed edge weights\")\n",
    "ax.set_ylabel(\"VGAQ\")\n",
    "ax.set_xticks([])\n",
    "ax.set_yticks([])\n",
    "ax.set_xlim([0,max(x)+bevel])\n",
    "ax.set_ylim([0,max(y) + bevel])\n",
    "fig.savefig(\"pos_linear_model\")"
   ]
  },
  {
   "cell_type": "code",
   "execution_count": 20,
   "metadata": {},
   "outputs": [
    {
     "data": {
      "image/png": "[encoded data removed]",
      "text/plain": [
       "<Figure size 500x500 with 1 Axes>"
      ]
     },
     "metadata": {},
     "output_type": "display_data"
    }
   ],
   "source": [
    "fig, ax = plt.subplots(figsize=(5,5))\n",
    "\n",
    "test = np.random.uniform(min(x),max(x))\n",
    "pred = lm_model.predict(np.array(test).reshape(-1,1))[0]\n",
    "#ax.scatter(x,y,color = \"black\")\n",
    "ax.plot([0,max(x)+bevel],[lm_model.predict(np.array(0).reshape(-1,1)),lm_model.predict(max(x).reshape(-1,1))+bevel],color = \"black\")\n",
    "ax.plot([0,test,test],[pred,pred,0],color = \"red\",linestyle = \"--\")\n",
    "ax.set_xlim([0,max(x)])\n",
    "ax.set_ylim([0,max(y)])\n",
    "#ax.set_aspect(\"equal\")\n",
    "ax.set_xlabel(\"Summed edge weights\")\n",
    "ax.set_ylabel(\"VGAQ\")\n",
    "ax.set_xticks([])\n",
    "ax.set_yticks([])\n",
    "fig.savefig(\"prediction_using_pos_network\")"
   ]
  }
 ],
 "metadata": {
  "kernelspec": {
   "display_name": "base",
   "language": "python",
   "name": "python3"
  },
  "language_info": {
   "codemirror_mode": {
    "name": "ipython",
    "version": 3
   },
   "file_extension": ".py",
   "mimetype": "text/x-python",
   "name": "python",
   "nbconvert_exporter": "python",
   "pygments_lexer": "ipython3",
   "version": "3.11.5"
  }
 },
 "nbformat": 4,
 "nbformat_minor": 2
}
