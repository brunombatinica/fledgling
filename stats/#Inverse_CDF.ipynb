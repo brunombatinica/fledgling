{
 "cells": [
  {
   "cell_type": "code",
   "execution_count": 2,
   "metadata": {},
   "outputs": [],
   "source": [
    "import numpy as np\n",
    "import matplotlib as mpl\n",
    "import matplotlib.pyplot as plt"
   ]
  },
  {
   "cell_type": "code",
   "execution_count": 44,
   "metadata": {},
   "outputs": [
    {
     "name": "stderr",
     "output_type": "stream",
     "text": [
      "C:\\Users\\bruno\\AppData\\Local\\Temp/ipykernel_3624/119766307.py:13: RuntimeWarning: divide by zero encountered in log\n",
      "  return -(1/lam)*np.log(1-t)\n",
      "C:\\Users\\bruno\\AppData\\Local\\Temp/ipykernel_3624/119766307.py:13: RuntimeWarning: invalid value encountered in log\n",
      "  return -(1/lam)*np.log(1-t)\n"
     ]
    },
    {
     "data": {
      "text/plain": [
       "(0.0, 1.0)"
      ]
     },
     "execution_count": 44,
     "metadata": {},
     "output_type": "execute_result"
    },
    {
     "data": {
      "image/png": "[encoded data removed]",
      "text/plain": [
       "<Figure size 432x288 with 5 Axes>"
      ]
     },
     "metadata": {
      "needs_background": "light"
     },
     "output_type": "display_data"
    }
   ],
   "source": [
    "#create a random exponential survival function\n",
    "\n",
    "X = np.arange(0,5,0.1)\n",
    "\n",
    "lam = 0.2\n",
    "def S(t):\n",
    "    return  (np.exp(-lam*t))\n",
    "\n",
    "def F(t):\n",
    "    return (1 - S(t))\n",
    "\n",
    "def Finv(t):\n",
    "    return -(1/lam)*np.log(1-t)\n",
    "\n",
    "fig = plt.figure()\n",
    "ax1 = fig.add_subplot(151)\n",
    "#F(t) and S(t)\n",
    "ax1.scatter(X,S(X),c = \"orange\")\n",
    "ax1.scatter(X,F(X))\n",
    "ax1.set_ylim([0,1])\n",
    "\n",
    "#Fin(t)\n",
    "ax2 = fig.add_subplot(152)\n",
    "ax2.scatter(X,Finv(X))\n",
    "ax2.set_ylim([0,1])\n",
    "\n",
    "#inversion Check\n",
    "ax3 =fig.add_subplot(153)\n",
    "ax3.scatter(X,Finv(F(X)))\n",
    "\n",
    "#sampling hte inverse to get f(t)\n",
    "n = 100000\n",
    "Ti = []\n",
    "for i in range(n):\n",
    "    Ti.append( Finv(np.random.uniform(0,1)))\n",
    "ax3 = fig.add_subplot(154)\n",
    "ax3.hist(Ti)\n",
    "#checking surivival\n",
    "\n",
    "t = np.arange(0,5,0.1)\n",
    "Ti = np.array(Ti)\n",
    "STi = []\n",
    "for i in t:\n",
    "    STi.append(len(Ti[Ti>i])/n)\n",
    "ax4 = fig.add_subplot(155)\n",
    "ax4.scatter(t,STi,c = \"orange\")\n",
    "ax4.set_ylim([0,1])\n",
    "\n",
    "\n",
    "\n"
   ]
  },
  {
   "cell_type": "code",
   "execution_count": 38,
   "metadata": {},
   "outputs": [
    {
     "data": {
      "text/plain": [
       "[1.0,\n",
       " 0.9904,\n",
       " 0.9811,\n",
       " 0.9726,\n",
       " 0.9635,\n",
       " 0.9538,\n",
       " 0.9439,\n",
       " 0.9336,\n",
       " 0.9246,\n",
       " 0.9155,\n",
       " 0.9072,\n",
       " 0.8964,\n",
       " 0.8871,\n",
       " 0.8787,\n",
       " 0.8688,\n",
       " 0.8594,\n",
       " 0.8507,\n",
       " 0.8426,\n",
       " 0.8341,\n",
       " 0.8246,\n",
       " 0.817,\n",
       " 0.8105,\n",
       " 0.8027,\n",
       " 0.7957,\n",
       " 0.7881,\n",
       " 0.7804,\n",
       " 0.7733,\n",
       " 0.7666,\n",
       " 0.7593,\n",
       " 0.75,\n",
       " 0.7425,\n",
       " 0.7356,\n",
       " 0.7278,\n",
       " 0.7209,\n",
       " 0.714,\n",
       " 0.7076,\n",
       " 0.7015,\n",
       " 0.6921,\n",
       " 0.6865,\n",
       " 0.6785,\n",
       " 0.6707,\n",
       " 0.6643,\n",
       " 0.6573,\n",
       " 0.6498,\n",
       " 0.6429,\n",
       " 0.6371,\n",
       " 0.6317,\n",
       " 0.6244,\n",
       " 0.6187,\n",
       " 0.6126]"
      ]
     },
     "execution_count": 38,
     "metadata": {},
     "output_type": "execute_result"
    }
   ],
   "source": [
    "\n"
   ]
  }
 ],
 "metadata": {
  "kernelspec": {
   "display_name": "Python 3.9.7 ('base')",
   "language": "python",
   "name": "python3"
  },
  "language_info": {
   "codemirror_mode": {
    "name": "ipython",
    "version": 3
   },
   "file_extension": ".py",
   "mimetype": "text/x-python",
   "name": "python",
   "nbconvert_exporter": "python",
   "pygments_lexer": "ipython3",
   "version": "3.9.7"
  },
  "orig_nbformat": 4,
  "vscode": {
   "interpreter": {
    "hash": "86ced299d573a58fc1d464bd2f917835a691b9d9cefee14c59fce60008360703"
   }
  }
 },
 "nbformat": 4,
 "nbformat_minor": 2
}
