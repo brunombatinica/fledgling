{
 "cells": [
  {
   "cell_type": "code",
   "execution_count": 63,
   "metadata": {},
   "outputs": [
    {
     "name": "stdout",
     "output_type": "stream",
     "text": [
      "0.9025\n"
     ]
    },
    {
     "data": {
      "text/plain": [
       "array([[42.02985],\n",
       "       [ 8.9803 ],\n",
       "       [25.98985]])"
      ]
     },
     "execution_count": 63,
     "metadata": {},
     "output_type": "execute_result"
    }
   ],
   "source": [
    "import numpy as np\n",
    "\n",
    "# 66 have 1\n",
    "# 2,3 missing\n",
    "# 4 just 1 person\n",
    "\n",
    "# mean 1.82\n",
    "# sd 0.95\n",
    "\n",
    "v = 0.95 ** 2\n",
    "print(v)\n",
    "\n",
    "n = 77\n",
    "A = np.array([[1/78,2/78,3/78], [0.82**2/n, 0.18**2/n, 1.18**2/n],[1,1,1]])\n",
    "b = np.array([[1.82-4/78],[v - (2.18**2)/n],[77]])\n",
    "\n",
    "x = np.linalg.solve(A,b)\n",
    "x"
   ]
  },
  {
   "cell_type": "code",
   "execution_count": 56,
   "metadata": {},
   "outputs": [
    {
     "data": {
      "text/plain": [
       "array([[42.],\n",
       "       [ 9.],\n",
       "       [26.]])"
      ]
     },
     "execution_count": 56,
     "metadata": {},
     "output_type": "execute_result"
    }
   ],
   "source": [
    "x.round()"
   ]
  },
  {
   "cell_type": "code",
   "execution_count": 58,
   "metadata": {},
   "outputs": [
    {
     "data": {
      "text/plain": [
       "array([42.,  9., 26.,  1.])"
      ]
     },
     "execution_count": 58,
     "metadata": {},
     "output_type": "execute_result"
    }
   ],
   "source": [
    "t = np.concatenate( (x.round(), np.array([1]) ), axis = None)\n"
   ]
  },
  {
   "cell_type": "code",
   "execution_count": 64,
   "metadata": {},
   "outputs": [
    {
     "name": "stdout",
     "output_type": "stream",
     "text": [
      "mean: 1.6025641025641026, sd: 0.7444991969633374\n"
     ]
    }
   ],
   "source": [
    "x = [1]*42 + [2] * 26 + [3] * 9 + [4]\n",
    "print(f\"mean: {np.mean(x)}, sd: {np.std(x,ddof=1)}\")"
   ]
  },
  {
   "cell_type": "code",
   "execution_count": null,
   "metadata": {},
   "outputs": [],
   "source": [
    "66"
   ]
  }
 ],
 "metadata": {
  "kernelspec": {
   "display_name": "base",
   "language": "python",
   "name": "python3"
  },
  "language_info": {
   "codemirror_mode": {
    "name": "ipython",
    "version": 3
   },
   "file_extension": ".py",
   "mimetype": "text/x-python",
   "name": "python",
   "nbconvert_exporter": "python",
   "pygments_lexer": "ipython3",
   "version": "3.11.5"
  }
 },
 "nbformat": 4,
 "nbformat_minor": 2
}
