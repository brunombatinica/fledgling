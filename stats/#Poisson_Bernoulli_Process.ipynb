{
 "cells": [
  {
   "cell_type": "code",
   "execution_count": 4,
   "metadata": {},
   "outputs": [],
   "source": [
    "import numpy as np\n",
    "import matplotlib as mpl\n",
    "from matplotlib import pyplot as plt\n",
    "import random"
   ]
  },
  {
   "cell_type": "code",
   "execution_count": 24,
   "metadata": {},
   "outputs": [
    {
     "data": {
      "text/plain": [
       "(array([  10.,  106.,  407., 1143., 2042., 2457., 2086., 1175.,  468.,\n",
       "          98.,    8.,    0.,    0.,    0.]),\n",
       " array([-0.5,  0.5,  1.5,  2.5,  3.5,  4.5,  5.5,  6.5,  7.5,  8.5,  9.5,\n",
       "        10.5, 11.5, 12.5, 13.5]),\n",
       " <BarContainer object of 14 artists>)"
      ]
     },
     "execution_count": 24,
     "metadata": {},
     "output_type": "execute_result"
    },
    {
     "data": {
      "image/png": "[encoded data removed]",
      "text/plain": [
       "<Figure size 432x288 with 1 Axes>"
      ]
     },
     "metadata": {
      "needs_background": "light"
     },
     "output_type": "display_data"
    }
   ],
   "source": [
    "#Bernoulli process\n",
    "\n",
    "#simple model = pick n time slot and simulat how many successes (anaologus to binomial)\n",
    "def bernoulli(n,p):\n",
    "    successes = 0\n",
    "    for i in range(n):\n",
    "        if np.random.uniform(0,1) < p:\n",
    "            successes += 1\n",
    "    return successes\n",
    "\n",
    "arrivals = []\n",
    "experiments= 10000\n",
    "n = 10\n",
    "p = 0.5\n",
    "for i in range(experiments):\n",
    "    arrivals.append(bernoulli(n,p))\n",
    "\n",
    "fig = plt.figure()\n",
    "ax = fig.add_subplot()\n",
    "ax.hist(arrivals, bins = [i-0.5 for i in range(0,15)])\n"
   ]
  },
  {
   "cell_type": "code",
   "execution_count": 42,
   "metadata": {},
   "outputs": [
    {
     "data": {
      "text/plain": [
       "(array([    0., 10069.,  8868.,  8043.,  7362.,  6590.,  5964.,  5242.,\n",
       "         4840.,  4349.,  3778.,  3567.,  3076.,  2844.,  2480.,  2324.,\n",
       "         2100.,  1859.,  1663.,  1447.,  1366.,  1256.,  1181.,  1011.,\n",
       "          826.,   847.,   760.,   622.,   594.,   538.,   446.,   432.,\n",
       "          371.,   348.,   305.,   247.,   250.,   205.,   201.,   171.,\n",
       "          159.,   117.,   125.,   130.,   106.,   103.,    78.,    77.,\n",
       "           65.]),\n",
       " array([-0.5,  0.5,  1.5,  2.5,  3.5,  4.5,  5.5,  6.5,  7.5,  8.5,  9.5,\n",
       "        10.5, 11.5, 12.5, 13.5, 14.5, 15.5, 16.5, 17.5, 18.5, 19.5, 20.5,\n",
       "        21.5, 22.5, 23.5, 24.5, 25.5, 26.5, 27.5, 28.5, 29.5, 30.5, 31.5,\n",
       "        32.5, 33.5, 34.5, 35.5, 36.5, 37.5, 38.5, 39.5, 40.5, 41.5, 42.5,\n",
       "        43.5, 44.5, 45.5, 46.5, 47.5, 48.5]),\n",
       " <BarContainer object of 49 artists>)"
      ]
     },
     "execution_count": 42,
     "metadata": {},
     "output_type": "execute_result"
    },
    {
     "data": {
      "image/png": "[encoded data removed]",
      "text/plain": [
       "<Figure size 432x288 with 1 Axes>"
      ]
     },
     "metadata": {
      "needs_background": "light"
     },
     "output_type": "display_data"
    }
   ],
   "source": [
    "#time to arrival\n",
    "def arrival_time(p):\n",
    "    counter = 0\n",
    "    while True:\n",
    "        counter += 1\n",
    "        if np.random.uniform(0,1)<p:\n",
    "            return counter\n",
    "\n",
    "experiments = 100000\n",
    "p = 0.1\n",
    "arrivals = []\n",
    "for i in range(experiments):\n",
    "    arrivals.append(arrival_time(p))\n",
    "\n",
    "fig = plt.figure()\n",
    "ax = fig.add_subplot()\n",
    "ax.hist(arrivals,bins = [i-0.5 for i in range(0,50)])\n",
    "\n",
    "#this is a geometric random variable"
   ]
  },
  {
   "cell_type": "code",
   "execution_count": 57,
   "metadata": {},
   "outputs": [
    {
     "name": "stderr",
     "output_type": "stream",
     "text": [
      "C:\\Users\\bruno\\AppData\\Local\\Temp/ipykernel_26716/1927860468.py:3: RuntimeWarning: divide by zero encountered in double_scalars\n",
      "  return (x**2 - 3*x + 2)/((1-x)*x**3)\n",
      "C:\\Users\\bruno\\AppData\\Local\\Temp/ipykernel_26716/1927860468.py:6: RuntimeWarning: invalid value encountered in double_scalars\n",
      "  return (2*x - x**2)/(x**4)\n"
     ]
    },
    {
     "data": {
      "text/plain": [
       "<matplotlib.collections.PathCollection at 0x1ade3943490>"
      ]
     },
     "execution_count": 57,
     "metadata": {},
     "output_type": "execute_result"
    },
    {
     "data": {
      "image/png": "[encoded data removed]",
      "text/plain": [
       "<Figure size 432x288 with 1 Axes>"
      ]
     },
     "metadata": {
      "needs_background": "light"
     },
     "output_type": "display_data"
    }
   ],
   "source": [
    "#Testing\n",
    "def function1(x):\n",
    "    return (x**2 - 3*x + 2)/((1-x)*x**3)\n",
    "\n",
    "def function2(x):\n",
    "    return (2*x - x**2)/(x**4)\n",
    "\n",
    "X = np.arange(0,1,0.01)\n",
    "\n",
    "fig = plt.figure()\n",
    "ax = fig.add_subplot()\n",
    "ax.scatter(X,[function1(i) for i in X],c = \"red\")\n",
    "ax.scatter(X,[function2(i) for i in X],c = \"blue\")\n",
    "\n"
   ]
  },
  {
   "cell_type": "code",
   "execution_count": null,
   "metadata": {},
   "outputs": [],
   "source": [
    "#"
   ]
  }
 ],
 "metadata": {
  "kernelspec": {
   "display_name": "Python 3.9.7 ('base')",
   "language": "python",
   "name": "python3"
  },
  "language_info": {
   "codemirror_mode": {
    "name": "ipython",
    "version": 3
   },
   "file_extension": ".py",
   "mimetype": "text/x-python",
   "name": "python",
   "nbconvert_exporter": "python",
   "pygments_lexer": "ipython3",
   "version": "3.9.7"
  },
  "orig_nbformat": 4,
  "vscode": {
   "interpreter": {
    "hash": "86ced299d573a58fc1d464bd2f917835a691b9d9cefee14c59fce60008360703"
   }
  }
 },
 "nbformat": 4,
 "nbformat_minor": 2
}
