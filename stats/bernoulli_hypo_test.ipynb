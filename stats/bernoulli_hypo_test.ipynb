{
 "cells": [
  {
   "cell_type": "code",
   "execution_count": 1,
   "metadata": {},
   "outputs": [],
   "source": [
    "# from jennifers paper\n",
    "\n",
    "# group 1 has 16 men and 4 women\n",
    "\n",
    "p = 16/20 \n",
    "\n",
    "# what is the likelihood that group 2 have 13 women and 7 men\n",
    "\n",
    "# combinatronics"
   ]
  },
  {
   "cell_type": "markdown",
   "metadata": {},
   "source": [
    "$$ \\binom{7}{20} $$\n",
    "\n",
    "how many ways can you pick 7 men from 20 individuals\n",
    "\n",
    "$$ \\frac{n!}{(n-r)!(r!)} $$\n",
    "\n"
   ]
  },
  {
   "cell_type": "code",
   "execution_count": 13,
   "metadata": {},
   "outputs": [],
   "source": [
    "import numpy as np\n",
    "def C(x1,x2):\n",
    "    # computes the binomial coefficient\n",
    "    return np.math.factorial(x2) / ( np.math.factorial(x2-x1) * np.math.factorial(x1) )\n"
   ]
  },
  {
   "cell_type": "code",
   "execution_count": 22,
   "metadata": {},
   "outputs": [
    {
     "name": "stdout",
     "output_type": "stream",
     "text": [
      "1.5162840312709081e-05\n"
     ]
    }
   ],
   "source": [
    "total_prob = 0\n",
    "for i in range(0,8):\n",
    "    total_prob += (p**i) * (1-p)**(20-i) * C(i,20) \n",
    "print(total_prob)"
   ]
  },
  {
   "cell_type": "markdown",
   "metadata": {},
   "source": [
    "### IN REALITY YOU WOULD USE A CHI SQUARED TEST!!"
   ]
  },
  {
   "cell_type": "code",
   "execution_count": 24,
   "metadata": {},
   "outputs": [],
   "source": [
    "#To do this is a group agnostic way\n",
    "\n",
    "#Take overall sample\n",
    "\n",
    "p_ = (16 + 7) / 40\n",
    "\n",
    "# and calculate hte likelihood of those 2 groups being formed\n",
    "\n"
   ]
  },
  {
   "cell_type": "code",
   "execution_count": 27,
   "metadata": {},
   "outputs": [],
   "source": [
    "def bin(n,t,p):\n",
    "    total_prob = 0\n",
    "    for i in range(0,n+1):\n",
    "        total_prob += (p**i) * (1-p)**(20-i) * C(i,t) \n",
    "    return total_prob"
   ]
  },
  {
   "cell_type": "code",
   "execution_count": 30,
   "metadata": {},
   "outputs": [
    {
     "name": "stdout",
     "output_type": "stream",
     "text": [
      "0.03587939795887994\n",
      "0.031621631257347155\n"
     ]
    }
   ],
   "source": [
    "print(bin(7,20,p_))\n",
    "print(bin(4,20,(1-p_)))"
   ]
  },
  {
   "cell_type": "code",
   "execution_count": 31,
   "metadata": {},
   "outputs": [
    {
     "data": {
      "text/plain": [
       "0.0011345650919913157"
      ]
     },
     "execution_count": 31,
     "metadata": {},
     "output_type": "execute_result"
    }
   ],
   "source": [
    "bin(7,20,p_) *bin(4,20,(1-p_))"
   ]
  }
 ],
 "metadata": {
  "kernelspec": {
   "display_name": "base",
   "language": "python",
   "name": "python3"
  },
  "language_info": {
   "codemirror_mode": {
    "name": "ipython",
    "version": 3
   },
   "file_extension": ".py",
   "mimetype": "text/x-python",
   "name": "python",
   "nbconvert_exporter": "python",
   "pygments_lexer": "ipython3",
   "version": "3.11.5"
  }
 },
 "nbformat": 4,
 "nbformat_minor": 2
}
