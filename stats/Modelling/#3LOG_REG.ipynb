{
 "cells": [
  {
   "cell_type": "code",
   "execution_count": 2,
   "metadata": {},
   "outputs": [],
   "source": [
    "import numpy as np\n",
    "import matplotlib as mpl\n",
    "import matplotlib.pyplot as plt\n",
    "import statistics\n",
    "import scipy.special\n",
    "import seaborn as sns\n",
    "import pandas as pd\n",
    "import requests\n",
    "import PIL\n",
    "import scipy.stats\n",
    "import sklearn.linear_model"
   ]
  },
  {
   "attachments": {},
   "cell_type": "markdown",
   "metadata": {},
   "source": [
    "# *all things logistic regression - follows on from 1LIN_REG.ipynb & 2LIN_REG_SE.ipynb*\n",
    "\n",
    "https://www.stat.cmu.edu/~cshalizi/uADA/12/lectures/ch12.pdf"
   ]
  },
  {
   "cell_type": "markdown",
   "metadata": {},
   "source": [
    "# **LOGISTIC REGRESSION**\n",
    "\n"
   ]
  },
  {
   "attachments": {},
   "cell_type": "markdown",
   "metadata": {},
   "source": [
    "\n",
    "Logistic regression is an extension of linear regression which is \"Linear\" on the log-it scale\n",
    "\n",
    "Log-odds of the event is a linear combination of one or more independent variables\n",
    "\n",
    "The function that converts log-odds to probabiliy is the LOGISTIC FUNCTION \n",
    "\n",
    "The unit of measurement on hte log-odds scale is called a LOGIT\n",
    "\n",
    "\n",
    "?OLS uses \"normal\" probability theory whil logistic regresion uses binomial probabiliy theory\n",
    "\n",
    "\n",
    "\n"
   ]
  },
  {
   "attachments": {},
   "cell_type": "markdown",
   "metadata": {},
   "source": [
    "## **THE LOGIT**\n"
   ]
  },
  {
   "attachments": {},
   "cell_type": "markdown",
   "metadata": {},
   "source": [
    "let the linear predictor be denotes as $Z = X\\beta = \\beta_0 + \\beta_1x_1 +  \\beta_2x_2 +  \\beta_3x_3 + ... $ \n",
    "\n",
    "where $x_i$ is the ith predictor\n",
    "\n",
    "the lienar regression equation is \n",
    "\n",
    "$ y = X\\beta = Z $ \n",
    "\n",
    "(linear model)\n",
    "\n",
    "\\left|\n",
    "\\begin{array}{l}\n",
    "\\mathbf{y} = \\mathbf{X} \\mathbf{\\beta} + \\mathbf{\\epsilon} \\\\\n",
    " \\mathbf{\\epsilon} \\sim N(0, \\sigma^2 \\mathbf{I}),\n",
    "\\end{array}\n",
    "\\right.\n",
    "\n",
    "but...\n",
    "\n",
    "\n",
    "\n",
    "We want to confine our prediction y to be between 0 and 1 so\n",
    "\n",
    "**we utilize the sigmoid function**\n",
    "\n",
    "$ y = \\dfrac{ e^{Z} } { 1+e^{Z} } $\n",
    "\n",
    "which following some simple algebra gives us \n",
    "\n",
    "the log odds or logit expression= \n",
    "\n",
    "$ ln(\\dfrac{y}{1-y}) = Z $\n",
    "\n",
    "LITERALLY THE LOG OF THE ODDS\n",
    "\n",
    "\n",
    "\n",
    "Bounds function between 0 and 1 - and allows negative x's \n",
    "Most practical convertion of (-inf,inf) to [0,1]"
   ]
  },
  {
   "cell_type": "code",
   "execution_count": 8,
   "metadata": {},
   "outputs": [
    {
     "data": {
      "text/plain": [
       "<matplotlib.collections.PathCollection at 0x1c578b49760>"
      ]
     },
     "execution_count": 8,
     "metadata": {},
     "output_type": "execute_result"
    },
    {
     "data": {
      "image/png": "[encoded data removed]",
      "text/plain": [
       "<Figure size 640x480 with 1 Axes>"
      ]
     },
     "metadata": {},
     "output_type": "display_data"
    }
   ],
   "source": [
    "#testing   \n",
    "\n",
    "x = np.linspace(-10,10,100)\n",
    "\n",
    "y1 = x/(1+x)\n",
    "\n",
    "y2 = np.exp(x)/(1+np.exp(x))\n",
    "\n",
    "# y3 = np.log(x)/(1+np.log(x))\n",
    "\n",
    "#expoentiation stops x from going negative! and means that as x gets more negative e^x \n",
    "#gets smaller- if instead we took the absolute value it would start increasing with more negative x\n",
    "#this is the logit\n",
    "\n",
    "fig = plt.figure()\n",
    "ax = fig.add_subplot()\n",
    "ax.scatter(x,y1)\n",
    "ax.scatter(x,y2)\n"
   ]
  },
  {
   "attachments": {},
   "cell_type": "markdown",
   "metadata": {},
   "source": [
    "# **INTERPRETATIONS/MODEL EXPLAINATION**"
   ]
  },
  {
   "attachments": {},
   "cell_type": "markdown",
   "metadata": {},
   "source": [
    "There are several equivalent specifications and interpretations of logistic regression\n",
    "\n",
    "\n",
    "## *GENERALIZED LINEAR MODEL*\n",
    "\n",
    "The different between log regresion and standard LR (or other types of regression used for binary value outcomes) is hte way hte probability of a particular outcome is linked to the predictor function  (AS DESCRIBED ABOVE)\n",
    "\n",
    "Linear as hte log-oods are posited to change as a linear function of the predictors\n",
    "\n",
    "$ logit( E[y_i|X_i] )  = logit(p_i) = \\ln\\bigg(\\dfrac{p_i}{1-p_i}\\bigg) = X_i\\beta$\n",
    "\n",
    "The \"logit\" is the LINK FUNCTION of hte generalized linear model - you can use other link fucntion with binomial yi variables e.g. probit regression uses hte standard normal quantile (inverce CDF) function\n",
    "\n",
    "The GLM predicts variables with various types of probability distributs by fitting a linear predicto function of hte above form to some sort of arbitrary transformation of hte exprcted value of th variable\n",
    "\n",
    "\n",
    "The intuition for transorming using hte logit function was shown above\n",
    "\n",
    "Note that both probabilities p_i and the coefficients B_i are unobserved\n",
    "\n",
    "The way to determine these is not part of hte model itself......\n",
    "\n",
    "Typically deterimined usig  some optimizing procedure - e.g. MLE to find values that best fir the observed data - usually subject to regularizatio conditions that seek to exclude unlikely values (e.g. extrmely large coefficients)\n",
    "\n",
    "The use of a REGULTIZATION condition is equivalent to doing MAXIMUM A POSTERIORI (MAP) estimation - an extrneiosn of MLE\n",
    "\n",
    "*regularization is most commonly done suring a squared regularization function which is equivalent to placing a zero0mean Gaussian prioir distribution on the coefficients but other regluzrizers re also possible\n",
    "\n",
    "\n",
    "The interpretation of hte Bj parameters estimates is hte addiciet effect of hte log of hte odds for a unit change in the j explanatory variable - in the simple dichotomous case e^B is the estiamtes of hte odds between the 2 groups\n",
    "\n",
    "we can then write the likelihood function out - assuming the outcome is a BERNOULLI random variable (the building block of the binomila distribution)\n",
    "\n",
    "$Pr(Y_i = y | X_i) = p_i^y(1-p_i)^{1-y} $ \n",
    "\n",
    "Where hte linear predictor is p_i\n",
    "\n",
    "\n",
    "for linear regression instead we are working with a continuous random variables that we assume to be i.i.d normal with means at the values y_i and standard deviations that dont matter as they cancel out - out linear predictor is thus a random variable and we can calculatet hte probability of it being drawn out of that r.v. distribution\n",
    "\n",
    "For log regression instead - our liaer predictor is the p_i probability - which is hte expected value of hte bernoulli - \n",
    "\n",
    "this is slightly counter intuitive as the bernoulli r.v. can never actually take the value of p_i that we predict so we cant \n",
    "\n",
    "BUT WE CAN\n",
    "\n",
    "what we really want is hte probability of all the data given the \"model\"\n",
    "\n",
    "in the linear regression example the LP_i is the mean of the normal distributions based on hte predictors and then we can work out the probability of eachd ata point \n",
    "\n",
    "here instead the LP is fed into the logit function to give the probability of the Xi being 1 and then we can work out the probability \n",
    "\n",
    "Then simply sum these up....\n",
    "\n",
    "$Pr(Y_i = y | X_i) = p_i^y(1-p_i)^{1-y} \\\\\n",
    "where ~p_i = \\dfrac{e^z}{1+e^z}$ \n",
    "\n",
    "\n",
    "## *IN TERMS OF BINOMIAL DATA*\n",
    "\n",
    "described above\n"
   ]
  },
  {
   "attachments": {},
   "cell_type": "markdown",
   "metadata": {},
   "source": [
    "# **PARAMETER ESTIMATION**"
   ]
  },
  {
   "attachments": {},
   "cell_type": "markdown",
   "metadata": {},
   "source": [
    "The parameter are most commonly estiamte using MLE - \n",
    "    this does not have a closed-form expression unlike linear least squares even if regularizers are used\n",
    "\n",
    "\n",
    "    Thus we need to use iterative numerial methods\n",
    "        e.g. iteratively reweighted least sqauares (IRLS) or more commonly a QUASI_NEWTON METHODS such as L_BFGS\n",
    "\n",
    "    \n",
    "\n",
    "to do MLE we need to make some assumptions about the nature of error - we just assume that all the outcomes are bernoulli random variables :)\n",
    "\n",
    "Logistic regresion model:\n",
    "\n",
    "MODEL DOES NOT ALWAYS CONVERGE\n",
    "    - e.g. if complete seperation of \n",
    "    \n",
    "$Pr(Y_i = y | X_i) = p_i^y(1-p_i)^{1-y} \\\\\n",
    "where ~p_i = \\dfrac{e^z}{1+e^z}$ \n",
    "\n",
    "use simple algebra to get\n",
    "\n",
    "$ Pr(Y_i = y | X_i) = \\dfrac{e^{z_iy_i}}{1+e^{z_i}} $\n",
    "\n",
    "Likelihood = joint probability of all events\n",
    "\n",
    "since we assume events are independent this is simple the product of all the individuals\n",
    "\n",
    "$ L(data|X_i) = \\prod \\dfrac{e^{z_iy_i}}{1+e^{z_i}} $\n",
    "\n",
    "\n",
    "# ITERATIVELY REWEIGHTED LEAST SQUARE = EQUIVALENT TO MAXIMIZING THE LOG_LIKELIHOOD OF A BERNOULLI DISTRIBUTED PROCESS USING NEWTON's METHOD - according to wikipedia\n",
    "\n",
    "so that is what we will do...\n",
    "\n",
    "when we take the log likelihood we can split up hte product into a sum\n",
    "\n",
    "$ \\begin{align}\n",
    "l(data|X_i) &= ln(\\prod \\dfrac{e^{z_iy_i}}{1+e^{z_i}}) \\\\\n",
    "&= \\sum ln(\\dfrac{e^{z_iy_i}}{1+e^{z_i}}) \\\\\n",
    "&= \\sum ln(e^{z_iy_i}) - ln({1+e^{z_i}}) \\\\\n",
    "&= \\sum z_iy_i - ln({1+e^{z_i}}) \\\\\n",
    "&= \\sum (b_0 + b_ix_i)y_i - ln({1+e^{b_0 + b_ix_i}})\n",
    "\\end{align}$\n",
    "\n",
    "\n",
    "Now differentiate with respect to b_1\n",
    "\n",
    "$ \\begin{align}\n",
    "dl(data|X_i)/db_1 \n",
    "&= \\sum x_iy_i -  (ln({1+e^{b_0 + b_ix_i}}))d/db_1 \\\\\n",
    "&= \\sum x_iy_i -  \\dfrac { { (1+e^{b_0 + b_ix_i}} )d/db_1 }{1+e^{b_0 + b_ix_i}} \\\\\n",
    "&= \\sum x_iy_i -  \\dfrac { x_ie^{ b_0+b_ix_i }}{1+e^{b_0 + b_ix_i}} \\\\\n",
    "&= \\sum x_i(y_i - \\dfrac { e^{ b_0+b_ix_i } }{1+e^{b_0 + b_ix_i}}) \\\\\n",
    "&= \\sum x_i(y_i - 1 + \\dfrac { 1} {1+e^{b_0 + b_ix_i}})\n",
    "\\end{align}$\n",
    "\n",
    "Double differentiate to get the differential of hte score - to use with newtons algorithm\n",
    "\n",
    "$ \\begin{align}\n",
    "dl(data|X_i)/db_1^{2} \n",
    "&= \\sum - x_i^2 e^{b_0+b_ix_i} \\dfrac {1}{(1+e^{b_0 + b_ix_i})^2}\n",
    "\\end{align}$\n"
   ]
  },
  {
   "attachments": {},
   "cell_type": "markdown",
   "metadata": {},
   "source": [
    "In practice uses IRLS - which utilizes some more advanced linear algebrea\n",
    "\n",
    "\n",
    "Rule of 10"
   ]
  },
  {
   "cell_type": "code",
   "execution_count": 4,
   "metadata": {},
   "outputs": [
    {
     "data": {
      "text/plain": [
       "<matplotlib.collections.PathCollection at 0x1c577959820>"
      ]
     },
     "execution_count": 4,
     "metadata": {},
     "output_type": "execute_result"
    },
    {
     "data": {
      "image/png": "[encoded data removed]",
      "text/plain": [
       "<Figure size 640x480 with 1 Axes>"
      ]
     },
     "metadata": {},
     "output_type": "display_data"
    }
   ],
   "source": [
    "#testing this out in hte univariate case\n",
    "\n",
    "\n",
    "#Creating sample data\n",
    "\n",
    "Y = np.array([0,0,0,1,0,1,1])\n",
    "\n",
    "X = np.array([1,2,4,5,6,8,9])\n",
    "\n",
    "fig = plt.figure()\n",
    "ax = fig.add_subplot()\n",
    "ax.scatter(X,Y)\n",
    "\n",
    "\n"
   ]
  },
  {
   "cell_type": "code",
   "execution_count": 5,
   "metadata": {},
   "outputs": [],
   "source": [
    "#defining log likelihood function to allow interative optimization\n",
    "\n",
    "def score_b1(Y,X,B):\n",
    "    # Y =  array of Y values (outputs)\n",
    "    # X = matrix or array of predictors\n",
    "    # B = array of coefficients\n",
    "\n",
    "    #start with case without interceot\n",
    "    b0 = 0\n",
    "    b1 = B\n",
    "\n",
    "    #i think numpy does shit elementwise but ill do it manually first\n",
    "    output = 0\n",
    "    for yi,xi in zip(Y,X):\n",
    "        #output += xi*yi - ( (xi*np.exp(b0+b1*xi)) / (1 + np.exp( b0 + b1*xi)) )\n",
    "        output += xi * (yi -  np.exp( b0 + b1*xi) / (1 + np.exp( b0 + b1*xi)))  #equivalent form\n",
    "    return output\n",
    "\n",
    "    #can write it out more clever using @ but will save that for later\n",
    "\n",
    "def dscore_db1(Y,X,B):\n",
    "    #differential of score function\n",
    "\n",
    "    #start with case without interceot\n",
    "    b0 = 0\n",
    "    b1 = B\n",
    "\n",
    "    #i think numpy does shit elementwise but ill do it manually first\n",
    "    output = 0\n",
    "    for yi,xi in zip(Y,X):\n",
    "        \n",
    "        output += ( (- xi**2 * np.exp(b0 + b1*xi) ) / (1 + np.exp( b0 + b1*xi))**2)  #equivalent form\n",
    "    return output\n",
    "\n",
    "    return 0\n",
    "    "
   ]
  },
  {
   "cell_type": "code",
   "execution_count": 6,
   "metadata": {},
   "outputs": [
    {
     "name": "stdout",
     "output_type": "stream",
     "text": [
      "-56.75\n",
      "[0.082]\n"
     ]
    },
    {
     "data": {
      "image/png": "[encoded data removed]",
      "text/plain": [
       "<Figure size 640x480 with 1 Axes>"
      ]
     },
     "metadata": {},
     "output_type": "display_data"
    }
   ],
   "source": [
    "#use newtons method to find when score \n",
    "B = np.arange(-0.1,0.15,0.001)\n",
    "\n",
    "score = score_b1(Y,X,B)\n",
    "dscore = dscore_db1(Y,X,0)\n",
    "print(dscore)\n",
    "gradientLine = dscore*B + score_b1(Y,X,0) \n",
    "\n",
    "fig = plt.figure()\n",
    "ax = fig.add_subplot()\n",
    "ax.scatter(B,score)\n",
    "ax.scatter(B,gradientLine)\n",
    "\n",
    "print(B[abs(score) == min(abs(score))])\n"
   ]
  },
  {
   "cell_type": "code",
   "execution_count": 7,
   "metadata": {},
   "outputs": [
    {
     "name": "stdout",
     "output_type": "stream",
     "text": [
      "[0.]\n",
      "[[0.08176402]]\n"
     ]
    },
    {
     "data": {
      "text/plain": [
       "<matplotlib.collections.PathCollection at 0x1c578b0e5b0>"
      ]
     },
     "execution_count": 7,
     "metadata": {},
     "output_type": "execute_result"
    },
    {
     "data": {
      "image/png": "[encoded data removed]",
      "text/plain": [
       "<Figure size 640x480 with 1 Axes>"
      ]
     },
     "metadata": {},
     "output_type": "display_data"
    }
   ],
   "source": [
    "#fitting logistric regression prediction on data\n",
    "B = np.array([0,0.5])\n",
    "b0 = B[0]\n",
    "b1 = B[1]\n",
    "\n",
    "logregfit = sklearn.linear_model.LogisticRegression(penalty = \"none\",   fit_intercept=False)\n",
    "#logregfit = sklearn.linear_model.LogisticRegression(penalty = \"none\")\n",
    "logregfit.fit(X.reshape(-1,1),Y)\n",
    "print(logregfit.intercept_)\n",
    "print(logregfit.coef_)\n",
    "\n",
    "logregfit.predict(np.array([1]).reshape(-1,1))\n",
    "\n",
    "x_test = np.arange(0,10,0.01)\n",
    "y_hat_test = np.exp(b0+b1*x_test)/(1+np.exp(b0+b1*x_test))\n",
    "logreg_pred = logregfit.predict(x_test.reshape(-1,1))\n",
    "\n",
    "\n",
    "plt.scatter(x_test,y_hat_test)\n",
    "#plt.scatter(x_test,logreg_pred)\n",
    "plt.scatter(X,Y)\n"
   ]
  },
  {
   "attachments": {},
   "cell_type": "markdown",
   "metadata": {},
   "source": [
    "logistic regression is hte maximum entropy soluiton\n",
    "\n",
    "proof on wikipedia - using lagrande multipliers"
   ]
  },
  {
   "attachments": {},
   "cell_type": "markdown",
   "metadata": {},
   "source": [
    "# Intercept\n",
    "\n",
    "now we differentiate with respect to b_0\n",
    "\n",
    "can differentiate inside the sum \n",
    "\n",
    "$ \\begin{align}\n",
    "dl(data|X_i)/db_0 \n",
    "&= \\sum y_i -  (ln({1+e^{b_0 + b_ix_i}}))d/db_0 \\\\\n",
    "&= \\sum y_i -  \\dfrac { { (1+e^{b_0 + b_ix_i}} )d/db_0 }{1+e^{b_0 + b_ix_i}} \\\\\n",
    "&= \\sum y_i -  \\dfrac { e^{b_0 + b_ix_i} }{1+e^{b_0 + b_ix_i}}\n",
    "\\end{align}$"
   ]
  },
  {
   "attachments": {},
   "cell_type": "markdown",
   "metadata": {},
   "source": [
    "# Testing calibration\n"
   ]
  }
 ],
 "metadata": {
  "kernelspec": {
   "display_name": "Python 3.9.7 ('base')",
   "language": "python",
   "name": "python3"
  },
  "language_info": {
   "codemirror_mode": {
    "name": "ipython",
    "version": 3
   },
   "file_extension": ".py",
   "mimetype": "text/x-python",
   "name": "python",
   "nbconvert_exporter": "python",
   "pygments_lexer": "ipython3",
   "version": "3.9.15"
  },
  "orig_nbformat": 4,
  "vscode": {
   "interpreter": {
    "hash": "86ced299d573a58fc1d464bd2f917835a691b9d9cefee14c59fce60008360703"
   }
  }
 },
 "nbformat": 4,
 "nbformat_minor": 2
}
