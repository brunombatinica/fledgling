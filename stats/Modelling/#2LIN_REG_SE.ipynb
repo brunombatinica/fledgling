{
 "cells": [
  {
   "cell_type": "code",
   "execution_count": null,
   "metadata": {},
   "outputs": [],
   "source": [
    "import numpy as np\n",
    "import matplotlib as mpl\n",
    "import matplotlib.pyplot as plt\n",
    "import statistics\n",
    "import scipy.special\n",
    "import seaborn as sns\n",
    "import pandas as pd\n",
    "import requests\n",
    "import PIL\n",
    "import scipy.stats\n",
    "import sklearn.linear_model"
   ]
  },
  {
   "cell_type": "markdown",
   "metadata": {},
   "source": [
    "# *Extension of previous workbook*\n"
   ]
  },
  {
   "cell_type": "markdown",
   "metadata": {},
   "source": [
    "# **STANDARD ERRORS OF LINEAR REGRESSION**"
   ]
  },
  {
   "cell_type": "markdown",
   "metadata": {},
   "source": [
    "https://stats.stackexchange.com/questions/44838/how-are-the-standard-errors-of-coefficients-calculated-in-a-regression\n",
    "\n"
   ]
  },
  {
   "cell_type": "code",
   "execution_count": 1,
   "metadata": {},
   "outputs": [
    {
     "ename": "NameError",
     "evalue": "name 'np' is not defined",
     "output_type": "error",
     "traceback": [
      "\u001b[1;31m---------------------------------------------------------------------------\u001b[0m",
      "\u001b[1;31mNameError\u001b[0m                                 Traceback (most recent call last)",
      "\u001b[1;32m~\\AppData\\Local\\Temp/ipykernel_19152/1544531045.py\u001b[0m in \u001b[0;36m<module>\u001b[1;34m\u001b[0m\n\u001b[0;32m      7\u001b[0m \u001b[1;31m# y_train = np.array([np.random.randint(*ylim, size = 10)]).T\u001b[0m\u001b[1;33m\u001b[0m\u001b[1;33m\u001b[0m\u001b[0m\n\u001b[0;32m      8\u001b[0m \u001b[1;33m\u001b[0m\u001b[0m\n\u001b[1;32m----> 9\u001b[1;33m x_train = np.array([ # two independent variables\n\u001b[0m\u001b[0;32m     10\u001b[0m     \u001b[1;33m[\u001b[0m\u001b[1;36m1\u001b[0m\u001b[1;33m,\u001b[0m\u001b[1;33m-\u001b[0m\u001b[1;36m2\u001b[0m\u001b[1;33m]\u001b[0m\u001b[1;33m,\u001b[0m\u001b[1;33m\u001b[0m\u001b[1;33m\u001b[0m\u001b[0m\n\u001b[0;32m     11\u001b[0m     \u001b[1;33m[\u001b[0m\u001b[1;36m2\u001b[0m\u001b[1;33m,\u001b[0m\u001b[1;36m1\u001b[0m\u001b[1;33m]\u001b[0m\u001b[1;33m,\u001b[0m\u001b[1;33m\u001b[0m\u001b[1;33m\u001b[0m\u001b[0m\n",
      "\u001b[1;31mNameError\u001b[0m: name 'np' is not defined"
     ]
    }
   ],
   "source": [
    "\n",
    "xlim = (0,10)\n",
    "ylim = (-20,10)\n",
    "    \n",
    "#create training data\n",
    "# random.seed(5)\n",
    "# x_train = np.array([np.random.randint(*xlim, size = 10)]).T\n",
    "# y_train = np.array([np.random.randint(*ylim, size = 10)]).T\n",
    "\n",
    "x_train = np.array([ # two independent variables\n",
    "    [1,-2],\n",
    "    [2,1],\n",
    "    [4,1],\n",
    "    [5,-3],\n",
    "    [6,4],\n",
    "    [7,5]\n",
    "])\n",
    "\n",
    "y_train = np.array([ \n",
    "    [14],\n",
    "    [-12],\n",
    "    [-31],\n",
    "    [-21],\n",
    "    [-51],\n",
    "    [-37]\n",
    "])\n",
    "\n",
    "\n",
    "\n",
    "#analytic\n",
    "X = np.append(x_train,\n",
    "              np.array([np.ones(x_train.shape[0])]).T\n",
    "              ,axis = 1)\n",
    "Y = y_train\n",
    "\n",
    "B = np.linalg.inv(X.T@X)@X.T@Y\n",
    "print(\"Coefficients:\",B)\n",
    "\n",
    "sigma2 = sum( ( Y - X@B) ** 2 / (X.shape[0]-X.shape[1]) ) #unbiased estimate of sigma Y (depends on DOF OF MODEL!)\n",
    "\n",
    "VarCovar = sigma2 * np.linalg.inv(X.T @ X)\n",
    "print(VarCovar)\n",
    "\n",
    "#Print sqrt diagonals of covariance matrix\n",
    "for i in range(3):\n",
    "    print(VarCovar[i,i] ** 0.5)\n",
    "#print(\"SE:\",np.sqrt(var))\n",
    "\n",
    "\n",
    "\n",
    "\n",
    "#actaul MLR\n",
    "reg = sm.OLS(y_train,X)\n",
    "reg_result = reg.fit()\n",
    "print(reg_result.summary())\n",
    "\n",
    "\n",
    "\n",
    "\n",
    "\n",
    "\n",
    "\n",
    "    \n",
    "    \n",
    "        "
   ]
  }
 ],
 "metadata": {
  "kernelspec": {
   "display_name": "Python 3.9.7 ('base')",
   "language": "python",
   "name": "python3"
  },
  "language_info": {
   "codemirror_mode": {
    "name": "ipython",
    "version": 3
   },
   "file_extension": ".py",
   "mimetype": "text/x-python",
   "name": "python",
   "nbconvert_exporter": "python",
   "pygments_lexer": "ipython3",
   "version": "3.9.7 (default, Sep 16 2021, 16:59:28) [MSC v.1916 64 bit (AMD64)]"
  },
  "orig_nbformat": 4,
  "vscode": {
   "interpreter": {
    "hash": "86ced299d573a58fc1d464bd2f917835a691b9d9cefee14c59fce60008360703"
   }
  }
 },
 "nbformat": 4,
 "nbformat_minor": 2
}
