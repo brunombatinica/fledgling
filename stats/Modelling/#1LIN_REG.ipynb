{
 "cells": [
  {
   "cell_type": "code",
   "execution_count": 3,
   "metadata": {},
   "outputs": [],
   "source": [
    "import numpy as np\n",
    "import matplotlib as mpl\n",
    "import matplotlib.pyplot as plt\n",
    "import statistics\n",
    "import scipy.special\n",
    "import seaborn as sns\n",
    "import pandas as pd\n",
    "import requests\n",
    "import PIL\n",
    "import scipy.stats\n",
    "import sklearn.linear_model"
   ]
  },
  {
   "cell_type": "markdown",
   "metadata": {},
   "source": [
    "# *Notebook exploring all things linear regression*\n"
   ]
  },
  {
   "cell_type": "markdown",
   "metadata": {},
   "source": [
    "# **1. Background on LEAST SQUARES AND MLE**\n"
   ]
  },
  {
   "cell_type": "markdown",
   "metadata": {},
   "source": [
    " trained to minimise least squares - which is the equivalent of maximizing likelihood if we assume i.i.d normally distributed errors\n",
    "\n",
    "$ f(x,\\mu,\\sigma) = = \\dfrac{1}{\\sigma \\sqrt{2\\pi}} e^{ -\\dfrac{1}{2} (\\dfrac{x - \\mu}{\\sigma})^2 } $\n",
    "\n",
    "1. Imagine $\\hat{y_i}$ (our model estimate) is the mean of a normal distirbution (with this distribution representing i.i.d normal errors) \n",
    "2. Now we can work out the likelihood of the observations given the model\n",
    "\n",
    "$ L(\\hat{Y},Y) = \\prod_i \\dfrac{1}{\\sigma \\sqrt{2\\pi}} e^{ -\\dfrac{1}{2} (\\dfrac{\\hat{y_i} - y_i}{\\sigma})^2 } $\n",
    "\n",
    "$ l(\\hat{Y},Y) = l(x,\\mu,\\sigma) = \\sum_i -ln(\\sigma \\sqrt{2\\pi}) -  {\\dfrac{1}{2} (\\dfrac{x - \\mu}{\\sigma})^2 } $\n",
    "\n",
    "front term sigma does not change so MLE comes from minimizing\n",
    "\n",
    "$ \\dfrac{\\sigma^2}{2} \\sum_i { (x - \\mu)^2 }$\n",
    "\n",
    "### **LITERALLY MINIMIZING THE SUM OF SQUARES**\n",
    "\n",
    "\n",
    "*Interestingly wikipedia says its came hte other way round and hte normal distribution cam about by thinking what distribution would result in LS as its MLE*\n"
   ]
  },
  {
   "cell_type": "markdown",
   "metadata": {},
   "source": [
    "# **2. Application to linear regression**"
   ]
  },
  {
   "cell_type": "markdown",
   "metadata": {},
   "source": [
    "\n",
    "linear prediction predicts on a linear scale (e.g. univariate case...)\n",
    "\n",
    "$ \\hat{Y} = BX $\n",
    "\n",
    "$\\hat{y_i} = b_1x_i + b_0$\n",
    "\n",
    "likelihood = \n",
    "\n",
    "\n",
    "# *??? CAN WORK OUT FOR JUST bi AND ALSO bi+b0 (jusr requires setting a multivariable likelihood and finding global mimum) - IS A MINIMUM FOR BOTH GARUENTEED TO EXIST - HMMMMMMMMM INTERESTING QUESTION _ HOW CAN WE BE SURE THAT A POINT EXISTS x,y where f'x and f'y are both 0*\n",
    "\n",
    "#start with just estimating b1 (fixing b0 to be 0)\n",
    "\n",
    "$ l(b_i) =  \\sum_i -ln(\\sigma \\sqrt{2\\pi}) -  {\\dfrac{1}{2} (\\dfrac{y_i - b_1x_i}{\\sigma})^2 } $\n",
    "\n",
    "moving constants outside of the sum\n",
    "\n",
    "$ l(b_i) = -nln(\\sigma \\sqrt{2\\pi}) - \\dfrac{n}{2\\sigma^2} \\sum_i  { (y_i - b_1x_i)^2 } $\n",
    "\n",
    "Maximum likelihood estimate = argmax with repect with respect to bi\n",
    "\n",
    "usign the score funciton (derivative with respect to b1) to analytically calculate b_1 - this \n",
    "is not always possible\n",
    "\n",
    "$ S(b_i) = \\dfrac{n}{2\\sigma^2} \\sum_i  { 2x_i(y_i - b_1x_i) } $  \n",
    "\n",
    "minimum when score = 0 \n",
    "\n",
    "$ 0 = \\dfrac{n}{2\\sigma^2} \\sum_i  { 2x_i(y_i - b_1x_i) }$\n",
    "\n",
    "$ 0 =  \\sum_i  { 2x_i(y_i - b_1x_i) } $\n",
    "\n",
    "### ?at this step we can find an analytical solution using a little bit of linear algebra or solve this numerically using gradient descent"
   ]
  },
  {
   "cell_type": "markdown",
   "metadata": {},
   "source": [
    "### Analytic method\n",
    "\n",
    "$ 0 =  \\sum_i  { 2x_i(y_i - b_1x_i) } $\n",
    "\n",
    "$ 0 =  \\sum_i  ({ 2x_iy_i - 2b_1x_i^2}) $\n",
    "\n",
    "\n",
    "$ \\sum_i 2b_1x_i^2 =  \\sum_i 2x_iy_i  $\n",
    "\n",
    "$ b1 \\sum_i 2x_i^2 =  \\sum_i 2x_iy_i  $\n",
    "\n",
    "$ b1 =  \\dfrac{\\sum_i x_iy_i}{\\sum_i x_i^2}   $\n",
    "\n",
    "SIDENOTE: this is not the correlation coefficient hahahah"
   ]
  },
  {
   "cell_type": "code",
   "execution_count": 4,
   "metadata": {},
   "outputs": [
    {
     "name": "stdout",
     "output_type": "stream",
     "text": [
      "0.9292929292929293\n",
      "[[0.92929293]]\n"
     ]
    },
    {
     "data": {
      "text/plain": [
       "[<matplotlib.lines.Line2D at 0x1803d6d1a60>]"
      ]
     },
     "execution_count": 4,
     "metadata": {},
     "output_type": "execute_result"
    },
    {
     "data": {
      "image/png": "[encoded data removed]",
      "text/plain": [
       "<Figure size 432x288 with 1 Axes>"
      ]
     },
     "metadata": {
      "needs_background": "light"
     },
     "output_type": "display_data"
    }
   ],
   "source": [
    "#Analytic method\n",
    "\n",
    "x = np.array([1,4,6,8,9])\n",
    "y = np.array([3,5,4,7,9])\n",
    "\n",
    "b1 = sum(x*y) / sum(x**2)\n",
    "print(b1)\n",
    "\n",
    "X = np.linspace(0,10,100)\n",
    "yhat = X*b1\n",
    "\n",
    "\n",
    "#equivalence\n",
    "model = sklearn.linear_model.LinearRegression(fit_intercept = False)\n",
    "model.fit(x.reshape(-1,1),y.reshape(-1,1))\n",
    "print(model.coef_)\n",
    "\n",
    "\n",
    "\n",
    "fig = plt.figure()\n",
    "ax = fig.add_subplot()\n",
    "ax.set_xlim(0,10)\n",
    "ax.set_ylim(0,10)\n",
    "ax.scatter(x,y)\n",
    "ax.plot(X,yhat)\n"
   ]
  },
  {
   "cell_type": "markdown",
   "metadata": {},
   "source": [
    "### Gradient descent\n",
    "\n",
    "Even if we cannot solve score for B we can use it to calculate the gradient for a given (b) and then update b based on this gradient\n",
    "\n",
    "Recall\n",
    "\n",
    "$ l(b_i) = -nln(\\sigma \\sqrt{2\\pi}) - \\dfrac{n}{2\\sigma^2} \\sum_i  { (y_i - b_1x_i)^2 } $\n",
    "\n",
    "$ S(b_i) = \\dfrac{n}{2\\sigma^2} \\sum_i  { 2x_i(y_i - b_1x_i) } $  \n",
    "\n",
    "Again we can remove all the positive contant terms as we will scale hte gradient by our own learning rate anyway (lambda)\n",
    "\n",
    "$ S(b_i) = \\sum_i  { x_i(y_i - b_1x_i) } $  \n",
    "\n",
    "Gradient step = \n",
    "\n",
    "$ step = \\lambda  \\sum_i  { x_i(y_i - b_1x_i) } $\n",
    "\n"
   ]
  },
  {
   "cell_type": "code",
   "execution_count": 5,
   "metadata": {},
   "outputs": [
    {
     "name": "stdout",
     "output_type": "stream",
     "text": [
      "step: 0.184\n",
      "step: 0.147568\n",
      "step: 0.11834953600000002\n",
      "step: 0.09491632787200001\n",
      "step: 0.07612289495334398\n",
      "step: 0.061050561752581875\n",
      "step: 0.04896255052557068\n",
      "step: 0.03926796552150768\n",
      "step: 0.031492908348249166\n",
      "step: 0.025257312495295833\n",
      "estiamte after 10 epochs: 0.8269880574685492\n",
      "true coefficient: 0.9292929292929297\n"
     ]
    },
    {
     "data": {
      "image/png": "[encoded data removed]",
      "text/plain": [
       "<Figure size 432x288 with 1 Axes>"
      ]
     },
     "metadata": {
      "needs_background": "light"
     },
     "output_type": "display_data"
    },
    {
     "data": {
      "image/png": "[encoded data removed]",
      "text/plain": [
       "<Figure size 432x288 with 1 Axes>"
      ]
     },
     "metadata": {
      "needs_background": "light"
     },
     "output_type": "display_data"
    }
   ],
   "source": [
    "# gradient descent\n",
    "x = np.array([1,4,6,8,9])\n",
    "y = np.array([3,5,4,7,9])\n",
    "\n",
    "l = 0.001\n",
    "\n",
    "binitial = 0\n",
    "blist = [binitial]\n",
    "#training based on number of epochs\n",
    "epochs = 10\n",
    "for i in range(epochs):\n",
    "    score = sum(x*(y-blist[-1]*x))\n",
    "    blist.append( blist[-1] + l * score )\n",
    "\n",
    "    print(\"step: %r\" % (l*score))\n",
    "\n",
    "#this is the gradient with respect to b hence why we can use it directly to step with b\n",
    "\n",
    "print(\"estiamte after %r epochs: %r\" % (epochs,blist[-1]))\n",
    "\n",
    "#equivalence\n",
    "model = sklearn.linear_model.LinearRegression(fit_intercept = False)\n",
    "model.fit(x.reshape(-1,1),y.reshape(-1,1))\n",
    "print(\"true coefficient: %r\" % model.coef_[0][0])\n",
    "\n",
    "#plotting convergence\n",
    "fig = plt.figure()\n",
    "ax = fig.add_subplot(2,1,1)\n",
    "ax.scatter([i for i in range(len(blist))],blist)\n",
    "\n",
    "#if lambda is too large it doesnt converge\n",
    "#printing loss funciton as a funciton of b1\n",
    "#to examine this point\n",
    "\n",
    "B = np.linspace(-1,1)\n",
    "logl = [ sum((y-b*x)**2) for b in B]\n",
    "fig = plt.figure()\n",
    "ax = fig.add_subplot(2,1,2)\n",
    "ax.scatter(B,logl)\n",
    "for i in blist:\n",
    "    ax.axvline(x = i)\n",
    "\n",
    "#if lambda is too large - the funciton jumps higher up the other side of the log likelihood\n",
    "# shooting high either side \n",
    "# very interesting divergence pattern\n"
   ]
  },
  {
   "cell_type": "markdown",
   "metadata": {},
   "source": [
    "### adding in the intercept and other predictors\n",
    "\n",
    "Startign with the intercept b0\n",
    "\n",
    "$ l(b_i) = -nln(\\sigma \\sqrt{2\\pi}) - \\dfrac{n}{2\\sigma^2} \\sum_i  { (y_i - b_1x_i)^2 } $\n",
    "\n",
    "$ S(b_i) = \\dfrac{n}{2\\sigma^2} \\sum_i  { 2x_i(y_i - b_1x_i) } $  \n",
    "\n",
    "becomes\n",
    "\n",
    "\n",
    "$ l(b_i) = -nln(\\sigma \\sqrt{2\\pi}) - \\dfrac{n}{2\\sigma^2} \\sum_i  { (y_i - b_1x_i+b_0)^2 } $\n",
    "\n",
    "$ S(b_i) \\sim \\sum_i  { x_i(y_i - (b_1x_i + b_0)) } $ \n",
    "\n",
    "$ S(b_0) \\sim  \\sum_i  { (y_i - (b_1x_i + b_0)) } $ "
   ]
  },
  {
   "cell_type": "markdown",
   "metadata": {},
   "source": [
    "### **Analytic solution**\n",
    "\n",
    "$ 0 = \\sum_i  { x_i(y_i - (b_1x_i + b_0)) } $ \n",
    "\n",
    "$ 0 = \\sum_i  { (y_i - (b_1x_i + b_0)) } $\n",
    "\n",
    "this is a set of linear equations with respect to b1 and b0\n",
    "\n",
    "$ 0 = \\sum_i   x_iy_i - \\sum_i  b_1x_i^2 - \\sum_i  b_0x_i   $ \n",
    "\n",
    "$ 0 = \\sum_i  y_i - \\sum_i  b_1x_i -  \\sum_i b_0  $\n",
    "\n",
    "further simplifying\n",
    "\n",
    "$ 0 = \\sum_i   x_iy_i - b_1 \\sum_i  x_i^2 - b_0 \\sum_i x_i   $ \n",
    "\n",
    "$ 0 = \\sum_i  y_i - b_1 \\sum_i  x_i -  b_0n  $\n",
    "\n",
    "let $ B = \n",
    "\\begin{bmatrix}\n",
    "b_1 \\\\\n",
    "b_0 \\\\\n",
    "\\end{bmatrix} $\n",
    "\n",
    "let $ A = \n",
    "\\begin{bmatrix} \n",
    "\\sum_i  x_i^2 & \\sum_i x_i \\\\\n",
    "\\sum_i x_i & n \\\\\n",
    "\\end{bmatrix} $\n",
    "\n",
    "let $ Y = \n",
    "\\begin{bmatrix}\n",
    "\\sum_i   x_iy_i \\\\\n",
    "\\sum_i   y_i \\\\\n",
    "\\end{bmatrix} $\n",
    "\n",
    "$ AB = Y $\n",
    "\n",
    "**NOTE A IS CONSTANT WITH RESPECT TO B SO IT IS JUST A MATRIX OF NUMBERS**\n",
    "\n",
    "$ B = A^{-1}Y $\n",
    "\n",
    "$ A^{-1} $ can be easily found via gaussian elimination \n",
    "\n",
    "#generalization of Newton's method of multiplicative inverse algorithm????\n"
   ]
  },
  {
   "cell_type": "code",
   "execution_count": 6,
   "metadata": {},
   "outputs": [
    {
     "name": "stdout",
     "output_type": "stream",
     "text": [
      "[[0.66019417]\n",
      " [1.90291262]]\n",
      "[[0.66019417]] [1.90291262]\n"
     ]
    },
    {
     "data": {
      "text/plain": [
       "[<matplotlib.lines.Line2D at 0x1803d8cbee0>]"
      ]
     },
     "execution_count": 6,
     "metadata": {},
     "output_type": "execute_result"
    },
    {
     "data": {
      "image/png": "[encoded data removed]",
      "text/plain": [
       "<Figure size 432x288 with 1 Axes>"
      ]
     },
     "metadata": {
      "needs_background": "light"
     },
     "output_type": "display_data"
    }
   ],
   "source": [
    "#Analytic method\n",
    "\n",
    "x = np.array([1,4,6,8,9])\n",
    "y = np.array([3,5,4,7,9])\n",
    "\n",
    "A = np.array([[sum(x**2),sum(x)],[sum(x),len(x)]])\n",
    "Y = np.array([[sum(x*y)],[sum(y)]])\n",
    "\n",
    "B = np.linalg.inv(A)@Y\n",
    "print(B)\n",
    "\n",
    "\n",
    "X = np.linspace(0,10,100)\n",
    "yhat = X*B[0]+B[1]\n",
    "\n",
    "#equivalence\n",
    "model = sklearn.linear_model.LinearRegression()\n",
    "model.fit(x.reshape(-1,1),y.reshape(-1,1))\n",
    "print(model.coef_,model.intercept_)\n",
    "\n",
    "fig = plt.figure()\n",
    "ax = fig.add_subplot()\n",
    "ax.set_xlim(0,10)\n",
    "ax.set_ylim(0,10)\n",
    "ax.scatter(x,y)\n",
    "ax.plot(X,yhat)\n",
    "\n"
   ]
  },
  {
   "cell_type": "markdown",
   "metadata": {},
   "source": [
    "### using gradient descent\n",
    "\n",
    "exact same thing as before just updating both \n",
    "\n",
    "$ l(b_i) = -nln(\\sigma \\sqrt{2\\pi}) - \\dfrac{n}{2\\sigma^2} \\sum_i  { (y_i - b_1x_i -b_0)^2 } $\n",
    "\n",
    "\n",
    "Gradient step = \n",
    "\n",
    "$ step(b_i) = \\lambda  \\sum_i  { x_i(y_i - b_1x_i - b_0) } $\n",
    "\n",
    "$ step(b_i) = \\lambda  \\sum_i  {(y_i - b_1x_i - b_0) } $\n",
    "\n"
   ]
  },
  {
   "cell_type": "code",
   "execution_count": 7,
   "metadata": {},
   "outputs": [
    {
     "name": "stdout",
     "output_type": "stream",
     "text": [
      "estiamte after 10000 epochs: b1 = 0.6602035043468575 , b0 = 1.902846987664058\n",
      "true coefficient: b1 = 0.6601941747572816, b0 = array([1.90291262])\n"
     ]
    },
    {
     "data": {
      "image/png": "[encoded data removed]",
      "text/plain": [
       "<Figure size 432x288 with 1 Axes>"
      ]
     },
     "metadata": {
      "needs_background": "light"
     },
     "output_type": "display_data"
    },
    {
     "data": {
      "image/png": "[encoded data removed]",
      "text/plain": [
       "<Figure size 432x288 with 1 Axes>"
      ]
     },
     "metadata": {
      "needs_background": "light"
     },
     "output_type": "display_data"
    }
   ],
   "source": [
    "# gradient descent\n",
    "x = np.array([1,4,6,8,9])\n",
    "y = np.array([3,5,4,7,9])\n",
    "\n",
    "l = 0.001\n",
    "\n",
    "b1 = 0\n",
    "b0 = 0\n",
    "b1list = [b1]\n",
    "b0list = [b0]\n",
    "\n",
    "#training based on number of epochs\n",
    "epochs = 10000\n",
    "for i in range(epochs):\n",
    "    scoreb1 = sum(x*(y-b1list[-1]*x-b0list[-1]))\n",
    "    scoreb0 = sum((y-b1list[-1]*x-b0list[-1]))\n",
    "    b1list.append( b1list[-1] + l * scoreb1 )\n",
    "    b0list.append( b0list[-1] + l * scoreb0 )\n",
    "\n",
    "    #print(\"step b1: %r\" % (l*scoreb1))\n",
    "    #print(\"step b0: %r\" % (l*scoreb0))\n",
    "\n",
    "#this is the gradient with respect to b hence why we can use it directly to step with b\n",
    "\n",
    "print(\"estiamte after %r epochs: b1 = %r , b0 = %r\" % (epochs,b1list[-1],b0list[-1]))\n",
    "\n",
    "#equivalence\n",
    "model = sklearn.linear_model.LinearRegression()\n",
    "model.fit(x.reshape(-1,1),y.reshape(-1,1))\n",
    "print(\"true coefficient: b1 = %r, b0 = %r\" % (model.coef_[0][0],model.intercept_))\n",
    "\n",
    "#plotting convergence\n",
    "fig = plt.figure()\n",
    "ax = fig.add_subplot(2,1,1)\n",
    "ax.scatter([i for i in range(len(b1list))],b1list)\n",
    "ax.scatter([i for i in range(len(b0list))],b0list)\n",
    "\n",
    "#if lambda is too large it doesnt converge\n",
    "#printing loss funciton as a funciton of b1\n",
    "#to examine this point\n",
    "\n",
    "B = np.linspace(-1,1)\n",
    "logl = [ sum((y-b*x)**2) for b in B]\n",
    "fig = plt.figure()\n",
    "ax = fig.add_subplot(2,1,2)\n",
    "ax.scatter(B,logl)\n",
    "for i in b1list:\n",
    "    ax.axvline(x = i)\n",
    "\n",
    "# very interesting pattern of convergence! starting with b1 = 0 b0 = 0 and lambda = 0.001\n",
    "\n",
    "#it also takes a lot longer to converge!"
   ]
  },
  {
   "cell_type": "markdown",
   "metadata": {},
   "source": [
    "### Newton raphson alteration"
   ]
  },
  {
   "cell_type": "code",
   "execution_count": 8,
   "metadata": {},
   "outputs": [],
   "source": [
    "#newton raphson alteration....\n",
    "\n"
   ]
  }
 ],
 "metadata": {
  "kernelspec": {
   "display_name": "Python 3.9.7 ('base')",
   "language": "python",
   "name": "python3"
  },
  "language_info": {
   "codemirror_mode": {
    "name": "ipython",
    "version": 3
   },
   "file_extension": ".py",
   "mimetype": "text/x-python",
   "name": "python",
   "nbconvert_exporter": "python",
   "pygments_lexer": "ipython3",
   "version": "3.9.15"
  },
  "orig_nbformat": 4,
  "vscode": {
   "interpreter": {
    "hash": "86ced299d573a58fc1d464bd2f917835a691b9d9cefee14c59fce60008360703"
   }
  }
 },
 "nbformat": 4,
 "nbformat_minor": 2
}
