{
 "cells": [
  {
   "cell_type": "markdown",
   "id": "970c2b41",
   "metadata": {},
   "source": [
    "from keras.datasets import mnist\n",
    "import matplotlib as mpl\n",
    "from matplotlib import pyplot as plt\n",
    "import numpy as np\n",
    "\n"
   ]
  },
  {
   "cell_type": "code",
   "execution_count": null,
   "id": "d1460029",
   "metadata": {},
   "outputs": [],
   "source": [
    "#Loading in the MNIST dataset\n",
    "(X, Y), (test_x, test_y) = mnist.load_data()"
   ]
  },
  {
   "cell_type": "code",
   "execution_count": null,
   "id": "b82b67c3",
   "metadata": {},
   "outputs": [],
   "source": [
    "#Convolution functions\n",
    "def kernelconvolution(image,kernel):\n",
    "    idim = image.shape\n",
    "    kdim = kernel.shape\n",
    "    output = np.array([[]])\n",
    "    \n",
    "    for i in range(idim[0]-kdim[0]):\n",
    "        \n",
    "        column = np.array([[]])\n",
    "        for j in range(idim[1]-kdim[1]):\n",
    "            \n",
    "            temp = image[i:i+kdim[0],j:j+kdim[1]]\n",
    "\n",
    "\n",
    "def convolve(image,kernel):\n",
    "    #image and kernel need to be the same size\n",
    "    im = image.flatten()\n",
    "    ke = kernel.flatten()\n",
    "    \n",
    "    output = 0\n",
    "    for i,j in zip(im,ke):\n",
    "        output += i*j\n",
    "        \n",
    "    if sum(ke) != 0:\n",
    "        output = output/sum(ke)\n",
    "    \n",
    "    return output #normalizes result\n",
    "\n",
    "def kernelconvolution(image,kernel):\n",
    "    idim = image.shape\n",
    "    kdim = kernel.shape\n",
    "    \n",
    "    xd = idim[0]-kdim[0]\n",
    "    yd = idim[1]-kdim[1]\n",
    "    \n",
    "    output = np.zeros((xd,yd))\n",
    "        \n",
    "    for i in range(xd):     \n",
    "        for j in range(yd):\n",
    "            \n",
    "            temp = image[i:i+kdim[0],j:j+kdim[1]]\n",
    "            c = convolve(temp,kernel)\n",
    "            output[i,j] = c\n",
    "\n",
    "    return output\n",
    "\n",
    "def sobbel(image,edgex,edgey):\n",
    "    outx = kernelconvolution(image,edgex)\n",
    "    outy = kernelconvolution(image,edgey)\n",
    "    out = (outx**2 + outy**2)**0.5\n",
    "    \n",
    "    return out\n",
    "            "
   ]
  },
  {
   "cell_type": "code",
   "execution_count": null,
   "id": "587ced75",
   "metadata": {},
   "outputs": [],
   "source": [
    "#plotting \n",
    "i = range(28) \n",
    "j = range(28,0,-1)\n",
    "I,J = np.meshgrid(i,j)\n",
    "\n",
    "fig = plt.figure(figsize = (2.8,2.8))\n",
    "ax0 = plt.subplot()\n",
    "\n",
    "image = X[6]/255\n",
    "#manually input kernel \n",
    "vert = np.array([[0,1,0],[0,1,0],[0,1,0]])\n",
    "gauss = np.array([[1,2,1],[2,4,2],[1,2,1]])\n",
    "edgex = np.array([[-1,0,1],[-2,0,2],[-1,0,1]])\n",
    "edgey = np.array([[1,2,1],[0,0,0],[-1,-2,-1]])\n",
    "kernel = gauss\n",
    "\n",
    "#image = kernelconvolution(image,gauss)\n",
    "\n",
    "\n",
    "\n",
    "#number of transformations\n",
    "t = 0\n",
    "\n",
    "for i in range(t):\n",
    "    image = kernelconvolution(image,kernel)\n",
    "\n",
    "\n",
    "ax0.imshow(image)\n"
   ]
  }
 ],
 "metadata": {
  "kernelspec": {
   "display_name": "Python 3 (ipykernel)",
   "language": "python",
   "name": "python3"
  },
  "language_info": {
   "codemirror_mode": {
    "name": "ipython",
    "version": 3
   },
   "file_extension": ".py",
   "mimetype": "text/x-python",
   "name": "python",
   "nbconvert_exporter": "python",
   "pygments_lexer": "ipython3",
   "version": "3.9.7"
  }
 },
 "nbformat": 4,
 "nbformat_minor": 5
}
