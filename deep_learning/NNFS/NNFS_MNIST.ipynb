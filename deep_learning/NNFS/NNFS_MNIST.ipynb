{
 "cells": [
  {
   "cell_type": "code",
   "execution_count": 1,
   "id": "420a0069",
   "metadata": {},
   "outputs": [],
   "source": [
    "from keras.datasets import mnist\n",
    "import matplotlib as mpl\n",
    "from matplotlib import pyplot as plt\n",
    "import numpy as np"
   ]
  },
  {
   "cell_type": "code",
   "execution_count": 2,
   "id": "b144b94d",
   "metadata": {},
   "outputs": [],
   "source": [
    "#Convolution functions\n",
    "def kernelconvolution(image,kernel):\n",
    "    idim = image.shape\n",
    "    kdim = kernel.shape\n",
    "    output = np.array([[]])\n",
    "    \n",
    "    for i in range(idim[0]-kdim[0]):\n",
    "        \n",
    "        column = np.array([[]])\n",
    "        for j in range(idim[1]-kdim[1]):\n",
    "            \n",
    "            temp = image[i:i+kdim[0],j:j+kdim[1]]\n",
    "\n",
    "\n",
    "def convolve(image,kernel):\n",
    "    #image and kernel need to be the same size\n",
    "    im = image.flatten()\n",
    "    ke = kernel.flatten()\n",
    "    \n",
    "    output = 0\n",
    "    for i,j in zip(im,ke):\n",
    "        output += i*j\n",
    "        \n",
    "    if sum(ke) != 0:\n",
    "        output = output/sum(ke)\n",
    "    \n",
    "    return output #normalizes result\n",
    "\n",
    "def kernelconvolution(image,kernel):\n",
    "    idim = image.shape\n",
    "    kdim = kernel.shape\n",
    "    \n",
    "    xd = idim[0]-kdim[0]\n",
    "    yd = idim[1]-kdim[1]\n",
    "    \n",
    "    output = np.zeros((xd,yd))\n",
    "        \n",
    "    for i in range(xd):     \n",
    "        for j in range(yd):\n",
    "            \n",
    "            temp = image[i:i+kdim[0],j:j+kdim[1]]\n",
    "            c = convolve(temp,kernel)\n",
    "            output[i,j] = c\n",
    "\n",
    "    return output\n",
    "\n",
    "def sobbel(image,edgex,edgey):\n",
    "    outx = kernelconvolution(image,edgex)\n",
    "    outy = kernelconvolution(image,edgey)\n",
    "    out = (outx**2 + outy**2)**0.5\n",
    "    \n",
    "    return out\n",
    "            "
   ]
  },
  {
   "cell_type": "code",
   "execution_count": 3,
   "id": "95842e54",
   "metadata": {},
   "outputs": [],
   "source": [
    "#Layer classes\n",
    "class Layer_Dense(object):\n",
    "    def __init__(self, n_inputs, n_neurons):\n",
    "    \n",
    "        self.weights = 0.1 * np.random.randn(n_inputs, n_neurons) #randn = gauss at 0\n",
    "        self.biases = np.zeros((1, n_neurons))\n",
    "        \n",
    "        #could automate this by simply passing in inputs and neural network initializing itself....\n",
    "        \n",
    "        \n",
    "\n",
    "    def forward(self, inputs):\n",
    "        #takes inputs and returns the outputs of the layer in the same form\n",
    "        \n",
    "        # #could check shape of inputs\n",
    "        # if inputs.shape[1] not self.weights.shape[0]:\n",
    "        #     return(\"incorrect dimensions of input\")\n",
    "        \n",
    "        self.output = np.dot(inputs,self.weights) + self.biases "
   ]
  },
  {
   "cell_type": "code",
   "execution_count": 4,
   "id": "9e95adf3",
   "metadata": {},
   "outputs": [],
   "source": [
    "#Activation classes\n",
    "\n",
    "class Activation_ReLU(object):\n",
    "    def forward(self, inputs):\n",
    "        self.output = np.maximum(0,inputs)\n",
    "\n",
    "class Activation_Softmax(object):\n",
    "    def forward(self, inputs):\n",
    "        exp_values = (np.exp(inputs - np.max(inputs,axis = 1, keepdims = True)))\n",
    "        prob = exp_values/np.sum(exp_values,axis = 1, keepdims = True)\n",
    "        self.output = prob\n"
   ]
  },
  {
   "cell_type": "code",
   "execution_count": 11,
   "id": "936a0953",
   "metadata": {},
   "outputs": [],
   "source": [
    "#Loss classes\n",
    "class Loss:\n",
    "    def calculate(self, output, y):\n",
    "        sample_losses = self.forward(output,y) #returns list of costs of each output\n",
    "        \n",
    "        #forward will depend on type of loss calculation\n",
    "        data_loss = np.mean(sample_losses)\n",
    "        return data_loss\n",
    "    \n",
    "class Loss_Crossentropy(Loss):\n",
    "    def forward(self, y_hat, y):\n",
    "        #y_pred = matrix of prediction\n",
    "        #y_true = either matrix of 1 hot encoded or vector of scalar class results\n",
    "        \n",
    "\n",
    "        y_hat_clipped = np.clip(y_hat, 1e-7, 1-1e-7)\n",
    "        \n",
    "        #calcualting ce depends on how y_true is passed in\n",
    "        if len(y.shape) == 1:\n",
    "            #scalar encoding of y_true\n",
    "            \n",
    "            #np.log naturaly does row wise operations...\n",
    "            ce = -np.log(y_hat_clipped[range(len(y)),y]) #indexing using range important\n",
    "            \n",
    "        elif len(y.shape) == 2:\n",
    "            #onehot encoding\n",
    "            ce = sum(np.log(y_hat*y),axis = 1)\n",
    "            \n",
    "        return ce #returns list of log likelihoods for each sample input\n",
    "\n",
    "class Loss_Accuracy(Loss):\n",
    "    def forward(self,y_hat,y):\n",
    "        samples= len(y_hat)\n",
    "        \n",
    "        #*No need to clip here technically\n",
    "        predictions = np.argmax(y_hat, axis = 1)\n",
    "        \n",
    "        if len(y.shape) == 1:\n",
    "            #scalar encoding (from 0)\n",
    "            b_table = [i == y[x] for i,x in enumerate(predictions)]\n",
    "            \n",
    "        if len(y.shape) == 2:\n",
    "            #one hot encoding\n",
    "            b_table = [y[i,predictions[i]] for i in range(samples)]\n",
    "            \n",
    "        return b_table\n",
    "\n",
    "class Loss_SS(Loss):\n",
    "    #sum of squares\n",
    "    def forward(self, y_hat, y):\n",
    "        samples = len(y_pred)\n",
    "        \n",
    "        #make it robust to form of y_ture\n",
    "        if len(y_true.shape) == 1:\n",
    "            #scalar encoding\n",
    "            #flip true value\n",
    "            y_pred[y_true] = 1 - y_pred[y_true]\n",
    "            SS = sum(y_pred**2, axis = 1)\n",
    "        elif len(y_true.shape) == 2:\n",
    "            #one hot encoding\n",
    "            SS = sum( (y_pred - y_true)**2, axis = 1)\n",
    "        \n",
    "        return SS #returns the squared values of squares\n"
   ]
  },
  {
   "cell_type": "code",
   "execution_count": 6,
   "id": "010add8d",
   "metadata": {},
   "outputs": [],
   "source": [
    "#Loading in the MNIST dataset\n",
    "(X, Y), (test_x, test_y) = mnist.load_data()"
   ]
  },
  {
   "cell_type": "code",
   "execution_count": 20,
   "id": "546f2e54",
   "metadata": {},
   "outputs": [
    {
     "data": {
      "text/plain": [
       "784"
      ]
     },
     "execution_count": 20,
     "metadata": {},
     "output_type": "execute_result"
    }
   ],
   "source": [
    "#testing\n",
    "l = Loss_SS()\n",
    "l.calculate(np.array([[0.5,0.1,0.2]]),np.array([[1,0,0]]))\n",
    "\n",
    "len(X[0].flatten())"
   ]
  },
  {
   "cell_type": "code",
   "execution_count": 10,
   "id": "0a0b00e0",
   "metadata": {},
   "outputs": [
    {
     "data": {
      "text/plain": [
       "[<matplotlib.lines.Line2D at 0x1ac0d5a8f40>]"
      ]
     },
     "execution_count": 10,
     "metadata": {},
     "output_type": "execute_result"
    },
    {
     "data": {
      "image/png": "[encoded data removed]",
      "text/plain": [
       "<Figure size 432x288 with 1 Axes>"
      ]
     },
     "metadata": {
      "needs_background": "light"
     },
     "output_type": "display_data"
    }
   ],
   "source": [
    "#CODE!\n",
    "plt.plot(X[1].flatten())\n"
   ]
  },
  {
   "cell_type": "code",
   "execution_count": 8,
   "id": "eba4eaa4",
   "metadata": {},
   "outputs": [
    {
     "data": {
      "text/plain": [
       "<matplotlib.image.AxesImage at 0x1ac0c84e490>"
      ]
     },
     "execution_count": 8,
     "metadata": {},
     "output_type": "execute_result"
    },
    {
     "data": {
      "image/png": "[encoded data removed]",
      "text/plain": [
       "<Figure size 201.6x201.6 with 1 Axes>"
      ]
     },
     "metadata": {
      "needs_background": "light"
     },
     "output_type": "display_data"
    }
   ],
   "source": [
    "#plotting \n",
    "fig = plt.figure(figsize = (2.8,2.8))\n",
    "ax0 = plt.subplot()\n",
    "\n",
    "image = X[7]/255\n",
    "#manually input kernel \n",
    "vert = np.array([[0,1,0],[0,1,0],[0,1,0]])\n",
    "gauss = np.array([[1,2,1],[2,4,2],[1,2,1]])\n",
    "edgex = np.array([[-1,0,1],[-2,0,2],[-1,0,1]])\n",
    "edgey = np.array([[1,2,1],[0,0,0],[-1,-2,-1]])\n",
    "kernel = gauss\n",
    "\n",
    "#image = kernelconvolution(image,gauss)\n",
    "\n",
    "#number of transformations\n",
    "t = 1\n",
    "for i in range(t):\n",
    "    image = kernelconvolution(image,kernel)\n",
    "\n",
    "\n",
    "ax0.imshow(image)\n"
   ]
  },
  {
   "cell_type": "code",
   "execution_count": null,
   "id": "4edb906d",
   "metadata": {},
   "outputs": [],
   "source": []
  }
 ],
 "metadata": {
  "kernelspec": {
   "display_name": "Python 3 (ipykernel)",
   "language": "python",
   "name": "python3"
  },
  "language_info": {
   "codemirror_mode": {
    "name": "ipython",
    "version": 3
   },
   "file_extension": ".py",
   "mimetype": "text/x-python",
   "name": "python",
   "nbconvert_exporter": "python",
   "pygments_lexer": "ipython3",
   "version": "3.9.7"
  }
 },
 "nbformat": 4,
 "nbformat_minor": 5
}
