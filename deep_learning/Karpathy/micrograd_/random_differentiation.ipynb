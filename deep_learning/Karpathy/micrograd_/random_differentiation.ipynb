{
 "cells": [
  {
   "cell_type": "code",
   "execution_count": null,
   "metadata": {},
   "outputs": [],
   "source": [
    "Learning about differentiation\n",
    "def f(x):\n",
    "    return 3*x**2 - 4*x + 5\n",
    "f(3.0)\n",
    "xs = np.arange(-5,5,0.25)\n",
    "ys = f(xs)\n",
    "plt.plot(xs,ys)\n",
    "What is the derivative at differnent points x\n",
    "\n",
    "Can be derived analytically - how you do in math class\n",
    "\n",
    "But no-one analytically derives the derivative in neural nets\n",
    "\n",
    "So moving away from a symbolic approach\n",
    "\n",
    "derivative tells us - change in f(x) for a small nudge in x\n",
    "\n",
    "derivative by first principles\n",
    "\n",
    "$ \\displaystyle L = \\lim_{h \\to  0} = \\frac{f(a + h) - f(a)}{h} $\n",
    "# numerical approximation of slope\n",
    "\n",
    "h = 0.000001\n",
    "x = 2/3\n",
    "(f(x+h) - f(x))/h\n",
    "\n",
    "# can use smaller and smaller h to get a more accurate answer\n",
    "# at some point you run into trouble becuase of floating point arrithmetic - numbers are finite in computer memory\n",
    "\n",
    "#at inflection point - function does not respond to nudges in x\n",
    "\n",
    "Now looking at a slight more complex case\n",
    "\n",
    "multivariable calculus - makes ense so skiped over\n",
    "a = 2.0\n",
    "b = -3.0\n",
    "c = 10.0\n",
    "d = a*b + c"
   ]
  }
 ],
 "metadata": {
  "language_info": {
   "name": "python"
  },
  "orig_nbformat": 4
 },
 "nbformat": 4,
 "nbformat_minor": 2
}
