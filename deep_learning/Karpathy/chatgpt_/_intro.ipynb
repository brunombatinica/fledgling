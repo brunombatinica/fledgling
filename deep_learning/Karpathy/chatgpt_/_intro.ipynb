{
 "cells": [
  {
   "cell_type": "code",
   "execution_count": null,
   "metadata": {},
   "outputs": [],
   "source": []
  },
  {
   "cell_type": "markdown",
   "metadata": {},
   "source": [
    "# attention is all you need \n",
    "\n",
    "started from machine translation - very chill paper, authors didnt realise the implications of what they had created"
   ]
  },
  {
   "cell_type": "markdown",
   "metadata": {},
   "source": [
    "chat gpt is a tokenized model but we will make a character level model"
   ]
  },
  {
   "cell_type": "markdown",
   "metadata": {},
   "source": [
    "# Nano_gpt\n",
    "\n",
    "2 files - one defines the transformer, the other trains it on a given text dataset\n",
    "\n",
    "we are going to train it on \"tiny shakespeare\"\n"
   ]
  }
 ],
 "metadata": {
  "language_info": {
   "name": "python"
  }
 },
 "nbformat": 4,
 "nbformat_minor": 2
}
