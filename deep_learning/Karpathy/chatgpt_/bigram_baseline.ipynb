{
 "cells": [
  {
   "cell_type": "code",
   "execution_count": 3,
   "metadata": {},
   "outputs": [],
   "source": [
    "import numpy as np\n",
    "import matplotlib.pyplot as plt\n",
    "import torch"
   ]
  },
  {
   "cell_type": "markdown",
   "metadata": {},
   "source": [
    "# data preparation"
   ]
  },
  {
   "cell_type": "markdown",
   "metadata": {},
   "source": [
    "## loading in"
   ]
  },
  {
   "cell_type": "code",
   "execution_count": 4,
   "metadata": {},
   "outputs": [
    {
     "name": "stdout",
     "output_type": "stream",
     "text": [
      "Microsoft Windows [Version 10.0.22621.3155]\n",
      "(c) Microsoft Corporation. All rights reserved.\n",
      "\n",
      "(base) c:\\Users\\bruno\\OneDrive\\Documents\\Code\\python\\deep_learning\\Karpathy\\chatgpt_>curl -o input.txt https://raw.githubusercontent.com/karpathy/char-rnn/master/data/tinyshakespeare/input.txt\n"
     ]
    },
    {
     "name": "stderr",
     "output_type": "stream",
     "text": [
      "  % Total    % Received % Xferd  Average Speed   Time    Time     Time  Current\n",
      "                                 Dload  Upload   Total   Spent    Left  Speed\n",
      "100 1089k  100 1089k    0     0  39968      0  0:00:27  0:00:27 --:--:-- 43651\n"
     ]
    },
    {
     "name": "stdout",
     "output_type": "stream",
     "text": [
      "\n",
      "(base) c:\\Users\\bruno\\OneDrive\\Documents\\Code\\python\\deep_learning\\Karpathy\\chatgpt_>\n",
      "(base) c:\\Users\\bruno\\OneDrive\\Documents\\Code\\python\\deep_learning\\Karpathy\\chatgpt_>#can also use os.system(\"curl ###\") as an alternative\n"
     ]
    },
    {
     "name": "stderr",
     "output_type": "stream",
     "text": [
      "'#can' is not recognized as an internal or external command,\n",
      "operable program or batch file.\n"
     ]
    },
    {
     "name": "stdout",
     "output_type": "stream",
     "text": [
      "\n",
      "(base) c:\\Users\\bruno\\OneDrive\\Documents\\Code\\python\\deep_learning\\Karpathy\\chatgpt_>"
     ]
    }
   ],
   "source": [
    "%%cmd\n",
    "curl -o input.txt https://raw.githubusercontent.com/karpathy/char-rnn/master/data/tinyshakespeare/input.txt\n",
    "\n",
    "#can also use os.system(\"curl ###\") as an alternative"
   ]
  },
  {
   "cell_type": "code",
   "execution_count": 5,
   "metadata": {},
   "outputs": [],
   "source": [
    "with open(\"input.txt\", 'r', encoding = 'utf-8') as f:\n",
    "    text = f.read()"
   ]
  },
  {
   "cell_type": "code",
   "execution_count": 6,
   "metadata": {},
   "outputs": [
    {
     "data": {
      "text/plain": [
       "1115394"
      ]
     },
     "execution_count": 6,
     "metadata": {},
     "output_type": "execute_result"
    }
   ],
   "source": [
    "len(text)"
   ]
  },
  {
   "cell_type": "code",
   "execution_count": 7,
   "metadata": {},
   "outputs": [
    {
     "data": {
      "text/plain": [
       "-1"
      ]
     },
     "execution_count": 7,
     "metadata": {},
     "output_type": "execute_result"
    }
   ],
   "source": [
    "text.find(\"Macbeth\")"
   ]
  },
  {
   "cell_type": "code",
   "execution_count": 8,
   "metadata": {},
   "outputs": [
    {
     "name": "stdout",
     "output_type": "stream",
     "text": [
      "First Citizen:\n",
      "Before we proceed any further, hear me speak.\n",
      "\n",
      "All:\n",
      "Speak, speak.\n",
      "\n",
      "First Citizen:\n",
      "You are all resolved rather to die than to famish?\n",
      "\n",
      "All:\n",
      "Resolved. resolved.\n",
      "\n",
      "First Citizen:\n",
      "First, you know Caius Marcius is chief enemy to the people.\n",
      "\n",
      "All:\n",
      "We know't, we know't.\n",
      "\n",
      "First Citizen:\n",
      "Let us kill him, and we'll have corn at our own price.\n",
      "Is't a verdict?\n",
      "\n",
      "All:\n",
      "No more talking on't; let it be done: away, away!\n",
      "\n",
      "Second Citizen:\n",
      "One word, good citizens.\n",
      "\n",
      "First Citizen:\n",
      "We are accounted poor citizens, the patricians good.\n",
      "What authority surfeits on would relieve us: if they\n",
      "would yield us but the superfluity, while it were\n",
      "wholesome, we might guess they relieved us humanely;\n",
      "but they think we are too dear: the leanness that\n",
      "afflicts us, the object of our misery, is as an\n",
      "inventory to particularise their abundance; our\n",
      "sufferance is a gain to them Let us revenge this with\n",
      "our pikes, ere we become rakes: for the gods know I\n",
      "speak this in hunger for bread, not in thirst for revenge.\n",
      "\n",
      "\n"
     ]
    }
   ],
   "source": [
    "print(text[:1000])"
   ]
  },
  {
   "cell_type": "markdown",
   "metadata": {},
   "source": [
    "## create our vocabulary \n",
    "\n",
    "since it is a character level model we just need the alphabeta and any special characters we want to use"
   ]
  },
  {
   "cell_type": "code",
   "execution_count": 9,
   "metadata": {},
   "outputs": [
    {
     "name": "stdout",
     "output_type": "stream",
     "text": [
      "\n",
      " !$&',-.3:;?ABCDEFGHIJKLMNOPQRSTUVWXYZabcdefghijklmnopqrstuvwxyz\n",
      "65\n"
     ]
    }
   ],
   "source": [
    "chars = sorted(list(set(text))) #text is just a sequence of character\n",
    "# set constructer will return set of all characters that occur in this text\n",
    "# list will give this set and arbitary ordering which is then sorted\n",
    "vocab_size = len(chars)\n",
    "print(''.join(chars))\n",
    "print(vocab_size)"
   ]
  },
  {
   "cell_type": "code",
   "execution_count": 10,
   "metadata": {},
   "outputs": [],
   "source": [
    "itos = {i:char for i,char in enumerate(chars)}\n",
    "stoi = {char:i for i,char in itos.items()}\n",
    "#[(value,key) for key,value in itos.items()]\n",
    "#itos\n"
   ]
  },
  {
   "cell_type": "markdown",
   "metadata": {},
   "source": [
    "## encoder and decoder\n",
    "\n",
    "this character level encoder is one of the simplest tokenizer or \"schema\" - other examples include\n",
    "\n",
    "SentencePiece which google uses - encodes text into integers but into different integers - subword tokenizer\n",
    "\n",
    "tiktoken - bitpair encoding tokenizer used by openai\n",
    "\n",
    "TRADE OFF: codebook size and sequence length ##"
   ]
  },
  {
   "cell_type": "code",
   "execution_count": 11,
   "metadata": {},
   "outputs": [],
   "source": [
    "encode = lambda s: [stoi[c] for c in s] \n",
    "# takes a string and outputs a list of integeres\n",
    "decode = lambda l: \"\".join([itos[i] for i in l])\n",
    "# returns a string from a list of integers\n",
    "\n"
   ]
  },
  {
   "cell_type": "code",
   "execution_count": 12,
   "metadata": {},
   "outputs": [],
   "source": [
    "import torch\n",
    "data = torch.tensor(encode(text), dtype = torch.long)\n"
   ]
  },
  {
   "cell_type": "markdown",
   "metadata": {},
   "source": [
    "## train val split\n",
    "\n",
    "simply split after a arbitrary point"
   ]
  },
  {
   "cell_type": "code",
   "execution_count": 13,
   "metadata": {},
   "outputs": [],
   "source": [
    "n = int(0.9 * len(data))\n",
    "train_data = data[:n]\n",
    "val_data = data[n:]"
   ]
  },
  {
   "cell_type": "markdown",
   "metadata": {},
   "source": [
    "# training the transformer"
   ]
  },
  {
   "cell_type": "markdown",
   "metadata": {},
   "source": [
    "we can't feed the entire code into the transformer at once - that would be extremely computationally expensive and ?perhaps unwise\n",
    "\n",
    "we want to work with chunks of the data - \n",
    "\n",
    "these chunks have a maximum length - this is refered to as block size or context length\n",
    "\n",
    "lets use blocksize = 8\n",
    "\n",
    "below take out 9 - this provides 8 different pieces of information - 2 follows 1, 3 follows 1,2, 4 follows 1,2,3 etc"
   ]
  },
  {
   "cell_type": "code",
   "execution_count": 14,
   "metadata": {},
   "outputs": [
    {
     "data": {
      "text/plain": [
       "tensor([18, 47, 56, 57, 58,  1, 15, 47, 58])"
      ]
     },
     "execution_count": 14,
     "metadata": {},
     "output_type": "execute_result"
    }
   ],
   "source": [
    "block_size = 8\n",
    "train_data[:block_size+1] #take a block of 9 and predict the last item :)"
   ]
  },
  {
   "cell_type": "code",
   "execution_count": 15,
   "metadata": {},
   "outputs": [
    {
     "name": "stdout",
     "output_type": "stream",
     "text": [
      "when input is tensor([18]) the target is: 47\n",
      "when input is tensor([18, 47]) the target is: 56\n",
      "when input is tensor([18, 47, 56]) the target is: 57\n",
      "when input is tensor([18, 47, 56, 57]) the target is: 58\n",
      "when input is tensor([18, 47, 56, 57, 58]) the target is: 1\n",
      "when input is tensor([18, 47, 56, 57, 58,  1]) the target is: 15\n",
      "when input is tensor([18, 47, 56, 57, 58,  1, 15]) the target is: 47\n",
      "when input is tensor([18, 47, 56, 57, 58,  1, 15, 47]) the target is: 58\n"
     ]
    }
   ],
   "source": [
    "x = train_data[:block_size]\n",
    "y = train_data[1:block_size+1]\n",
    "for t in range(block_size):\n",
    "    context = x[:t+1] #+1 is upto and including\n",
    "    target = y[t] \n",
    "    print(f\"when input is {context} the target is: {target}\")\n"
   ]
  },
  {
   "cell_type": "markdown",
   "metadata": {},
   "source": [
    "training like this makes the transformer more robust as gets used to seeing context raning from lengths of 1 to block_size - this allows us to start to generate from just 1 character\n",
    "\n",
    "transformer will **never** recieve context larger than block_size when predicting the next character .... hmmmmmm \n",
    "\n",
    "?Maybe this is why attnetion is useful as it encodes more context into each pieces of context - this is just my guess"
   ]
  },
  {
   "cell_type": "markdown",
   "metadata": {},
   "source": [
    "## batch dimension"
   ]
  },
  {
   "cell_type": "markdown",
   "metadata": {},
   "source": [
    "we have considered hte time dimension - sequence length but we also need to consider how many blocks will be fed in each time as a batch\n",
    "\n",
    "our batch size \n",
    "\n",
    "This is done for efficiency to keep the GPU busy - gpus are very good for parallel processing - ??? each chunk is processed independently within the batch ?????"
   ]
  },
  {
   "cell_type": "code",
   "execution_count": 16,
   "metadata": {},
   "outputs": [
    {
     "name": "stdout",
     "output_type": "stream",
     "text": [
      "inputs:\n",
      "tensor([[24, 43, 58,  5, 57,  1, 46, 43],\n",
      "        [44, 53, 56,  1, 58, 46, 39, 58],\n",
      "        [52, 58,  1, 58, 46, 39, 58,  1],\n",
      "        [25, 17, 27, 10,  0, 21,  1, 54]])\n",
      "targets:\n",
      "tensor([[43, 58,  5, 57,  1, 46, 43, 39],\n",
      "        [53, 56,  1, 58, 46, 39, 58,  1],\n",
      "        [58,  1, 58, 46, 39, 58,  1, 46],\n",
      "        [17, 27, 10,  0, 21,  1, 54, 39]])\n",
      "context tensor([24]), target: 43 \n",
      "context tensor([24, 43]), target: 58 \n",
      "context tensor([24, 43, 58]), target: 5 \n",
      "context tensor([24, 43, 58,  5]), target: 57 \n",
      "context tensor([24, 43, 58,  5, 57]), target: 1 \n",
      "context tensor([24, 43, 58,  5, 57,  1]), target: 46 \n",
      "context tensor([24, 43, 58,  5, 57,  1, 46]), target: 43 \n",
      "context tensor([24, 43, 58,  5, 57,  1, 46, 43]), target: 39 \n",
      "context tensor([44]), target: 53 \n",
      "context tensor([44, 53]), target: 56 \n",
      "context tensor([44, 53, 56]), target: 1 \n",
      "context tensor([44, 53, 56,  1]), target: 58 \n",
      "context tensor([44, 53, 56,  1, 58]), target: 46 \n",
      "context tensor([44, 53, 56,  1, 58, 46]), target: 39 \n",
      "context tensor([44, 53, 56,  1, 58, 46, 39]), target: 58 \n",
      "context tensor([44, 53, 56,  1, 58, 46, 39, 58]), target: 1 \n",
      "context tensor([52]), target: 58 \n",
      "context tensor([52, 58]), target: 1 \n",
      "context tensor([52, 58,  1]), target: 58 \n",
      "context tensor([52, 58,  1, 58]), target: 46 \n",
      "context tensor([52, 58,  1, 58, 46]), target: 39 \n",
      "context tensor([52, 58,  1, 58, 46, 39]), target: 58 \n",
      "context tensor([52, 58,  1, 58, 46, 39, 58]), target: 1 \n",
      "context tensor([52, 58,  1, 58, 46, 39, 58,  1]), target: 46 \n",
      "context tensor([25]), target: 17 \n",
      "context tensor([25, 17]), target: 27 \n",
      "context tensor([25, 17, 27]), target: 10 \n",
      "context tensor([25, 17, 27, 10]), target: 0 \n",
      "context tensor([25, 17, 27, 10,  0]), target: 21 \n",
      "context tensor([25, 17, 27, 10,  0, 21]), target: 1 \n",
      "context tensor([25, 17, 27, 10,  0, 21,  1]), target: 54 \n",
      "context tensor([25, 17, 27, 10,  0, 21,  1, 54]), target: 39 \n"
     ]
    }
   ],
   "source": [
    "torch.manual_seed(1337)\n",
    "batch_size = 4 #how many independent sequences will we process in paralle for each ?forward and backward pass? of hte transformeer\n",
    "block_size = 8 # maximum size of each input sequence or context\n",
    "\n",
    "def get_batch(split):\n",
    "    #samples random locations in the dataset to pull chunk\n",
    "    data = train_data if split == \"train\" else val_data\n",
    "    ix = torch.randint(len(data) - block_size, (batch_size,)) #size argument must be a tuple\n",
    "    x = torch.stack([data[i:i+block_size] for i in ix])\n",
    "    y = torch.stack([data[i+1:i+block_size+1] for i in ix])\n",
    "    return x, y\n",
    "\n",
    "xb, yb = get_batch(\"train\")\n",
    "print(\"inputs:\")\n",
    "print(xb)\n",
    "print(\"targets:\")\n",
    "print(yb)\n",
    "\n",
    "for b in range(batch_size): #batch dimension\n",
    "    for t in range(block_size): #time or sequence dimension\n",
    "        context = xb[b,:t+1]\n",
    "        target = yb[b,t]\n",
    "        print(f\"context {context}, target: {target} \")"
   ]
  },
  {
   "cell_type": "code",
   "execution_count": 17,
   "metadata": {},
   "outputs": [
    {
     "data": {
      "text/plain": [
       "tensor([1081275,  241627,  748567,  905830])"
      ]
     },
     "execution_count": 17,
     "metadata": {},
     "output_type": "execute_result"
    }
   ],
   "source": [
    "ix = torch.randint(len(data) - block_size, (batch_size,)) \n",
    "ix"
   ]
  },
  {
   "cell_type": "markdown",
   "metadata": {},
   "source": [
    "# feeding this data into simpler models to see how it works"
   ]
  },
  {
   "cell_type": "markdown",
   "metadata": {},
   "source": [
    "## Bi-gram"
   ]
  },
  {
   "cell_type": "code",
   "execution_count": 302,
   "metadata": {},
   "outputs": [
    {
     "name": "stdout",
     "output_type": "stream",
     "text": [
      "torch.Size([256, 65])\n",
      "tensor(4.7469, grad_fn=<NllLossBackward0>)\n"
     ]
    }
   ],
   "source": [
    "import torch\n",
    "import torch.nn as nn\n",
    "from torch.nn import functional as F\n",
    "torch.manual_seed(1337)\n",
    "\n",
    "class BigramModel(nn.Module):\n",
    "\n",
    "    def __init__(self, vocab_size):\n",
    "        super().__init__()\n",
    "        #each token directly reads off hte logits for the next toekn from a lookup table\n",
    "        self.token_embedding_table = nn.Embedding(vocab_size, vocab_size) #nn.Embedding is a thin wrapper of a tensors of size (vocab_size,vocab_size) essentially a lookup table\n",
    "\n",
    "    def forward(self, idx, targets=None):\n",
    "\n",
    "        # idx and targetsa are both (B,T) tensor of integers  \n",
    "        #simply \"embeds\" each input (B,T) -> (B,T,C)  \n",
    "        logits = self.token_embedding_table(idx) # (B,T,C) (Batch, Time, Channel aka vocab_size)\n",
    "        # we simple extract these channels and interpret them as the \"logits\" - the scores for the next character in the sequence\n",
    "\n",
    "        if targets is None:\n",
    "            # if no targets simply return the logits\n",
    "            return self.token_embedding_table(idx)\n",
    "        else:        \n",
    "            # cross entropy - see documentation - pytorch wants the logits in (-1, C,) format\n",
    "            B,T,C = logits.shape\n",
    "            # print(logits[0].shape)\n",
    "            # print(f\"{B},{T},{C}\")\n",
    "            logits = logits.view(B*T, C) #concanate all the batch by adding rows\n",
    "            targets = targets.clone().view(B*T)\n",
    "            loss = F.cross_entropy(logits, targets)\n",
    "        \n",
    "        return logits, loss\n",
    "    \n",
    "    def generate(self, idx, max_new_tokens):\n",
    "        # idx is (B,T) array of indices in hte current context\n",
    "\n",
    "        #this generates across each batch until reaching max_new_tokens\n",
    "        for _ in range(max_new_tokens):\n",
    "            #extract predictions\n",
    "            logits = self(idx) \n",
    "            \n",
    "            #since bigram each of hte C represents the probability \n",
    "            # of each possible vocab option\n",
    "            \n",
    "            # 2 options:\n",
    "\n",
    "            # 1. so we simple extract the max probability value \n",
    "            #of the last element of each batch\n",
    "            #preds = logits.max(2)[1][:,-1,:] #[1] extract positions rather than values\n",
    "            \n",
    "            # 2. We sample from this distribution\n",
    "            logits = logits[:, -1, :] # Extracts last time point - becomes (B,C)\n",
    "            probs = F.softmax(logits, dim = 1) \n",
    "            idx_next = torch.multinomial(probs, num_samples=1) # (B,1)\n",
    "\n",
    "            #and then append it to the current context\n",
    "            idx = torch.cat((idx,idx_next), dim = 1)\n",
    "\n",
    "        return idx\n",
    "            \n",
    "\n",
    "    \n",
    "\n",
    "m = BigramModel(vocab_size)\n",
    "logits, loss = m(xb,yb)\n",
    "print(logits.shape)\n",
    "print(loss) "
   ]
  },
  {
   "cell_type": "code",
   "execution_count": 175,
   "metadata": {},
   "outputs": [
    {
     "name": "stdout",
     "output_type": "stream",
     "text": [
      "tensor([[60],\n",
      "        [30],\n",
      "        [44],\n",
      "        [62]])\n",
      "torch.Size([4, 65])\n"
     ]
    },
    {
     "data": {
      "text/plain": [
       "tensor([[ 1],\n",
       "        [27],\n",
       "        [44],\n",
       "        [61]])"
      ]
     },
     "execution_count": 175,
     "metadata": {},
     "output_type": "execute_result"
    }
   ],
   "source": []
  },
  {
   "cell_type": "code",
   "execution_count": 81,
   "metadata": {},
   "outputs": [
    {
     "name": "stdout",
     "output_type": "stream",
     "text": [
      "tensor(4.8786)\n"
     ]
    }
   ],
   "source": [
    "#manually calculating the loss to understand exactly what cross\n",
    "#entropy is doing\n",
    "\n",
    "#remember logits can be interpreted as a raw score - unnormalized \n",
    "\n",
    "#nn.cross entropy is equivalent to applying log softmax followed by NLLLoss\n",
    "\n",
    "#print(F.cross_entropy(logits,yb.view(4*8)))\n",
    "\n",
    "temp = [(logits[position_index,vocab_index],logits[position_index]) for \\\n",
    " position_index,vocab_index in enumerate(yb.view(4*8))]\n",
    "\n",
    "#print([(position_index,vocab_index) for position_index,vocab_index in enumerate(yb.view(4*8))])\n",
    "\n",
    "softmax_ = torch.tensor([torch.exp(i[0])/torch.sum(torch.exp(i[1])) for i in temp])\n",
    "#print(softmax_)\n",
    "NLLLoss_ = -torch.log(softmax_) #its improtant that you mean after the log\n",
    "print(torch.mean(NLLLoss_))\n"
   ]
  },
  {
   "cell_type": "markdown",
   "metadata": {},
   "source": [
    "guessing the loss - we have 65 vocab elements\n",
    "so 1/65 average probability assigned to correct value\n",
    "log(1/65) summed over each example - here B*T = 32 - but we are just taking average\n",
    "so -log(1/65)\n",
    "\n",
    "our loss is slightly higher - karpathy says this means that out guesses aren't super diffuse but that they have entropy to them\n",
    "\n"
   ]
  },
  {
   "cell_type": "code",
   "execution_count": 213,
   "metadata": {},
   "outputs": [],
   "source": [
    "#B,T,C = out.shape\n",
    "#print(out.shape)\n",
    "#temp = out.view(B*T,C)\n",
    "#temp.T.reshape(B,C,-1)\n"
   ]
  },
  {
   "cell_type": "markdown",
   "metadata": {},
   "source": [
    "### generating from model"
   ]
  },
  {
   "cell_type": "code",
   "execution_count": 209,
   "metadata": {},
   "outputs": [
    {
     "name": "stdout",
     "output_type": "stream",
     "text": [
      "tensor([[60],\n",
      "        [30],\n",
      "        [44],\n",
      "        [62]])\n",
      "torch.Size([4, 65])\n"
     ]
    },
    {
     "data": {
      "text/plain": [
       "tensor([[60],\n",
       "        [31],\n",
       "        [ 7],\n",
       "        [ 4]])"
      ]
     },
     "execution_count": 209,
     "metadata": {},
     "output_type": "execute_result"
    }
   ],
   "source": [
    "preds = m.token_embedding_table(xb).max(2)[1][:,-1]\n",
    "print(preds.view(4,-1))\n",
    "torch.cat((xb,preds.view(4,-1)), dim = 1)\n",
    "logits =  m.token_embedding_table(xb)\n",
    "print(logits[:,-1,:].shape)\n",
    "probs = F.softmax(logits[:,-1,:], dim = 1)\n",
    "#print(probs)\n",
    "torch.multinomial(probs,1)"
   ]
  },
  {
   "cell_type": "code",
   "execution_count": 313,
   "metadata": {},
   "outputs": [
    {
     "data": {
      "text/plain": [
       "'\\nSuloucestwixt congrnonense fof wouze w d gr that gh liust p, oremet m\\nIORAn seagefathe t ty, cis foi'"
      ]
     },
     "execution_count": 313,
     "metadata": {},
     "output_type": "execute_result"
    }
   ],
   "source": [
    "idx = torch.zeros((1,1), dtype = torch.long)\n",
    "decode(m.generate(idx,100)[0].tolist())"
   ]
  },
  {
   "cell_type": "markdown",
   "metadata": {},
   "source": []
  },
  {
   "cell_type": "markdown",
   "metadata": {},
   "source": [
    "### training the bigram model"
   ]
  },
  {
   "cell_type": "code",
   "execution_count": 311,
   "metadata": {},
   "outputs": [],
   "source": [
    "#create a new moder\n",
    "m = BigramModel(vocab_size)\n",
    "\n",
    "# create a PYTORCH OPTIMIZER\n",
    "\n",
    "# using ADAM which is a more advanced and popular \n",
    "# optimizer than sgd\n",
    "optimizer = torch.optim.Adam(m.parameters(), lr = 1e-3)\n",
    "\n",
    "losses = []"
   ]
  },
  {
   "cell_type": "code",
   "execution_count": 312,
   "metadata": {},
   "outputs": [],
   "source": [
    "# training loop\n",
    "batch_size = 32\n",
    "for steps in range(10000):\n",
    "    # extract data\n",
    "    xb, yb = get_batch(\"train\")\n",
    "\n",
    "    # forward pass\n",
    "    logits, loss = m(xb,yb)\n",
    "\n",
    "    #zero gradient?\n",
    "    optimizer.zero_grad(set_to_none = True)\n",
    "    \n",
    "    #store losses - no required for training\n",
    "    with torch.no_grad():\n",
    "        losses.append(loss.item())\n",
    "\n",
    "    # backward pass - will populate the gradients\n",
    "    loss.backward()\n",
    "\n",
    "    # run optimizer - to step\n",
    "    optimizer.step()\n"
   ]
  },
  {
   "cell_type": "code",
   "execution_count": 297,
   "metadata": {},
   "outputs": [
    {
     "name": "stdout",
     "output_type": "stream",
     "text": [
      "tensor(2.5427, grad_fn=<NllLossBackward0>)\n"
     ]
    }
   ],
   "source": [
    "logits, loss = m(xb,yb)\n",
    "print(loss)"
   ]
  },
  {
   "cell_type": "code",
   "execution_count": 314,
   "metadata": {},
   "outputs": [
    {
     "data": {
      "text/plain": [
       "[<matplotlib.lines.Line2D at 0x2747d262790>]"
      ]
     },
     "execution_count": 314,
     "metadata": {},
     "output_type": "execute_result"
    },
    {
     "data": {
      "image/png": "[encoded data removed]",
      "text/plain": [
       "<Figure size 640x480 with 1 Axes>"
      ]
     },
     "metadata": {},
     "output_type": "display_data"
    }
   ],
   "source": [
    "import matplotlib as mpl\n",
    "from matplotlib import pyplot as plt\n",
    "plt.plot(losses)"
   ]
  },
  {
   "cell_type": "code",
   "execution_count": 317,
   "metadata": {},
   "outputs": [
    {
     "name": "stdout",
     "output_type": "stream",
     "text": [
      "\n",
      "t be a in he swe hilisa mathen iofu.\n",
      "Hoofoull;XBarlf nce hear;\n",
      "ThersorTovis I ient INores r\n",
      "Dea wher\n"
     ]
    }
   ],
   "source": [
    "print(decode(m.generate(idx,100)[0].tolist()))"
   ]
  },
  {
   "cell_type": "markdown",
   "metadata": {},
   "source": [
    "# this is as good as we can get when only taking one letter of context for each prediction"
   ]
  },
  {
   "cell_type": "markdown",
   "metadata": {},
   "source": [
    "## convert this code and put it into a script: bigram.py\n",
    "\n"
   ]
  }
 ],
 "metadata": {
  "kernelspec": {
   "display_name": "base",
   "language": "python",
   "name": "python3"
  },
  "language_info": {
   "codemirror_mode": {
    "name": "ipython",
    "version": 3
   },
   "file_extension": ".py",
   "mimetype": "text/x-python",
   "name": "python",
   "nbconvert_exporter": "python",
   "pygments_lexer": "ipython3",
   "version": "3.11.5"
  }
 },
 "nbformat": 4,
 "nbformat_minor": 2
}
