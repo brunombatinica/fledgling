{
 "cells": [
  {
   "cell_type": "code",
   "execution_count": 2,
   "metadata": {},
   "outputs": [],
   "source": [
    "import torch\n",
    "import numpy as np\n",
    "import matplotlib as mpl\n",
    "import matplotlib.pyplot as plt"
   ]
  },
  {
   "attachments": {},
   "cell_type": "markdown",
   "metadata": {},
   "source": [
    "# Bigram model using neural networks"
   ]
  },
  {
   "attachments": {},
   "cell_type": "markdown",
   "metadata": {},
   "source": [
    "Single imput neural netwrok\n",
    "\n",
    "Output = proability of next character (for each possible character)\n",
    "\n",
    "We can then assess fit using the nll\n",
    "\n",
    "Can use this to train a network - will be limited by the single input but it is an interesting start"
   ]
  },
  {
   "cell_type": "code",
   "execution_count": 3,
   "metadata": {},
   "outputs": [],
   "source": [
    "#read names.txt file as a massive string and then split it up by line into a big list of strings\n",
    "words = open(\"makemore/names.txt\", \"r\").read().splitlines()"
   ]
  },
  {
   "cell_type": "code",
   "execution_count": 4,
   "metadata": {},
   "outputs": [],
   "source": [
    "#old helper models\n",
    "\n",
    "chars = [\".\"] + sorted(list(set(\"\".join(words)))) \n",
    "\n",
    "#s to i lookup table (dictionary)\n",
    "stoi = {s:i for i,s in enumerate(chars)}\n",
    "\n",
    "itos = {i:s for s,i in stoi.items()}\n",
    "\n"
   ]
  },
  {
   "attachments": {},
   "cell_type": "markdown",
   "metadata": {},
   "source": [
    "# step 1: create the training set"
   ]
  },
  {
   "cell_type": "code",
   "execution_count": 5,
   "metadata": {},
   "outputs": [
    {
     "data": {
      "text/plain": [
       "tensor([ 0,  5, 13, 13,  1])"
      ]
     },
     "execution_count": 5,
     "metadata": {},
     "output_type": "execute_result"
    }
   ],
   "source": [
    "\n",
    "# creating a training set of bigrams\n",
    "xs, ys = [], []\n",
    "\n",
    "for w in words[:1]:\n",
    "    #go through each word\n",
    "\n",
    "    #adding a start and end character\n",
    "    chs = [\".\"] + list(w) + [\".\"]\n",
    "\n",
    "    #extract all bigrams from within that word\n",
    "    #nice iterator version - zip works to shortest list\n",
    "    for ch1, ch2 in zip(chs,chs[1:]):\n",
    "        ix1 = stoi[ch1]\n",
    "        ix2 = stoi[ch2]\n",
    "        \n",
    "        xs.append(ix1)\n",
    "        ys.append(ix2)         \n",
    "\n",
    "#convert to tensors\n",
    "\n",
    "#.tensor() infers dtype\n",
    "#.Tensor() infers float32\n",
    "xs = torch.tensor(xs)\n",
    "ys = torch.tensor(ys)\n",
    "\n",
    "xs"
   ]
  },
  {
   "attachments": {},
   "cell_type": "markdown",
   "metadata": {},
   "source": [
    "How do we plug this into the neural net\n",
    "\n",
    "You cant just plug in an integer index??? as this would activate the neuron artificially - kind of makes sense (z would activate a lot - while a only a litte)\n",
    "\n",
    "OHE bitch :)\n",
    "\n"
   ]
  },
  {
   "cell_type": "code",
   "execution_count": 6,
   "metadata": {},
   "outputs": [
    {
     "data": {
      "text/plain": [
       "<matplotlib.image.AxesImage at 0x1e8541389a0>"
      ]
     },
     "execution_count": 6,
     "metadata": {},
     "output_type": "execute_result"
    },
    {
     "data": {
      "image/png": "[encoded data removed]",
      "text/plain": [
       "<Figure size 640x480 with 1 Axes>"
      ]
     },
     "metadata": {},
     "output_type": "display_data"
    }
   ],
   "source": [
    "#takes a LongTensor with index values of shape * and return a tensor of shape *,num_classes that have 0s everywhere except where the index of last dimension amtches hte corresponidng value of hte tensor input\n",
    "\n",
    "import torch.nn.functional as F\n",
    "\n",
    "#Long = 64 bit integer (standard is 32)\n",
    "xenc = F.one_hot(xs, num_classes= 27).float()\n",
    "#want to convert to floating point numbers before we feed into network\n",
    "#one_hot doesnt take a dtype argument so need to cast to float\n",
    "\n",
    "plt.imshow(xenc)\n",
    "\n"
   ]
  },
  {
   "attachments": {},
   "cell_type": "markdown",
   "metadata": {},
   "source": [
    "# construct out first neuron\n",
    "\n",
    "neuron = w @ x + b"
   ]
  },
  {
   "cell_type": "code",
   "execution_count": 7,
   "metadata": {},
   "outputs": [
    {
     "data": {
      "text/plain": [
       "tensor([[ 1.2487],\n",
       "        [ 0.6155],\n",
       "        [ 0.3999],\n",
       "        [ 0.3999],\n",
       "        [-1.3477]])"
      ]
     },
     "execution_count": 7,
     "metadata": {},
     "output_type": "execute_result"
    }
   ],
   "source": [
    "#initialize weights\n",
    "W = torch.randn((27,1)) #fills tensor with random numbers drawn from a normal distribution\n",
    "W #column vector of 27 numbers\n",
    "\n",
    "xenc @ W #matrix multiplication operator \n",
    "\n",
    "#?pytorch does this in parrallel\n"
   ]
  },
  {
   "attachments": {},
   "cell_type": "markdown",
   "metadata": {},
   "source": [
    "# Cosntructing first layer\n"
   ]
  },
  {
   "cell_type": "code",
   "execution_count": 8,
   "metadata": {},
   "outputs": [
    {
     "name": "stdout",
     "output_type": "stream",
     "text": [
      "tensor(0.4854, grad_fn=<SelectBackward0>)\n",
      "tensor(0.4854, grad_fn=<SumBackward0>)\n"
     ]
    }
   ],
   "source": [
    "g = torch.Generator().manual_seed(2147483647+1)\n",
    "\n",
    "#initialize weights\n",
    "W = torch.randn((27,27), generator = g,requires_grad = True) #fills tensor with random numbers drawn from a normal distribution\n",
    "#number of rows = determined by input - needs to match number of columns\n",
    "#numebr of columns = number of neurons in this layer\n",
    "W #column vector of 27 numbers\n",
    "\n",
    "xenc @ W #rows correspond to each input, columns to each neuron\n",
    "\n",
    "#?pytorch does this in parrallel\n",
    "\n",
    "\n",
    "#e.g. [3,13] = firing rate of 13th neuron on 3rd input achieved by dot product of 3rd row of input matrix and 13th column of first layer matrix\n",
    "\n",
    "#sanity checl\n",
    "print((xenc @ W)[3,13])\n",
    "print((xenc[3,:] * W[:,13]).sum())"
   ]
  },
  {
   "attachments": {},
   "cell_type": "markdown",
   "metadata": {},
   "source": [
    "# Matrix multiplication\n",
    "Matrix multiplication is Row * Column\n",
    "\n",
    "a,b @ b,c => a,c\n",
    "\n",
    "makes sense as each row a is an array of size b (columns) which is hten dot producted with each column in matrix 2 which is an array of 27 rows\n",
    "The dot procudt will multiply and add each of these operations\n",
    "\n",
    "MAKES SENSE"
   ]
  },
  {
   "attachments": {},
   "cell_type": "markdown",
   "metadata": {},
   "source": [
    "Will leave this as the whole NN\n",
    "\n",
    "just 1 linear layer\n",
    "\n",
    "No bias, no activation, no extra layers\n",
    "\n",
    "The dumbest possible neural net"
   ]
  },
  {
   "attachments": {},
   "cell_type": "markdown",
   "metadata": {},
   "source": [
    "Still need a way of interpreting the neural network outputs\n",
    "\n",
    "ideally like the way of normalizing counts to give probabilities\n",
    "\n",
    "## WE CAN **SOFTMAX**\n",
    "\n",
    "?same as interpreting the scores as being **\"log counts\"** or **\"logits\"**\n",
    "\n",
    "so when we exponentiate it it becomes equivalent to out N array rows\n"
   ]
  },
  {
   "cell_type": "code",
   "execution_count": 10,
   "metadata": {},
   "outputs": [
    {
     "data": {
      "text/plain": [
       "tensor([[0.0049, 0.0959, 0.0281, 0.0703, 0.0961, 0.0573, 0.0241, 0.0135, 0.0093,\n",
       "         0.1416, 0.0225, 0.0217, 0.0513, 0.0106, 0.0097, 0.0291, 0.0229, 0.0273,\n",
       "         0.0325, 0.0275, 0.0446, 0.0501, 0.0214, 0.0093, 0.0120, 0.0354, 0.0310],\n",
       "        [0.0426, 0.0113, 0.0266, 0.0507, 0.2370, 0.0580, 0.0421, 0.0094, 0.0136,\n",
       "         0.0297, 0.0044, 0.0782, 0.1028, 0.0146, 0.0172, 0.0288, 0.0263, 0.0319,\n",
       "         0.0248, 0.0210, 0.0063, 0.0057, 0.0309, 0.0269, 0.0298, 0.0089, 0.0205],\n",
       "        [0.0973, 0.0235, 0.2014, 0.0240, 0.0510, 0.0341, 0.0644, 0.0075, 0.0197,\n",
       "         0.0502, 0.0316, 0.0015, 0.0192, 0.0321, 0.0127, 0.0035, 0.0148, 0.0052,\n",
       "         0.0262, 0.0415, 0.0086, 0.0445, 0.0277, 0.0252, 0.1034, 0.0042, 0.0250],\n",
       "        [0.0973, 0.0235, 0.2014, 0.0240, 0.0510, 0.0341, 0.0644, 0.0075, 0.0197,\n",
       "         0.0502, 0.0316, 0.0015, 0.0192, 0.0321, 0.0127, 0.0035, 0.0148, 0.0052,\n",
       "         0.0262, 0.0415, 0.0086, 0.0445, 0.0277, 0.0252, 0.1034, 0.0042, 0.0250],\n",
       "        [0.0737, 0.0209, 0.0476, 0.0551, 0.0063, 0.0142, 0.0167, 0.0051, 0.0122,\n",
       "         0.0116, 0.0320, 0.0533, 0.0237, 0.0118, 0.0198, 0.2460, 0.0092, 0.0353,\n",
       "         0.0055, 0.0383, 0.0065, 0.0263, 0.0173, 0.0184, 0.0208, 0.1495, 0.0231]],\n",
       "       grad_fn=<DivBackward0>)"
      ]
     },
     "execution_count": 10,
     "metadata": {},
     "output_type": "execute_result"
    }
   ],
   "source": [
    "logits = (xenc @ W)\n",
    "counts = logits.exp()\n",
    "probs = counts / counts.sum(1, keepdims =  True)\n",
    "probs\n",
    "\n",
    "#each row can be interpreted as probability distribution"
   ]
  },
  {
   "cell_type": "code",
   "execution_count": 11,
   "metadata": {},
   "outputs": [
    {
     "name": "stdout",
     "output_type": "stream",
     "text": [
      "-----------\n",
      "input into the neural net: 0\n",
      "output probabilities from hte neural net: tensor([0.0049, 0.0959, 0.0281, 0.0703, 0.0961, 0.0573, 0.0241, 0.0135, 0.0093,\n",
      "        0.1416, 0.0225, 0.0217, 0.0513, 0.0106, 0.0097, 0.0291, 0.0229, 0.0273,\n",
      "        0.0325, 0.0275, 0.0446, 0.0501, 0.0214, 0.0093, 0.0120, 0.0354, 0.0310],\n",
      "       grad_fn=<SelectBackward0>)\n",
      "label (actual next character) 5\n",
      "prob assigned to net character: 0.05734505504369736\n",
      "logl -2.858668565750122\n",
      "nll: tensor(2.8587, grad_fn=<NegBackward0>)\n",
      "-----------\n",
      "input into the neural net: 5\n",
      "output probabilities from hte neural net: tensor([0.0426, 0.0113, 0.0266, 0.0507, 0.2370, 0.0580, 0.0421, 0.0094, 0.0136,\n",
      "        0.0297, 0.0044, 0.0782, 0.1028, 0.0146, 0.0172, 0.0288, 0.0263, 0.0319,\n",
      "        0.0248, 0.0210, 0.0063, 0.0057, 0.0309, 0.0269, 0.0298, 0.0089, 0.0205],\n",
      "       grad_fn=<SelectBackward0>)\n",
      "label (actual next character) 13\n",
      "prob assigned to net character: 0.01458862517029047\n",
      "logl -4.227513313293457\n",
      "nll: tensor(4.2275, grad_fn=<NegBackward0>)\n",
      "-----------\n",
      "input into the neural net: 13\n",
      "output probabilities from hte neural net: tensor([0.0973, 0.0235, 0.2014, 0.0240, 0.0510, 0.0341, 0.0644, 0.0075, 0.0197,\n",
      "        0.0502, 0.0316, 0.0015, 0.0192, 0.0321, 0.0127, 0.0035, 0.0148, 0.0052,\n",
      "        0.0262, 0.0415, 0.0086, 0.0445, 0.0277, 0.0252, 0.1034, 0.0042, 0.0250],\n",
      "       grad_fn=<SelectBackward0>)\n",
      "label (actual next character) 13\n",
      "prob assigned to net character: 0.03206939995288849\n",
      "logl -3.4398529529571533\n",
      "nll: tensor(3.4399, grad_fn=<NegBackward0>)\n",
      "-----------\n",
      "input into the neural net: 13\n",
      "output probabilities from hte neural net: tensor([0.0973, 0.0235, 0.2014, 0.0240, 0.0510, 0.0341, 0.0644, 0.0075, 0.0197,\n",
      "        0.0502, 0.0316, 0.0015, 0.0192, 0.0321, 0.0127, 0.0035, 0.0148, 0.0052,\n",
      "        0.0262, 0.0415, 0.0086, 0.0445, 0.0277, 0.0252, 0.1034, 0.0042, 0.0250],\n",
      "       grad_fn=<SelectBackward0>)\n",
      "label (actual next character) 1\n",
      "prob assigned to net character: 0.023486651480197906\n",
      "logl -3.7513229846954346\n",
      "nll: tensor(3.7513, grad_fn=<NegBackward0>)\n",
      "-----------\n",
      "input into the neural net: 1\n",
      "output probabilities from hte neural net: tensor([0.0737, 0.0209, 0.0476, 0.0551, 0.0063, 0.0142, 0.0167, 0.0051, 0.0122,\n",
      "        0.0116, 0.0320, 0.0533, 0.0237, 0.0118, 0.0198, 0.2460, 0.0092, 0.0353,\n",
      "        0.0055, 0.0383, 0.0065, 0.0263, 0.0173, 0.0184, 0.0208, 0.1495, 0.0231],\n",
      "       grad_fn=<SelectBackward0>)\n",
      "label (actual next character) 0\n",
      "prob assigned to net character: 0.07367578893899918\n",
      "logl -2.608081102371216\n",
      "nll: tensor(2.6081, grad_fn=<NegBackward0>)\n",
      "average nll (loss): 3.3770878314971924\n"
     ]
    }
   ],
   "source": [
    "nlls = torch.zeros(5)\n",
    "for i in range(5):\n",
    "    #i-th bigram\n",
    "    x = xs[i].item()\n",
    "    y = ys[i].item()\n",
    "\n",
    "    print(\"-----------\")\n",
    "    print(\"input into the neural net:\",x)\n",
    "    print('output probabilities from hte neural net:',probs[i])\n",
    "    print(\"label (actual next character)\",y)\n",
    "\n",
    "    p = probs[i, y]\n",
    "\n",
    "    print(\"prob assigned to net character:\", p.item())\n",
    "\n",
    "    logp = torch.log(p)\n",
    "    print('logl',logp.item())\n",
    "\n",
    "    nll = -logp\n",
    "    print(\"nll:\",nll)   \n",
    "    nlls[i] = nll\n",
    "\n",
    "#average negative log likelihood\n",
    "print(\"average nll (loss):\",nlls.mean().item())"
   ]
  },
  {
   "attachments": {},
   "cell_type": "markdown",
   "metadata": {},
   "source": [
    "# **Training the network !!!!**\n",
    "\n",
    "## optimizing W"
   ]
  },
  {
   "attachments": {},
   "cell_type": "markdown",
   "metadata": {},
   "source": [
    "Each of these steps can be differentiated across\n"
   ]
  },
  {
   "attachments": {},
   "cell_type": "markdown",
   "metadata": {},
   "source": [
    "So to train network we want to optimize W (a 27 x 27 matrix) such that the probabilities coming out are pretty good\n",
    "\n",
    "Measure pretty good using our loss function ... \n"
   ]
  },
  {
   "attachments": {},
   "cell_type": "markdown",
   "metadata": {},
   "source": [
    "### **Will look very simliar to micrograd**"
   ]
  },
  {
   "attachments": {},
   "cell_type": "markdown",
   "metadata": {},
   "source": [
    "# **1. Forward pass**"
   ]
  },
  {
   "cell_type": "code",
   "execution_count": 12,
   "metadata": {},
   "outputs": [
    {
     "data": {
      "text/plain": [
       "tensor(3.3771, grad_fn=<NegBackward0>)"
      ]
     },
     "execution_count": 12,
     "metadata": {},
     "output_type": "execute_result"
    }
   ],
   "source": [
    "#forward pass \n",
    "logits = (xenc @ W)\n",
    "counts = logits.exp()\n",
    "probs = counts / counts.sum(1, keepdims =  True)\n",
    "#probs #probs = ypred\n",
    "\n",
    "#evaluate logg - use nll (common for classification while MSE is more common for regression)\n",
    "#to pluck out corresponding prbabilities can use \n",
    "# Negative log likelihood\n",
    "loss = -probs[np.arange(len(ys)),ys].log().mean()\n",
    "loss\n"
   ]
  },
  {
   "attachments": {},
   "cell_type": "markdown",
   "metadata": {},
   "source": [
    "# **2. Backward pass**"
   ]
  },
  {
   "cell_type": "code",
   "execution_count": 13,
   "metadata": {},
   "outputs": [],
   "source": [
    "#backward pass\n",
    "#1. Reset gradients - setting it to None is more efficient\n",
    "W.grad = None \n",
    "#2. computing gradients\n",
    "loss.backward()"
   ]
  },
  {
   "attachments": {},
   "cell_type": "markdown",
   "metadata": {},
   "source": [
    "# 3. Optimize/update weights"
   ]
  },
  {
   "attachments": {},
   "cell_type": "markdown",
   "metadata": {},
   "source": [
    "Pytorch keeps track of all of the operations under the hood"
   ]
  },
  {
   "cell_type": "code",
   "execution_count": 14,
   "metadata": {},
   "outputs": [],
   "source": [
    "#update weights\n",
    "learning_rate = 0.1\n",
    "W.data += -learning_rate * W.grad"
   ]
  },
  {
   "attachments": {},
   "cell_type": "markdown",
   "metadata": {},
   "source": [
    "## Indexing test\n"
   ]
  },
  {
   "cell_type": "code",
   "execution_count": 15,
   "metadata": {},
   "outputs": [
    {
     "name": "stdout",
     "output_type": "stream",
     "text": [
      "torch.Size([5, 27])\n",
      "tensor([ 5, 13, 13,  1,  0])\n",
      "tensor(0.0573, grad_fn=<SelectBackward0>) tensor(0.0146, grad_fn=<SelectBackward0>) tensor(0.0321, grad_fn=<SelectBackward0>) tensor(0.0235, grad_fn=<SelectBackward0>) tensor(0.0737, grad_fn=<SelectBackward0>)\n",
      "probs[torch.arange(5),ys]=tensor([0.0573, 0.0146, 0.0321, 0.0235, 0.0737], grad_fn=<IndexBackward0>)\n",
      "probs[1:5,ys]=tensor([[0.0580, 0.0146, 0.0146, 0.0113, 0.0426],\n",
      "        [0.0341, 0.0321, 0.0321, 0.0235, 0.0973],\n",
      "        [0.0341, 0.0321, 0.0321, 0.0235, 0.0973],\n",
      "        [0.0142, 0.0118, 0.0118, 0.0209, 0.0737]], grad_fn=<IndexBackward0>)\n"
     ]
    }
   ],
   "source": [
    "#indexing test\n",
    "print(probs.shape)\n",
    "print(ys)\n",
    "print(probs[0,5],probs[1,13],probs[2,13],probs[3,1],probs[4,0])\n",
    "#print(F.one_hot(ys,num_classes = 27).T)\n",
    "#print((probs @ F.one_hot(ys,num_classes = 27).float().T)) \n",
    "\n",
    "#better to just apply the mask over (element size multiplication and then sum rows)\n",
    "#print( (probs * F.one_hot(ys,num_classes = 27).float() ).sum(dim = 1)) #.sum(dim = 1, keepdim = False)\n",
    "\n",
    "#karpathys way\n",
    "torch.arange(5)\n",
    "print(f\"{probs[torch.arange(5),ys]=}\")\n",
    "#but \n",
    "print(f\"{probs[1:5,ys]=}\")"
   ]
  },
  {
   "attachments": {},
   "cell_type": "markdown",
   "metadata": {},
   "source": [
    "# **everything cleaned up**\n"
   ]
  },
  {
   "attachments": {},
   "cell_type": "markdown",
   "metadata": {},
   "source": [
    "helper functions at top"
   ]
  },
  {
   "cell_type": "code",
   "execution_count": 16,
   "metadata": {},
   "outputs": [],
   "source": [
    "xs, ys = [],[]\n",
    "for word in words:\n",
    "    word = \".\" + word + \".\"\n",
    "    for ch1, ch2 in zip(word,word[1:]):\n",
    "        ix1 = stoi[ch1]\n",
    "        ix2 = stoi[ch2]\n",
    "        xs.append(ix1)\n",
    "        ys.append(ix2)\n",
    "xs = torch.tensor(xs)\n",
    "ys = torch.tensor(ys)\n",
    "\n",
    "#initialize network\n",
    "g = torch.Generator().manual_seed(2147483647)\n",
    "W = torch.randn((27,27), generator = g, requires_grad = True)"
   ]
  },
  {
   "cell_type": "code",
   "execution_count": 17,
   "metadata": {},
   "outputs": [
    {
     "name": "stdout",
     "output_type": "stream",
     "text": [
      "3.758953809738159\n",
      "3.3710803985595703\n",
      "3.1540329456329346\n",
      "3.0203664302825928\n",
      "2.9277069568634033\n",
      "2.8604001998901367\n",
      "2.809727430343628\n",
      "2.7701010704040527\n",
      "2.738072633743286\n",
      "2.711496114730835\n",
      "2.6890032291412354\n",
      "2.6696887016296387\n",
      "2.6529300212860107\n",
      "2.638277053833008\n",
      "2.6253879070281982\n",
      "2.613990545272827\n",
      "2.60386323928833\n",
      "2.5948219299316406\n",
      "2.586712121963501\n",
      "2.57940411567688\n",
      "2.572789192199707\n",
      "2.5667765140533447\n",
      "2.5612881183624268\n",
      "2.5562589168548584\n",
      "2.551633834838867\n",
      "2.547366142272949\n",
      "2.5434155464172363\n",
      "2.5397486686706543\n",
      "2.536336660385132\n",
      "2.5331544876098633\n",
      "2.5301806926727295\n",
      "2.5273966789245605\n",
      "2.5247862339019775\n",
      "2.522334575653076\n",
      "2.520029067993164\n",
      "2.5178580284118652\n",
      "2.515810489654541\n",
      "2.513878345489502\n",
      "2.512052059173584\n",
      "2.510324001312256\n",
      "2.5086872577667236\n",
      "2.5071346759796143\n",
      "2.5056614875793457\n",
      "2.504261016845703\n",
      "2.502929210662842\n",
      "2.5016613006591797\n",
      "2.5004522800445557\n",
      "2.4992990493774414\n",
      "2.498197317123413\n",
      "2.497144937515259\n",
      "2.496137857437134\n",
      "2.495173692703247\n",
      "2.4942495822906494\n",
      "2.493363380432129\n",
      "2.4925124645233154\n",
      "2.4916954040527344\n",
      "2.4909098148345947\n",
      "2.4901537895202637\n",
      "2.4894261360168457\n",
      "2.488725185394287\n",
      "2.488049268722534\n",
      "2.4873974323272705\n",
      "2.4867680072784424\n",
      "2.4861602783203125\n",
      "2.4855728149414062\n",
      "2.4850046634674072\n",
      "2.4844553470611572\n",
      "2.4839234352111816\n",
      "2.483408212661743\n",
      "2.4829084873199463\n",
      "2.482424259185791\n",
      "2.48195481300354\n",
      "2.481499195098877\n",
      "2.4810571670532227\n",
      "2.4806275367736816\n",
      "2.480210065841675\n",
      "2.479804515838623\n",
      "2.479410409927368\n",
      "2.4790265560150146\n",
      "2.4786534309387207\n",
      "2.4782907962799072\n",
      "2.4779369831085205\n",
      "2.4775924682617188\n",
      "2.477257251739502\n",
      "2.4769303798675537\n",
      "2.476611375808716\n",
      "2.4763011932373047\n",
      "2.4759981632232666\n",
      "2.4757025241851807\n",
      "2.475414276123047\n",
      "2.475132703781128\n",
      "2.474858045578003\n",
      "2.4745900630950928\n",
      "2.474327564239502\n",
      "2.474071741104126\n",
      "2.4738218784332275\n",
      "2.4735772609710693\n",
      "2.4733383655548096\n",
      "2.47310471534729\n",
      "2.4728758335113525\n"
     ]
    }
   ],
   "source": [
    "#gradient descent\n",
    "epochs = 100\n",
    "for i in range(epochs):\n",
    "    #forward pass\n",
    "    xenc = F.one_hot(xs,num_classes = 27).float() #n,27   and W: 27 * 27\n",
    "    logits = xenc @ W #predict log counts\n",
    "    counts = logits.exp()\n",
    "    probs = counts / counts.sum(dim = 1, keepdim = True) #broadcasting super important here, keep dim keeps it a colum vector\n",
    "    loss = -probs[np.arange(len(ys)),ys].log().mean()\n",
    "    print(loss.item())\n",
    "\n",
    "    #bacwkard pass\n",
    "    W.grad = None\n",
    "    loss.backward()\n",
    "\n",
    "    #optimize\n",
    "    learning_rate = 50\n",
    "    W.data += -learning_rate*W.grad\n",
    "\n"
   ]
  },
  {
   "attachments": {},
   "cell_type": "markdown",
   "metadata": {},
   "source": [
    "# What number do we expect from the loss\n",
    "\n",
    "Actaully what we had with the original bigram model\n",
    "\n",
    "As that was mathematically the perfect way of doing this - model and model evaluation were the same thing\n",
    "\n",
    "Neural network has no additional information\n",
    "\n",
    "But gradient based approach is more flexible so we can use more information now....\n",
    "\n",
    "We will now start feeding more info into more and more complicated neural nets \n",
    "\n",
    "But hte outputs will alwasy be interpreted as logits essentially have hte same operations done on them\n",
    "\n",
    "\n",
    "Bigram cant be extended due to combinatorial explosion"
   ]
  },
  {
   "attachments": {},
   "cell_type": "markdown",
   "metadata": {},
   "source": [
    "# Some notes\n",
    "\n",
    "OHE essentially just selects a certain input neuron which is just an array of weights - and the highest of these weights will be selected\n",
    "\n",
    "W = 27 x 27\n",
    "\n",
    "So is literally just like hte bigram table - equivalent\n",
    "\n",
    "But W is technically interpreted as the LOGITS so W.exp() ~ bigram table\n",
    "\n",
    "Almost the same ?they might appraoch each other with training - \n",
    "IT IS ALMOST IDENTICAL AFTER TRAINING\n",
    "\n"
   ]
  },
  {
   "attachments": {},
   "cell_type": "markdown",
   "metadata": {},
   "source": [
    "# Laplace regularization\n",
    "\n",
    "adding \"fake\" counts into the bigram table\n",
    "\n",
    "as you add counts the probability dist comes more and more uniform\n",
    "\n",
    "Gradient based equivalent to smoothing\n",
    "\n",
    "hmmmmmm\n",
    "\n",
    "\n",
    "when W are all 0 - the probs come out uniform\n",
    "\n",
    "So incentivizing W to be near zero this is conceptually equivalent to label smoothing\n",
    "\n",
    "More inenticized this is in hte loss function - the more smooth this will be\n",
    "\n",
    "How do we do this....\n"
   ]
  },
  {
   "attachments": {},
   "cell_type": "markdown",
   "metadata": {},
   "source": [
    "# ADD A REGULARIZATIAON LOSS\n",
    "\n",
    "e.g. $ L2 = W^2 $\n",
    "\n",
    "## **TOTAL_LOSS = DATA_LOSS + REG_LOSS **\n",
    "\n",
    "makes sense\n",
    "\n",
    "network is trying to balance the 2 - wowowow"
   ]
  },
  {
   "attachments": {},
   "cell_type": "markdown",
   "metadata": {},
   "source": [
    "# sampling from this neural netowrk"
   ]
  },
  {
   "cell_type": "code",
   "execution_count": 21,
   "metadata": {},
   "outputs": [
    {
     "name": "stdout",
     "output_type": "stream",
     "text": [
      "junide.\n",
      "janasah.\n",
      "p.\n",
      "cfay.\n",
      "a.\n"
     ]
    }
   ],
   "source": [
    "g = torch.Generator().manual_seed(2147483647)\n",
    "\n",
    "for i in range(5):\n",
    "\n",
    "    out = []\n",
    "    ix = 0\n",
    "    while True:\n",
    "        #before\n",
    "        #p = P[ix]\n",
    "\n",
    "        #now with NN\n",
    "\n",
    "        xenc = F.one_hot(torch.tensor([ix]),num_classes = 27).float()\n",
    "        logits = xenc @ W\n",
    "        counts = logits.exp()\n",
    "        p = counts / counts.sum(dim = 1, keepdims = True)\n",
    "\n",
    "        ix = torch.multinomial(p, num_samples=  1,replacement= True, generator= g).item()\n",
    "        out.append(itos[ix])\n",
    "        if ix == 0:\n",
    "            break\n",
    "\n",
    "    print(\"\".join(out))\n",
    "    "
   ]
  },
  {
   "attachments": {},
   "cell_type": "markdown",
   "metadata": {},
   "source": [
    "\n",
    "## **Misc information:**\n",
    "https://web.stanford.edu/~jurafsky/slp3/3.pdf"
   ]
  },
  {
   "attachments": {},
   "cell_type": "markdown",
   "metadata": {},
   "source": [
    "# Exercises\n"
   ]
  },
  {
   "attachments": {},
   "cell_type": "markdown",
   "metadata": {},
   "source": [
    "## **E01: trigram model**"
   ]
  },
  {
   "cell_type": "code",
   "execution_count": 136,
   "metadata": {},
   "outputs": [
    {
     "data": {
      "text/plain": [
       "tensor([[ 0,  0],\n",
       "        [ 0,  5],\n",
       "        [ 5, 13],\n",
       "        [13, 13],\n",
       "        [13,  1],\n",
       "        [ 1,  0]])"
      ]
     },
     "execution_count": 136,
     "metadata": {},
     "output_type": "execute_result"
    }
   ],
   "source": [
    "xs, ys = [],[]\n",
    "for word in words[:1]:\n",
    "    word = \"..\" + word + \"..\"\n",
    "    for (ch1,ch2), ch3 in zip(zip(word,word[1:]), word[2:]):\n",
    "        ix1 = stoi[ch1]\n",
    "        ix2 = stoi[ch2]\n",
    "        ix3 = stoi[ch3]\n",
    "        xs.append((ix1,ix2))\n",
    "        ys.append(ix3)\n",
    "xs = torch.tensor(xs)\n",
    "ys = torch.tensor(ys)\n",
    "\n",
    "xs"
   ]
  },
  {
   "cell_type": "code",
   "execution_count": 139,
   "metadata": {},
   "outputs": [
    {
     "name": "stdout",
     "output_type": "stream",
     "text": [
      "torch.Size([6, 2])\n",
      "torch.Size([6, 2, 27])\n"
     ]
    }
   ],
   "source": [
    "#one hot encoding\n",
    "xenc = F.one_hot(xs,num_classes= 27)\n",
    "print(xs.shape)\n",
    "print(xenc.shape)\n",
    "\n",
    "# reshape inputs into a matrix of n rows and 27*2 columns - like stacking the OHE vectors onto each other\n",
    "xenc_ = xenc.reshape(xenc.shape[0],-1)\n",
    "\n",
    "# #\n",
    "# out_tensor = torch.zeros((4,54))\n",
    "# for i,matrix in enumerate(xenc):\n",
    "#     output_mat = torch.cat((matrix[0], matrix[1]),dim = 0)\n",
    "#     out_tensor[i] = output_mat\n",
    "    \n",
    "# fig = plt.figure()\n",
    "# ax1 = fig.add_subplot(211)\n",
    "# ax1.imshow(xenc_)\n",
    "# ax2 = fig.add_subplot(212)\n",
    "# ax2.imshow(out_tensor)"
   ]
  },
  {
   "cell_type": "code",
   "execution_count": 143,
   "metadata": {},
   "outputs": [],
   "source": [
    "#initialize network\n",
    "g = torch.Generator().manual_seed(2147483647)\n",
    "W = torch.randn((54,27), generator = g, requires_grad = True)"
   ]
  },
  {
   "cell_type": "code",
   "execution_count": 144,
   "metadata": {},
   "outputs": [
    {
     "name": "stdout",
     "output_type": "stream",
     "text": [
      "4.316141128540039\n",
      "3.961319923400879\n",
      "3.618088722229004\n",
      "3.288017511367798\n",
      "2.9728591442108154\n",
      "2.674419641494751\n",
      "2.3943991661071777\n",
      "2.134226083755493\n",
      "1.8949337005615234\n",
      "1.6770890951156616\n",
      "1.480785846710205\n",
      "1.3056743144989014\n",
      "1.1510084867477417\n",
      "1.0156900882720947\n",
      "0.898322343826294\n",
      "0.7972742915153503\n",
      "0.7107650637626648\n",
      "0.6369583010673523\n",
      "0.5740584135055542\n",
      "0.5203924179077148\n",
      "0.47446492314338684\n",
      "0.4349842071533203\n",
      "0.400861531496048\n",
      "0.3711954355239868\n",
      "0.34524670243263245\n",
      "0.3224129378795624\n",
      "0.3022027313709259\n",
      "0.2842157185077667\n",
      "0.26812341809272766\n",
      "0.2536559998989105\n",
      "0.2405896782875061\n",
      "0.2287389487028122\n",
      "0.21794778108596802\n",
      "0.20808535814285278\n",
      "0.19904069602489471\n",
      "0.1907193660736084\n",
      "0.18304049968719482\n",
      "0.17593465745449066\n",
      "0.16934175789356232\n",
      "0.16320963203907013\n",
      "0.15749286115169525\n",
      "0.15215159952640533\n",
      "0.14715109765529633\n",
      "0.14246021211147308\n",
      "0.1380518525838852\n",
      "0.13390161097049713\n",
      "0.12998813390731812\n",
      "0.12629206478595734\n",
      "0.12279597669839859\n",
      "0.11948464065790176\n",
      "0.11634368449449539\n",
      "0.11336076259613037\n",
      "0.11052439361810684\n",
      "0.10782420635223389\n",
      "0.10525069385766983\n",
      "0.10279545187950134\n",
      "0.10045046359300613\n",
      "0.09820866584777832\n",
      "0.09606342762708664\n",
      "0.09400878101587296\n",
      "0.09203913062810898\n",
      "0.0901494026184082\n",
      "0.08833494037389755\n",
      "0.08659125119447708\n",
      "0.08491446822881699\n",
      "0.08330073952674866\n",
      "0.08174668997526169\n",
      "0.08024904876947403\n",
      "0.0788048803806305\n",
      "0.07741139829158783\n",
      "0.07606593519449234\n",
      "0.0747661218047142\n",
      "0.07350979000329971\n",
      "0.07229465246200562\n",
      "0.0711187943816185\n",
      "0.06998037546873093\n",
      "0.06887761503458023\n",
      "0.06780894845724106\n",
      "0.06677274405956268\n",
      "0.06576766818761826\n",
      "0.0647922158241272\n",
      "0.0638451799750328\n",
      "0.0629253089427948\n",
      "0.06203148141503334\n",
      "0.061162661761045456\n",
      "0.0603177584707737\n",
      "0.05949580669403076\n",
      "0.05869586393237114\n",
      "0.05791717395186424\n",
      "0.057158809155225754\n",
      "0.056419942528009415\n",
      "0.055699992924928665\n",
      "0.05499817430973053\n",
      "0.05431373044848442\n",
      "0.05364605411887169\n",
      "0.052994709461927414\n",
      "0.05235888436436653\n",
      "0.05173811316490173\n",
      "0.051131997257471085\n",
      "0.05053984001278877\n"
     ]
    }
   ],
   "source": [
    "#gradient descent\n",
    "epochs = 100\n",
    "for i in range(epochs):\n",
    "    #forward pass\n",
    "    xenc = F.one_hot(xs,num_classes = 27).float() #n,27   and W: 54 * 27\n",
    "    x_input = xenc.reshape(xenc.shape[0],-1)\n",
    "    logits = x_input @ W #predict log counts\n",
    "    counts = logits.exp()\n",
    "    probs = counts / counts.sum(dim = 1, keepdim = True) #broadcasting super important here, keep dim keeps it a colum vector\n",
    "    loss = -probs[np.arange(len(ys)),ys].log().mean()\n",
    "    print(loss.item())\n",
    "\n",
    "    #bacwkard pass\n",
    "    W.grad = None\n",
    "    loss.backward()\n",
    "\n",
    "    #optimize\n",
    "    learning_rate = 1\n",
    "    W.data += -learning_rate*W.grad"
   ]
  },
  {
   "attachments": {},
   "cell_type": "markdown",
   "metadata": {},
   "source": [
    "# E02: train test split"
   ]
  },
  {
   "cell_type": "code",
   "execution_count": 235,
   "metadata": {},
   "outputs": [],
   "source": [
    "xs, ys = [],[]\n",
    "for word in words[:]:\n",
    "    word = \"..\" + word + \"..\"\n",
    "    for (ch1,ch2), ch3 in zip(zip(word,word[1:]), word[2:]):\n",
    "        ix1 = stoi[ch1]\n",
    "        ix2 = stoi[ch2]\n",
    "        ix3 = stoi[ch3]\n",
    "        xs.append((ix1,ix2))\n",
    "        ys.append(ix3)\n",
    "xs = torch.tensor(xs)\n",
    "ys = torch.tensor(ys)"
   ]
  },
  {
   "cell_type": "code",
   "execution_count": 236,
   "metadata": {},
   "outputs": [],
   "source": [
    "#reshape data\n",
    "xenc = F.one_hot(xs,num_classes = 27).float() #n,27   and W: 54 * 27\n",
    "x_input = xenc.reshape(xenc.shape[0],-1)"
   ]
  },
  {
   "cell_type": "code",
   "execution_count": 237,
   "metadata": {},
   "outputs": [
    {
     "name": "stdout",
     "output_type": "stream",
     "text": [
      "260179\n"
     ]
    }
   ],
   "source": [
    "# train test split\n",
    "inds= torch.arange(xs.shape[0])\n",
    "print(len(inds))\n",
    "\n",
    "#hacky solution before I fully GROK datasets\n",
    "# seems like datasets are generators so can use \n",
    "# list comprehension \n",
    "# dont grok but can work okay for now\n",
    "train_dev, test = torch.utils.data.random_split(inds,\n",
    "                                            [int(np.floor(len(inds)*0.9)),\n",
    "                                             int(np.ceil(len(inds)*0.1))])\n",
    "train, dev = torch.utils.data.random_split(train_dev,\n",
    "                                            [int(np.floor(len(train_dev)*0.9)),\n",
    "                                             int(np.ceil(len(train_dev)*0.1))])\n",
    "\n",
    "train_ind = torch.tensor([i for i in train])\n",
    "dev_ind = torch.tensor([i for i in dev])\n",
    "test_ind = torch.tensor([i for i in test])\n",
    "\n",
    "x_train, x_dev, x_test = x_input[train_ind], x_input[dev_ind], x_input[test_ind]\n",
    "y_train, y_dev, y_test = ys[train_ind], ys[dev_ind], ys[test_ind]"
   ]
  },
  {
   "cell_type": "code",
   "execution_count": 242,
   "metadata": {},
   "outputs": [],
   "source": [
    "#initialize network\n",
    "g = torch.Generator().manual_seed(2147483647)\n",
    "W = torch.randn((54,27), generator = g, requires_grad = True)"
   ]
  },
  {
   "cell_type": "code",
   "execution_count": 256,
   "metadata": {},
   "outputs": [
    {
     "data": {
      "text/plain": [
       "<matplotlib.legend.Legend at 0x1e5803fb4f0>"
      ]
     },
     "execution_count": 256,
     "metadata": {},
     "output_type": "execute_result"
    },
    {
     "data": {
      "image/png": "[encoded data removed]",
      "text/plain": [
       "<Figure size 640x480 with 1 Axes>"
      ]
     },
     "metadata": {},
     "output_type": "display_data"
    }
   ],
   "source": [
    "def forward(X,y,weights,reg_lambda = 0.01):\n",
    "    #helper function for forward pass\n",
    "    #returns losses\n",
    "    #forward pass\n",
    "    logits = X @ weights #predict log counts\n",
    "    counts = logits.exp()\n",
    "    probs = counts / counts.sum(dim = 1, keepdim = True) #broadcasting super important here, keep dim keeps it a colum vector\n",
    "    data_loss = -probs[np.arange(len(y)),y].log().mean()\n",
    "\n",
    "    #regularization_loss (L2)\n",
    "    reg_loss = reg_lambda * (W**2).mean()\n",
    "\n",
    "    #total_loss\n",
    "    total_loss = data_loss + reg_loss\n",
    "\n",
    "    return total_loss, data_loss, reg_loss\n",
    "\n",
    "\n",
    "#gradient descent\n",
    "epochs = 200\n",
    "total_train_losses = torch.zeros((epochs,1))\n",
    "data_train_losses = torch.zeros((epochs,1))\n",
    "reg_train_losses = torch.zeros((epochs,1))\n",
    "total_dev_losses = torch.zeros((epochs,1))\n",
    "for i in range(epochs):\n",
    "    #forward pass train\n",
    "    total_train_loss, data_train_loss, reg_train_loss = \\\n",
    "    forward(x_train,y_train,W,reg_lambda = 0.0001)\n",
    "    \n",
    "    #forward pass dev\n",
    "    total_dev_loss, data_dev_loss, reg_dev_loss = \\\n",
    "    forward(x_dev,y_dev,W,reg_lambda = 0.0001)\n",
    "    \n",
    "    # #saving losses\n",
    "    total_train_losses[i] = total_train_loss\n",
    "    data_train_losses[i] = data_train_loss\n",
    "    reg_train_losses[i] = reg_train_loss\n",
    "    total_dev_losses[i] = total_dev_loss\n",
    "\n",
    "    #bacwkard pass\n",
    "    W.grad = None\n",
    "    total_train_loss.backward()\n",
    "\n",
    "    #optimize\n",
    "    learning_rate = 10\n",
    "    W.data += -learning_rate*W.grad\n",
    "\n",
    "plt.plot(total_train_losses.detach(),label = \"total train\")\n",
    "#plt.plot(data_train_losses.detach(), alpha = 0.8,label = \"data train\")\n",
    "#plt.plot(reg_train_losses.detach(), alpha = 0.8, label = \"reg train\")\n",
    "plt.plot(total_dev_losses.detach(), label = \"total dev\")\n",
    "plt.legend(loc = \"upper right\")"
   ]
  },
  {
   "attachments": {},
   "cell_type": "markdown",
   "metadata": {},
   "source": [
    "# E03: find best regularization"
   ]
  },
  {
   "cell_type": "code",
   "execution_count": 257,
   "metadata": {},
   "outputs": [],
   "source": [
    "# use data from above just initialize a new model\n",
    "#initialize network\n",
    "g = torch.Generator().manual_seed(2147483647)\n",
    "W = torch.randn((54,27), generator = g, requires_grad = True)\n",
    "\n",
    "\n"
   ]
  },
  {
   "cell_type": "code",
   "execution_count": 258,
   "metadata": {},
   "outputs": [
    {
     "data": {
      "text/plain": [
       "[1e-10,\n",
       " 1e-09,\n",
       " 1e-08,\n",
       " 1e-07,\n",
       " 1e-06,\n",
       " 1e-05,\n",
       " 0.0001,\n",
       " 0.001,\n",
       " 0.01,\n",
       " 0.1,\n",
       " 1.0,\n",
       " 10.0,\n",
       " 100.0,\n",
       " 1000.0,\n",
       " 10000.0]"
      ]
     },
     "execution_count": 258,
     "metadata": {},
     "output_type": "execute_result"
    }
   ],
   "source": [
    "exponents = np.arange(-10,5)\n",
    "lambdas = [10.0**e for e in exponents]\n",
    "lambdas"
   ]
  },
  {
   "cell_type": "code",
   "execution_count": 259,
   "metadata": {},
   "outputs": [],
   "source": [
    "dev_losses = []\n",
    "\n",
    "for lam in lambdas:\n",
    "\n",
    "    #gradient descent\n",
    "    epochs = 200\n",
    "    total_train_losses = torch.zeros((epochs,1))\n",
    "    data_train_losses = torch.zeros((epochs,1))\n",
    "    reg_train_losses = torch.zeros((epochs,1))\n",
    "    total_dev_losses = torch.zeros((epochs,1))\n",
    "\n",
    "    for i in range(epochs):\n",
    "        #forward pass train\n",
    "        total_train_loss, data_train_loss, reg_train_loss = \\\n",
    "        forward(x_train,y_train,W,reg_lambda = lam)\n",
    "        \n",
    "        #forward pass dev\n",
    "        total_dev_loss, data_dev_loss, reg_dev_loss = \\\n",
    "        forward(x_dev,y_dev,W,reg_lambda = lam)\n",
    "        \n",
    "        # #saving losses\n",
    "        total_train_losses[i] = total_train_loss\n",
    "        data_train_losses[i] = data_train_loss\n",
    "        reg_train_losses[i] = reg_train_loss\n",
    "        total_dev_losses[i] = total_dev_loss\n",
    "\n",
    "        #bacwkard pass\n",
    "        W.grad = None\n",
    "        total_train_loss.backward()\n",
    "\n",
    "        #optimize\n",
    "        learning_rate = 20\n",
    "        W.data += -learning_rate*W.grad\n",
    "\n",
    "    # plt.plot(total_train_losses.detach(),label = \"total train\")\n",
    "    # plt.plot(data_train_losses.detach(), alpha = 0.8,label = \"data train\")\n",
    "    # plt.plot(reg_train_losses.detach(), alpha = 0.8, label = \"reg train\")\n",
    "    # plt.plot(total_dev_losses.detach(), label = \"total dev\")\n",
    "    # plt.legend(loc = \"upper right\")\n",
    "\n",
    "    dev_losses.append(data_dev_loss.item())"
   ]
  },
  {
   "cell_type": "code",
   "execution_count": 255,
   "metadata": {},
   "outputs": [
    {
     "data": {
      "image/png": "[encoded data removed]",
      "text/plain": [
       "<Figure size 640x480 with 1 Axes>"
      ]
     },
     "metadata": {},
     "output_type": "display_data"
    }
   ],
   "source": [
    "plt.plot(lambdas,dev_losses)\n",
    "plt.xscale(\"log\")"
   ]
  },
  {
   "attachments": {},
   "cell_type": "markdown",
   "metadata": {},
   "source": [
    "Model is too simple to overfit :)"
   ]
  },
  {
   "attachments": {},
   "cell_type": "markdown",
   "metadata": {},
   "source": [
    "# E04: jsut indexing -boring\n",
    "\n"
   ]
  },
  {
   "attachments": {},
   "cell_type": "markdown",
   "metadata": {},
   "source": [
    "# E05: F.cross_entropy"
   ]
  },
  {
   "attachments": {},
   "cell_type": "markdown",
   "metadata": {},
   "source": [
    "the cross entropy of hte distribution q relative tot eh distribution p over a given set is\n",
    "\n",
    "$ H(p,q) = -Ep[log(q)] $\n",
    "\n",
    "where Ep is hte expected value operator with respect to the distribution p\n",
    "\n",
    "***Maths stuff***\n",
    "\n",
    "the definition may be formulated using the kullback-leibler divergence\n",
    "\n",
    "\n",
    "**** For discrede probability distributions p and q witht he same support X this means\n",
    "\n",
    "$ H(P,Q) = - \\sum p(x)logq(x)$\n",
    "\n"
   ]
  },
  {
   "cell_type": "code",
   "execution_count": null,
   "metadata": {},
   "outputs": [],
   "source": [
    "# use data from above just initialize a new model\n",
    "#initialize network\n",
    "g = torch.Generator().manual_seed(2147483647)\n",
    "W = torch.randn((54,27), generator = g, requires_grad = True)\n",
    "\n",
    "\n"
   ]
  },
  {
   "cell_type": "code",
   "execution_count": null,
   "metadata": {},
   "outputs": [],
   "source": [
    "def forward_cross_entropy(X,y,weights,reg_lambda = 0.01):\n",
    "    #helper function for forward pass\n",
    "    #returns losses\n",
    "    #forward pass\n",
    "    logits = X @ weights #predict log counts\n",
    "    counts = logits.exp()\n",
    "    probs = counts / counts.sum(dim = 1, keepdim = True) #broadcasting super important here, keep dim keeps it a colum vector\n",
    "    data_loss = -probs[np.arange(len(y)),y].log().mean()\n",
    "\n",
    "    #regularization_loss (L2)\n",
    "    reg_loss = reg_lambda * (W**2).sum()\n",
    "\n",
    "    #total_loss\n",
    "    total_loss = data_loss + reg_loss\n",
    "\n",
    "    return total_loss, data_loss, reg_loss\n",
    "\n",
    "dev_losses = []\n",
    "\n",
    "for lam in lambdas:\n",
    "\n",
    "    #gradient descent\n",
    "    epochs = 200\n",
    "    total_train_losses = torch.zeros((epochs,1))\n",
    "    data_train_losses = torch.zeros((epochs,1))\n",
    "    reg_train_losses = torch.zeros((epochs,1))\n",
    "    total_dev_losses = torch.zeros((epochs,1))\n",
    "\n",
    "    for i in range(epochs):\n",
    "        #forward pass train\n",
    "        total_train_loss, data_train_loss, reg_train_loss = \\\n",
    "        forward(x_train,y_train,W,reg_lambda = lam)\n",
    "        \n",
    "        #forward pass dev\n",
    "        total_dev_loss, data_dev_loss, reg_dev_loss = \\\n",
    "        forward(x_dev,y_dev,W,reg_lambda = lam)\n",
    "        \n",
    "        # #saving losses\n",
    "        total_train_losses[i] = total_train_loss\n",
    "        data_train_losses[i] = data_train_loss\n",
    "        reg_train_losses[i] = reg_train_loss\n",
    "        total_dev_losses[i] = total_dev_loss\n",
    "\n",
    "        #bacwkard pass\n",
    "        W.grad = None\n",
    "        total_train_loss.backward()\n",
    "\n",
    "        #optimize\n",
    "        learning_rate = 20\n",
    "        W.data += -learning_rate*W.grad\n",
    "\n",
    "    # plt.plot(total_train_losses.detach(),label = \"total train\")\n",
    "    # plt.plot(data_train_losses.detach(), alpha = 0.8,label = \"data train\")\n",
    "    # plt.plot(reg_train_losses.detach(), alpha = 0.8, label = \"reg train\")\n",
    "    # plt.plot(total_dev_losses.detach(), label = \"total dev\")\n",
    "    # plt.legend(loc = \"upper right\")\n",
    "\n",
    "    dev_losses.append(data_dev_loss.item())"
   ]
  }
 ],
 "metadata": {
  "kernelspec": {
   "display_name": "base",
   "language": "python",
   "name": "python3"
  },
  "language_info": {
   "codemirror_mode": {
    "name": "ipython",
    "version": 3
   },
   "file_extension": ".py",
   "mimetype": "text/x-python",
   "name": "python",
   "nbconvert_exporter": "python",
   "pygments_lexer": "ipython3",
   "version": "3.9.16"
  },
  "orig_nbformat": 4
 },
 "nbformat": 4,
 "nbformat_minor": 2
}
