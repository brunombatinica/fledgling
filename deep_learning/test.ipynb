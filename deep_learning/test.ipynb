{
 "cells": [
  {
   "cell_type": "code",
   "execution_count": 2,
   "metadata": {},
   "outputs": [],
   "source": [
    "import torch"
   ]
  },
  {
   "cell_type": "code",
   "execution_count": 18,
   "metadata": {},
   "outputs": [],
   "source": [
    "device = torch.device(\"cuda\")\n",
    "size = 10000\n",
    "cpu_matrix = torch.ones((size,size))\n",
    "gpu_matrix = torch.ones((size,size),device = device)"
   ]
  },
  {
   "cell_type": "code",
   "execution_count": 19,
   "metadata": {},
   "outputs": [
    {
     "data": {
      "text/plain": [
       "tensor([[10000., 10000., 10000.,  ..., 10000., 10000., 10000.],\n",
       "        [10000., 10000., 10000.,  ..., 10000., 10000., 10000.],\n",
       "        [10000., 10000., 10000.,  ..., 10000., 10000., 10000.],\n",
       "        ...,\n",
       "        [10000., 10000., 10000.,  ..., 10000., 10000., 10000.],\n",
       "        [10000., 10000., 10000.,  ..., 10000., 10000., 10000.],\n",
       "        [10000., 10000., 10000.,  ..., 10000., 10000., 10000.]])"
      ]
     },
     "execution_count": 19,
     "metadata": {},
     "output_type": "execute_result"
    }
   ],
   "source": [
    "cpu_matrix @ cpu_matrix"
   ]
  },
  {
   "cell_type": "code",
   "execution_count": 20,
   "metadata": {},
   "outputs": [
    {
     "data": {
      "text/plain": [
       "tensor([[10000., 10000., 10000.,  ..., 10000., 10000., 10000.],\n",
       "        [10000., 10000., 10000.,  ..., 10000., 10000., 10000.],\n",
       "        [10000., 10000., 10000.,  ..., 10000., 10000., 10000.],\n",
       "        ...,\n",
       "        [10000., 10000., 10000.,  ..., 10000., 10000., 10000.],\n",
       "        [10000., 10000., 10000.,  ..., 10000., 10000., 10000.],\n",
       "        [10000., 10000., 10000.,  ..., 10000., 10000., 10000.]],\n",
       "       device='cuda:0')"
      ]
     },
     "execution_count": 20,
     "metadata": {},
     "output_type": "execute_result"
    }
   ],
   "source": [
    "gpu_matrix @ gpu_matrix"
   ]
  }
 ],
 "metadata": {
  "kernelspec": {
   "display_name": "base",
   "language": "python",
   "name": "python3"
  },
  "language_info": {
   "codemirror_mode": {
    "name": "ipython",
    "version": 3
   },
   "file_extension": ".py",
   "mimetype": "text/x-python",
   "name": "python",
   "nbconvert_exporter": "python",
   "pygments_lexer": "ipython3",
   "version": "3.11.5"
  }
 },
 "nbformat": 4,
 "nbformat_minor": 2
}
